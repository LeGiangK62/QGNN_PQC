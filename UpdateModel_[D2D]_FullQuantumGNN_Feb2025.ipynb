{
 "cells": [
  {
   "cell_type": "code",
   "execution_count": 1,
   "metadata": {
    "id": "itBfKEi3zRJI"
   },
   "outputs": [],
   "source": [
    "%%capture\n",
    "## Latex Plot\n",
    "!sudo apt install cm-super dvipng texlive-latex-extra texlive-latex-recommended"
   ]
  },
  {
   "cell_type": "markdown",
   "metadata": {
    "id": "7txisRa_WJ-L"
   },
   "source": [
    "# Problem formulation"
   ]
  },
  {
   "cell_type": "code",
   "execution_count": 2,
   "metadata": {
    "id": "eZg7YlM_dIm4"
   },
   "outputs": [],
   "source": [
    "# %%capture\n",
    "# !pip install gurobipy"
   ]
  },
  {
   "cell_type": "code",
   "execution_count": 3,
   "metadata": {
    "id": "76ESQ_KHyFya"
   },
   "outputs": [],
   "source": [
    "# %%capture\n",
    "# !pip install pennylane"
   ]
  },
  {
   "cell_type": "markdown",
   "metadata": {
    "id": "Si1CnkIk5Qxp"
   },
   "source": [
    "## Graphlet Function"
   ]
  },
  {
   "cell_type": "code",
   "execution_count": 4,
   "metadata": {
    "id": "1rj9Kvr5yRJO"
   },
   "outputs": [],
   "source": [
    "import random\n",
    "\n",
    "def graphleting(num_nodes, graphlet_size=4, overlap_nodes=1):\n",
    "    graphlet_indices = []  # Store the indices of nodes in each graphlet\n",
    "\n",
    "    # Generate indices for overlapping partitions\n",
    "    indices = list(range(num_nodes))\n",
    "    random.shuffle(indices)  # Shuffle nodes (optional)\n",
    "\n",
    "    i = 0\n",
    "    while i < num_nodes - (graphlet_size - 1):\n",
    "        sub_indices = indices[i:i + graphlet_size]  # Select nodes for this graphlet\n",
    "        graphlet_indices.append(sub_indices)  # Store node indices\n",
    "\n",
    "        # Move forward while keeping overlap\n",
    "        i += (graphlet_size - overlap_nodes)\n",
    "\n",
    "    return graphlet_indices  # Return indices too\n",
    "\n",
    "def star_subgraph(adjacency_matrix, subgraph_size=4):\n",
    "    num_nodes = adjacency_matrix.shape[0]\n",
    "    subgraph_indices = []\n",
    "    uncovered_neighbors = set(range(num_nodes))  # all nodes need to be neighbors at least once\n",
    "\n",
    "    for center_node in range(num_nodes):\n",
    "        neighbors = [i for i in range(num_nodes) if adjacency_matrix[center_node, i] != 0 and i != center_node]\n",
    "        k = subgraph_size - 1\n",
    "\n",
    "        # Remove center node from candidates\n",
    "        candidates = [n for n in neighbors if n != center_node]\n",
    "\n",
    "        # First try to cover uncovered nodes\n",
    "        available_new = list(set(candidates) & uncovered_neighbors)\n",
    "\n",
    "        if len(available_new) >= k:\n",
    "            sampled_neighbors = random.sample(available_new, k)\n",
    "        else:\n",
    "            # Use uncovered + random fill\n",
    "            sampled_neighbors = available_new\n",
    "            remaining_k = k - len(available_new)\n",
    "            remaining_pool = list(set(candidates) - set(sampled_neighbors))\n",
    "            sampled_neighbors += random.sample(remaining_pool, remaining_k) if remaining_pool else []\n",
    "\n",
    "        # Update uncovered list\n",
    "        uncovered_neighbors -= set(sampled_neighbors)\n",
    "\n",
    "        subgraph = [center_node] + sampled_neighbors\n",
    "        subgraph_indices.append(subgraph)\n",
    "\n",
    "    return subgraph_indices"
   ]
  },
  {
   "cell_type": "code",
   "execution_count": 5,
   "metadata": {
    "id": "aEvKR2aKB3sB"
   },
   "outputs": [],
   "source": [
    "import networkx as nx\n",
    "import matplotlib.pyplot as plt\n",
    "\n",
    "def visualize_star_subgraphs(adjacency_matrix, subgraph_list, num_to_plot=5, layout='spring'):\n",
    "    \"\"\"\n",
    "    Visualize star-shaped subgraphs (only center ↔ neighbors edges).\n",
    "\n",
    "    Args:\n",
    "        adjacency_matrix: [N x N] full adjacency matrix (numpy or torch)\n",
    "        subgraph_list: list of [center, neighbor1, ..., neighbor_k]\n",
    "        num_to_plot: how many subgraphs to visualize\n",
    "        layout: 'spring', 'circular', or 'kamada_kawai'\n",
    "    \"\"\"\n",
    "    if hasattr(adjacency_matrix, 'numpy'):\n",
    "        adjacency_matrix = adjacency_matrix.numpy()\n",
    "\n",
    "    plt.figure(figsize=(5 * num_to_plot, 5))\n",
    "\n",
    "    for idx, sub_nodes in enumerate(subgraph_list[:num_to_plot]):\n",
    "        plt.subplot(1, num_to_plot, idx + 1)\n",
    "\n",
    "        center = sub_nodes[0]\n",
    "        neighbors = sub_nodes[1:]\n",
    "\n",
    "        # Create a new STAR graph manually\n",
    "        G_star = nx.Graph()\n",
    "        G_star.add_node(center)\n",
    "        for n in neighbors:\n",
    "            G_star.add_edge(center, n)\n",
    "\n",
    "        # Layout\n",
    "        if layout == 'spring':\n",
    "            pos = nx.spring_layout(G_star, seed=42)\n",
    "        elif layout == 'circular':\n",
    "            pos = nx.circular_layout(G_star)\n",
    "        else:\n",
    "            pos = nx.kamada_kawai_layout(G_star)\n",
    "\n",
    "        # Color center differently\n",
    "        node_colors = ['tomato' if node == center else 'skyblue' for node in G_star.nodes]\n",
    "\n",
    "        nx.draw(G_star, pos, with_labels=True, node_color=node_colors, edge_color='gray',\n",
    "                node_size=800, font_size=10)\n",
    "        plt.title(f\"Star Subgraph {idx + 1} (center: {center})\")\n",
    "\n",
    "    plt.tight_layout()\n",
    "    plt.show()\n"
   ]
  },
  {
   "cell_type": "code",
   "execution_count": 6,
   "metadata": {
    "id": "v0XVbaOCB6BF"
   },
   "outputs": [],
   "source": [
    "# adj = torch.randint(0, 2, (20, 20))  # random adjacency matrix for testing\n",
    "# # Example with fully connected adjacency matrix\n",
    "# adj = torch.ones(20, 20) - torch.eye(20)  # fully connected, no self-loops\n",
    "\n",
    "# subs = star_subgraph(adj, subgraph_size=5)\n",
    "# visualize_star_subgraphs(adj, subs, num_to_plot=5)\n"
   ]
  },
  {
   "cell_type": "code",
   "execution_count": 7,
   "metadata": {
    "id": "ycTQ9QYl0YIq"
   },
   "outputs": [],
   "source": [
    "import numpy\n",
    "\n",
    "# # Parameters\n",
    "# N = 4  # Number of UEs\n",
    "# p = 5  # Transmit power of each UE\n",
    "# I0 = 0.5  # Interference to all UEs\n",
    "# n0 = 1  # Noise power\n",
    "\n",
    "# # Random channel gains (h_n) for each UE\n",
    "# h = np.random.rand(N)"
   ]
  },
  {
   "cell_type": "code",
   "execution_count": 8,
   "metadata": {
    "id": "2fcCTCQ4zlIS"
   },
   "outputs": [],
   "source": [
    "def calculate_sum_SINR(alpha, h, p, I0, n0):\n",
    "    sum_SINR = 0\n",
    "    N = len(h)\n",
    "    for n in range(N):\n",
    "        # Calculate interference for user n\n",
    "        interference_n = numpy.sum([alpha[i] * I0 for i in range(N) if i != n])\n",
    "        SINR_n = p * alpha[n] * h[n] / (interference_n + n0)\n",
    "        sum_SINR += SINR_n\n",
    "    return sum_SINR\n"
   ]
  },
  {
   "cell_type": "markdown",
   "metadata": {
    "id": "F4nal2w60DHD"
   },
   "source": [
    "## Exhaustive Search"
   ]
  },
  {
   "cell_type": "code",
   "execution_count": 9,
   "metadata": {
    "id": "PgkAyfRLe1Va"
   },
   "outputs": [],
   "source": [
    "import itertools\n",
    "\n",
    "# # Exhaustive search: generate all possible combinations of alpha\n",
    "# best_alpha = None\n",
    "# best_sum_SINR = -np.inf  # Initialize with a very low value\n",
    "\n",
    "# # Iterate over all 2^N possible combinations of alpha (binary values)\n",
    "# all_sum_rate = []\n",
    "# for alpha_combination in itertools.product([0, 1], repeat=N):\n",
    "#     alpha = np.array(alpha_combination)  # Convert tuple to array\n",
    "#     sum_SINR = calculate_sum_SINR(alpha, h, p, I0, n0)\n",
    "#     all_sum_rate.append(sum_SINR)\n",
    "#     # Update the best solution if this combination gives a higher sum SINR\n",
    "#     if sum_SINR > best_sum_SINR:\n",
    "#         best_sum_SINR = sum_SINR\n",
    "#         best_alpha = alpha\n",
    "\n",
    "# # Output the optimal solution\n",
    "# print(\"Optimal alpha:\", best_alpha)\n",
    "# print(\"Optimal sum of SINR:\", best_sum_SINR)\n"
   ]
  },
  {
   "cell_type": "code",
   "execution_count": 10,
   "metadata": {
    "id": "CMf8xM_f0Fwa"
   },
   "outputs": [],
   "source": [
    "def exhaustive_search_best_alpha(N, h, p, I0, n0):\n",
    "    best_alpha = None\n",
    "    best_sum_SINR = -numpy.inf  # Initialize with a very low value\n",
    "\n",
    "    for alpha_combination in itertools.product([0, 1], repeat=N):\n",
    "        alpha = numpy.array(alpha_combination)\n",
    "        sum_SINR = calculate_sum_SINR(alpha, h, p, I0, n0)\n",
    "\n",
    "        if sum_SINR > best_sum_SINR:\n",
    "            best_sum_SINR = sum_SINR\n",
    "            best_alpha = alpha\n",
    "\n",
    "    return best_alpha, best_sum_SINR"
   ]
  },
  {
   "cell_type": "markdown",
   "metadata": {
    "id": "7TKvbJns0zai"
   },
   "source": [
    "## Create Dataset"
   ]
  },
  {
   "cell_type": "code",
   "execution_count": 11,
   "metadata": {
    "colab": {
     "base_uri": "https://localhost:8080/"
    },
    "id": "UrHVv73H0OuE",
    "outputId": "52102762-aac8-489b-8722-a9e3e41da156"
   },
   "outputs": [
    {
     "name": "stdout",
     "output_type": "stream",
     "text": [
      "[0 1 0 1 1] 12.37435892221091\n"
     ]
    }
   ],
   "source": [
    "# Parameters\n",
    "N = 5  # Number of UEs\n",
    "p = 10  # Transmit power of each UE\n",
    "I0 = 0.5  # Interference to all UEs\n",
    "n0 = 1  # Noise power\n",
    "\n",
    "# Random channel gains (h_n) for each UE\n",
    "h = numpy.random.rand(N)\n",
    "\n",
    "best_a, best_s = exhaustive_search_best_alpha(N, h, p, I0, n0)\n",
    "print(best_a, best_s)"
   ]
  },
  {
   "cell_type": "markdown",
   "metadata": {
    "id": "4lpOYfiwLYCx"
   },
   "source": [
    "## Fractional Programming"
   ]
  },
  {
   "cell_type": "code",
   "execution_count": 12,
   "metadata": {
    "id": "n4h3pccfSKaK"
   },
   "outputs": [],
   "source": [
    "def calculate_lambda(alpha, h, p, I0, n0):\n",
    "    N = h.shape[0]\n",
    "    lambda_vals = numpy.zeros(N)\n",
    "    for n in range(N):\n",
    "        interference_n = numpy.sum([alpha[i] * I0 for i in range(N) if i != n])\n",
    "        lambda_vals[n] = numpy.sqrt(h[n] * p * alpha[n]) / (interference_n + n0)\n",
    "    return lambda_vals"
   ]
  },
  {
   "cell_type": "code",
   "execution_count": 13,
   "metadata": {
    "id": "UhWGP24xt0zp"
   },
   "outputs": [],
   "source": [
    "def recalculate_objective(alpha, lambda_vals, h, p, I0, n0):\n",
    "    obj_value = 0\n",
    "    for n in range(N):\n",
    "        interference = numpy.sum([alpha[i] * I0 for i in range(N) if i != n])\n",
    "        obj_value += (2 * lambda_vals[n] * numpy.sqrt(alpha[n] * h[n] * p) - lambda_vals[n] ** 2 * (interference + n0))\n",
    "    return obj_value"
   ]
  },
  {
   "cell_type": "code",
   "execution_count": 14,
   "metadata": {
    "colab": {
     "base_uri": "https://localhost:8080/"
    },
    "id": "Nmhg99pWWNjM",
    "outputId": "123100fa-970d-4051-ecb7-c5a4482bcd24"
   },
   "outputs": [
    {
     "name": "stdout",
     "output_type": "stream",
     "text": [
      "Restricted license - for non-production use only - expires 2026-11-23\n",
      "Optimal alpha values: [0. 1. 0. 0. 1.]\n",
      "Maximum sum SINR Value: 12.325530600052929\n"
     ]
    }
   ],
   "source": [
    "import numpy as np\n",
    "import gurobipy as gp\n",
    "from gurobipy import GRB\n",
    "\n",
    "\n",
    "num_random_restarts = 10  # Number of times to try with different random initializations\n",
    "\n",
    "best_alpha = None\n",
    "best_objVal = -numpy.inf\n",
    "\n",
    "for restart in range(num_random_restarts):\n",
    "\n",
    "    max_iter = 100\n",
    "    epsilon = 1e-10\n",
    "    sum_SINR_list = []\n",
    "    # Step 1: Init value\n",
    "    # alpha = np.ones(N)\n",
    "    alpha = numpy.random.randint(0, 2, N)\n",
    "    lambda_vals = calculate_lambda(alpha, h, p, I0, n0)\n",
    "    objVal_old = numpy.inf\n",
    "    # Iteration loop\n",
    "    for iteration in range(max_iter):\n",
    "\n",
    "        # Step 2: Solve optimization problem with Gurobi\n",
    "        model = gp.Model(\"SINR_Optimization\")\n",
    "        model.setParam('OutputFlag', 0)\n",
    "        model.setParam('OptimalityTol', 1e-9)  # Tighten optimality tolerance\n",
    "        model.setParam('FeasibilityTol', 1e-9)  # Tighten feasibility tolerance\n",
    "        alpha_vars = model.addVars(N, vtype=GRB.BINARY, name=\"alpha\")\n",
    "\n",
    "        # Add continuous auxiliary variables y_n\n",
    "        y_vars = model.addVars(N, lb=0, name=\"y\")\n",
    "\n",
    "        # Add continuous variables z_n to represent sqrt(alpha_n)\n",
    "        z_vars = model.addVars(N, lb=0, name=\"z\")\n",
    "\n",
    "        for n in range(N):\n",
    "            model.addGenConstrPow(z_vars[n], alpha_vars[n], 0.5, name=f\"sqrt_constr_{n}\")\n",
    "\n",
    "        objective = gp.LinExpr()\n",
    "        for n in range(N):\n",
    "            objective += (2 * lambda_vals[n] * alpha_vars[n] * numpy.sqrt(p * h[n])\n",
    "            - lambda_vals[n] ** 2 * (gp.quicksum(alpha_vars[i] * I0 for i in range(N) if i != n) + n0))\n",
    "\n",
    "        model.setObjective(objective, GRB.MAXIMIZE)\n",
    "        model.optimize()\n",
    "\n",
    "        # Step 3: Get optimized values\n",
    "        alpha_new = numpy.array([alpha_vars[n].X for n in range(N)])\n",
    "        lambda_vals_new = calculate_lambda(alpha_new, h, p, I0, n0)\n",
    "        # objVal = model.ObjVal\n",
    "        objVal = recalculate_objective(alpha_new, lambda_vals_new, h, p, I0, n0)\n",
    "\n",
    "\n",
    "        # print(f'======== Iterations: {iteration + 1}')\n",
    "        # print(\"Current alpha values:\", alpha_new)\n",
    "        # # print(\"Current lambda value values:\", lambda_vals_new)\n",
    "        # print(\"Current Objective Value:\", objVal)\n",
    "\n",
    "        # Step 4: Calculate the sum SINR for the current iteration and store it\n",
    "        sum_SINR = calculate_sum_SINR(alpha_new, h, p, I0, n0)\n",
    "        sum_SINR_list.append(sum_SINR)\n",
    "\n",
    "        # Step 5: Check convergence based on auxiliary variables y\n",
    "        if np.abs(objVal_old - objVal) < epsilon:\n",
    "            # print(f\"Converged after {iteration+1} iterations.\")\n",
    "            break\n",
    "\n",
    "        # Update alpha and y for the next iteration\n",
    "        alpha = alpha_new\n",
    "        lambda_vals = lambda_vals_new\n",
    "        objVal_old = objVal\n",
    "\n",
    "        if objVal > best_objVal:\n",
    "            best_alpha = alpha_new\n",
    "            best_objVal = objVal\n",
    "            best_sum_list = sum_SINR_list\n",
    "\n",
    "# Output the final solution\n",
    "print(\"Optimal alpha values:\", best_alpha)\n",
    "print(\"Maximum sum SINR Value:\", best_sum_list[-1])\n"
   ]
  },
  {
   "cell_type": "code",
   "execution_count": 15,
   "metadata": {
    "id": "A5VaE0H4GXuh"
   },
   "outputs": [],
   "source": [
    "import numpy\n",
    "def frac_prog(num_nodes, h, p, I0, n0):\n",
    "    num_random_restarts = 10  # Number of times to try with different random initializations\n",
    "    N = num_nodes\n",
    "    best_alpha = None\n",
    "    best_objVal = -numpy.inf\n",
    "\n",
    "    for restart in range(num_random_restarts):\n",
    "\n",
    "        max_iter = 100\n",
    "        epsilon = 1e-10\n",
    "        sum_SINR_list = []\n",
    "        # Step 1: Init value\n",
    "        # alpha = numpy.ones(N)\n",
    "        alpha = numpy.random.randint(0, 2, N)\n",
    "        lambda_vals = calculate_lambda(alpha, h, p, I0, n0)\n",
    "        objVal_old = numpy.infty\n",
    "        # Iteration loop\n",
    "        for iteration in range(max_iter):\n",
    "\n",
    "            # Step 2: Solve optimization problem with Gurobi\n",
    "            model = gp.Model(\"SINR_Optimization\")\n",
    "            model.setParam('OutputFlag', 0)\n",
    "            model.setParam('OptimalityTol', 1e-9)\n",
    "            model.setParam('FeasibilityTol', 1e-9)\n",
    "            alpha_vars = model.addVars(N, vtype=GRB.BINARY, name=\"alpha\")\n",
    "\n",
    "            # Add continuous auxiliary variables y_n\n",
    "            y_vars = model.addVars(N, lb=0, name=\"y\")\n",
    "\n",
    "            # Add continuous variables z_n to represent sqrt(alpha_n)\n",
    "            z_vars = model.addVars(N, lb=0, name=\"z\")\n",
    "\n",
    "            for n in range(N):\n",
    "                model.addGenConstrPow(z_vars[n], alpha_vars[n], 0.5, name=f\"sqrt_constr_{n}\")\n",
    "\n",
    "            objective = gp.LinExpr()\n",
    "            for n in range(N):\n",
    "                term_1 = 2 * lambda_vals[n] * alpha_vars[n] * numpy.sqrt(p * h[n])\n",
    "                term_2 = lambda_vals[n] ** 2 * (gp.quicksum(alpha_vars[i] * I0 for i in range(N) if i != n) + n0)\n",
    "\n",
    "                objective += term_1 - term_2\n",
    "\n",
    "            model.setObjective(objective, GRB.MAXIMIZE)\n",
    "            model.optimize()\n",
    "\n",
    "            # Step 3: Get optimized values\n",
    "            alpha_new = numpy.array([alpha_vars[n].X for n in range(N)])\n",
    "            lambda_vals_new = calculate_lambda(alpha_new, h, p, I0, n0)\n",
    "            # objVal = model.ObjVal\n",
    "            objVal = recalculate_objective(alpha_new, lambda_vals_new, h, p, I0, n0)\n",
    "\n",
    "\n",
    "            # print(f'======== Iterations: {iteration + 1}')\n",
    "            # print(\"Current alpha values:\", alpha_new)\n",
    "            # # print(\"Current lambda value values:\", lambda_vals_new)\n",
    "            # print(\"Current Objective Value:\", objVal)\n",
    "\n",
    "            # Step 4: Calculate the sum SINR for the current iteration and store it\n",
    "            sum_SINR = calculate_sum_SINR(alpha_new, h, p, I0, n0)\n",
    "            sum_SINR_list.append(sum_SINR)\n",
    "\n",
    "            # Step 5: Check convergence based on auxiliary variables y\n",
    "            if numpy.abs(objVal_old - objVal) < epsilon:\n",
    "                # print(f\"Converged after {iteration+1} iterations.\")\n",
    "                break\n",
    "\n",
    "            # Update alpha and y for the next iteration\n",
    "            alpha = alpha_new\n",
    "            lambda_vals = lambda_vals_new\n",
    "            objVal_old = objVal\n",
    "\n",
    "            if objVal > best_objVal:\n",
    "                best_alpha = alpha_new\n",
    "                best_objVal = objVal\n",
    "                best_sum_list = sum_SINR_list\n",
    "\n",
    "    return best_alpha, best_sum_list[-1] if best_sum_list else None"
   ]
  },
  {
   "cell_type": "markdown",
   "metadata": {
    "id": "t6AGI5fzVxNb"
   },
   "source": [
    "# New QML"
   ]
  },
  {
   "cell_type": "code",
   "execution_count": 16,
   "metadata": {
    "id": "mv6yU7RXTgYQ"
   },
   "outputs": [],
   "source": [
    "import pennylane as qml\n",
    "\n",
    "\n",
    "def circuit_1(weights, wires):\n",
    "    for idx, wire in enumerate(wires):\n",
    "        qml.RX(weights[idx, 0], wires=wire)\n",
    "        qml.RZ(weights[idx, 1], wires=wire)\n",
    "\n",
    "def circuit_2(weights, wires):\n",
    "    for idx, wire in enumerate(wires):\n",
    "        qml.RX(weights[idx, 0], wires=wire)\n",
    "        qml.RZ(weights[idx, 1], wires=wire)\n",
    "    for idx, wire in enumerate(wires[:-1]):\n",
    "        qml.CNOT(wires=[wire, wires[idx+1]])\n",
    "\n",
    "def circuit_3(weights, wires):\n",
    "    for idx, wire in enumerate(wires):\n",
    "        qml.RX(weights[idx], wires=wire)\n",
    "        qml.RZ(weights[idx], wires=wire)\n",
    "\n",
    "def circuit_13(weights, wires):\n",
    "    for idx, wire in enumerate(wires):\n",
    "        qml.RY(weights[idx, 0], wires=wire)\n",
    "    for idx, wire in enumerate(wires[::-1]):\n",
    "        qml.CRZ(weights[idx, 1], wires=[wire, wires[-(idx)]])\n",
    "\n",
    "    for idx, wire in enumerate(wires):\n",
    "        qml.RY(weights[idx, 2], wires=wire)\n",
    "    target =  wires[1:] + wires[:1]\n",
    "    for idx, wire in enumerate(wires[-1:] + wires[:-1]):\n",
    "        qml.CRZ(weights[idx, 3], wires=[wire, target[idx]])\n",
    "\n",
    "\n",
    "def circuit_139(weights, wires):\n",
    "    for idx, wire in enumerate(wires):\n",
    "        qml.RY(weights[idx, 0], wires=wire)\n",
    "    for idx, wire in enumerate(wires[::-1]):\n",
    "        qml.CRZ(weights[idx, 1], wires=[wire, wires[-(idx)]])\n",
    "\n",
    "    for idx, wire in enumerate(wires):\n",
    "        qml.RY(weights[idx, 2], wires=wire)\n",
    "    target =  wires[1:] + wires[:1]\n",
    "    for idx, wire in enumerate(wires[-1:] + wires[:-1]):\n",
    "        qml.CRZ(weights[idx, 1], wires=[wire, target[idx]])\n",
    "\n",
    "def circuit_14(weights, wires):\n",
    "    for idx, wire in enumerate(wires):\n",
    "        qml.RY(weights[idx, 0], wires=wire)\n",
    "    for idx, wire in enumerate(wires[::-1]):\n",
    "        qml.CRX(weights[idx, 1], wires=[wire, wires[-(idx)]])\n",
    "\n",
    "    for idx, wire in enumerate(wires):\n",
    "        qml.RY(weights[idx, 2], wires=wire)\n",
    "    target =  wires[1:] + wires[:1]\n",
    "    for idx, wire in enumerate(wires[-1:] + wires[:-1]):\n",
    "        qml.CRX(weights[idx, 3], wires=[wire, target[idx]])\n",
    "\n",
    "def circuit_15(weights, wires):\n",
    "    for idx, wire in enumerate(wires):\n",
    "        qml.RY(weights[idx, 0], wires=wire)\n",
    "    for idx, wire in enumerate(wires[::-1]):\n",
    "        qml.CNOT(wires=[wire, wires[-(idx)]])\n",
    "\n",
    "    for idx, wire in enumerate(wires):\n",
    "        qml.RY(weights[idx, 1], wires=wire)\n",
    "    target =  wires[1:] + wires[:1]\n",
    "    for idx, wire in enumerate(wires[-1:] + wires[:-1]):\n",
    "        qml.CNOT(wires=[wire, target[idx]])\n",
    "\n",
    "\n",
    "\n",
    "\n",
    "def custom_pqc(weights, wires, mode=1):\n",
    "    if mode == 1:\n",
    "        circuit_1(weights, wires)\n",
    "    elif mode == 2:\n",
    "        circuit_2(weights, wires)\n",
    "    elif mode == 3:\n",
    "        circuit_3(weights, wires)\n",
    "    elif mode == 13:\n",
    "        circuit_13(weights, wires)\n",
    "    elif mode == 14:\n",
    "        circuit_14(weights, wires)\n",
    "    elif mode == 15:\n",
    "        circuit_15(weights, wires)"
   ]
  },
  {
   "cell_type": "code",
   "execution_count": 17,
   "metadata": {
    "id": "DKrGKZaOVyw8"
   },
   "outputs": [],
   "source": [
    "import torch\n",
    "import torch.nn as nn\n",
    "from pennylane import numpy as np\n",
    "import pennylane as qml\n",
    "\n",
    "\n",
    "\n",
    "def qgnn_layer_4(theta, num_edges):\n",
    "    qml.StronglyEntanglingLayers(weights=theta, wires=[0, num_edges+0, num_edges+1])\n",
    "    qml.SWAP(wires=[num_edges+0, num_edges+1])\n",
    "    qml.StronglyEntanglingLayers(weights=theta, wires=[1, num_edges+1, num_edges+2])\n",
    "    qml.SWAP(wires=[num_edges+1, num_edges+2])\n",
    "    qml.StronglyEntanglingLayers(weights=theta, wires=[2, num_edges+0, num_edges+1])\n",
    "    qml.StronglyEntanglingLayers(weights=theta, wires=[3, num_edges+1, num_edges+2])\n",
    "    qml.SWAP(wires=[num_edges+0, num_edges+1])\n",
    "    qml.SWAP(wires=[num_edges+1, num_edges+2])\n",
    "    qml.StronglyEntanglingLayers(weights=theta, wires=[4, num_edges+2, num_edges+3])\n",
    "    qml.SWAP(wires=[num_edges+0, num_edges+1])\n",
    "    qml.SWAP(wires=[num_edges+1, num_edges+2])\n",
    "    qml.StronglyEntanglingLayers(weights=theta, wires=[5, num_edges+2, num_edges+3])\n",
    "\n",
    "def custom_4(theta, num_edges, num_mode):\n",
    "    custom_pqc(weights=theta, wires=[0, num_edges+0, num_edges+1],mode=num_mode)\n",
    "    qml.SWAP(wires=[num_edges+0, num_edges+1])\n",
    "    custom_pqc(weights=theta, wires=[1, num_edges+1, num_edges+2],mode=num_mode)\n",
    "    qml.SWAP(wires=[num_edges+1, num_edges+2])\n",
    "    custom_pqc(weights=theta, wires=[2, num_edges+0, num_edges+1],mode=num_mode)\n",
    "    custom_pqc(weights=theta, wires=[3, num_edges+1, num_edges+2],mode=num_mode)\n",
    "    qml.SWAP(wires=[num_edges+0, num_edges+1])\n",
    "    qml.SWAP(wires=[num_edges+1, num_edges+2])\n",
    "    custom_pqc(weights=theta, wires=[4, num_edges+2, num_edges+3],mode=num_mode)\n",
    "    qml.SWAP(wires=[num_edges+0, num_edges+1])\n",
    "    qml.SWAP(wires=[num_edges+1, num_edges+2])\n",
    "    custom_pqc(weights=theta, wires=[5, num_edges+2, num_edges+3],mode=num_mode)\n",
    "\n",
    "\n",
    "def qgnn_layer_4_Basic(theta, num_edges):\n",
    "    qml.BasicEntanglerLayers(weights=theta, wires=[0, num_edges+0, num_edges+1])\n",
    "    qml.SWAP(wires=[num_edges+0, num_edges+1])\n",
    "    qml.BasicEntanglerLayers(weights=theta, wires=[1, num_edges+1, num_edges+2])\n",
    "    qml.SWAP(wires=[num_edges+1, num_edges+2])\n",
    "    qml.BasicEntanglerLayers(weights=theta, wires=[2, num_edges+0, num_edges+1])\n",
    "    qml.BasicEntanglerLayers(weights=theta, wires=[3, num_edges+1, num_edges+2])\n",
    "    qml.SWAP(wires=[num_edges+0, num_edges+1])\n",
    "    qml.SWAP(wires=[num_edges+1, num_edges+2])\n",
    "    qml.BasicEntanglerLayers(weights=theta, wires=[4, num_edges+2, num_edges+3])\n",
    "    qml.SWAP(wires=[num_edges+0, num_edges+1])\n",
    "    qml.SWAP(wires=[num_edges+1, num_edges+2])\n",
    "    qml.BasicEntanglerLayers(weights=theta, wires=[5, num_edges+2, num_edges+3])\n",
    "\n",
    "def unpack_inputs_single(inputs):\n",
    "    adjacency_matrix = inputs[:num_edges_model].reshape(-1, num_edges_model)\n",
    "    node_features = inputs[num_edges_model:].reshape(-1, num_nodes_model)\n",
    "    return adjacency_matrix, node_features\n",
    "\n"
   ]
  },
  {
   "cell_type": "code",
   "execution_count": 18,
   "metadata": {
    "id": "ko1sXYW6tSRz"
   },
   "outputs": [],
   "source": [
    "def qgnn_layer_5_Basic(theta, num_edges):\n",
    "    qml.BasicEntanglerLayers(weights=theta, wires=[0, num_edges+0, num_edges + 1])\n",
    "    qml.SWAP(wires = [num_edges + 0, num_edges+1])\n",
    "    qml.BasicEntanglerLayers(weights=theta, wires=[1, num_edges+1, num_edges + 2])\n",
    "    qml.SWAP(wires = [num_edges + 1, num_edges+2])\n",
    "    qml.BasicEntanglerLayers(weights=theta, wires=[2, num_edges+2, num_edges + 3])\n",
    "    qml.SWAP(wires = [num_edges + 2, num_edges + 3])\n",
    "    qml.BasicEntanglerLayers(weights=theta, wires=[3, num_edges+3, num_edges + 4])\n",
    "    qml.BasicEntanglerLayers(weights=theta, wires=[4, num_edges+0, num_edges + 1])\n",
    "    qml.SWAP(wires = [num_edges+0, num_edges+1])\n",
    "    qml.BasicEntanglerLayers(weights=theta, wires=[5, num_edges+1, num_edges + 2])\n",
    "    qml.SWAP(wires = [num_edges+1, num_edges+2])\n",
    "    qml.SWAP(wires = [num_edges+2, num_edges+3])\n",
    "    qml.BasicEntanglerLayers(weights=theta, wires=[6, num_edges+3, num_edges + 4])\n",
    "    qml.BasicEntanglerLayers(weights=theta, wires=[7, num_edges+0, num_edges+1])\n",
    "    qml.SWAP(wires=[num_edges+0, num_edges+1])\n",
    "    qml.SWAP(wires=[num_edges+1, num_edges+2])\n",
    "    qml.SWAP(wires=[num_edges+2, num_edges+3])\n",
    "    qml.BasicEntanglerLayers(weights=theta, wires=[8, num_edges+3, num_edges+4])\n",
    "    qml.SWAP(wires=[num_edges+0, num_edges+1])\n",
    "    qml.SWAP(wires=[num_edges+1, num_edges+2])\n",
    "    qml.SWAP(wires=[num_edges+2, num_edges+3])\n",
    "    qml.BasicEntanglerLayers(weights=theta, wires=[9, num_edges+3, num_edges+4])\n",
    "\n",
    "def qgnn_layer_5(theta, num_edges):\n",
    "    qml.StronglyEntanglingLayers(weights=theta, wires=[0, num_edges+0, num_edges + 1])\n",
    "    qml.SWAP(wires = [num_edges + 0, num_edges+1])\n",
    "    qml.StronglyEntanglingLayers(weights=theta, wires=[1, num_edges+1, num_edges + 2])\n",
    "    qml.SWAP(wires = [num_edges + 1, num_edges+2])\n",
    "    qml.StronglyEntanglingLayers(weights=theta, wires=[2, num_edges+2, num_edges + 3])\n",
    "    qml.SWAP(wires = [num_edges + 2, num_edges + 3])\n",
    "    qml.StronglyEntanglingLayers(weights=theta, wires=[3, num_edges+3, num_edges + 4])\n",
    "    qml.StronglyEntanglingLayers(weights=theta, wires=[4, num_edges+0, num_edges + 1])\n",
    "    qml.SWAP(wires = [num_edges+0, num_edges+1])\n",
    "    qml.StronglyEntanglingLayers(weights=theta, wires=[5, num_edges+1, num_edges + 2])\n",
    "    qml.SWAP(wires = [num_edges+1, num_edges+2])\n",
    "    qml.SWAP(wires = [num_edges+2, num_edges+3])\n",
    "    qml.StronglyEntanglingLayers(weights=theta, wires=[6, num_edges+3, num_edges + 4])\n",
    "    qml.StronglyEntanglingLayers(weights=theta, wires=[7, num_edges+0, num_edges+1])\n",
    "    qml.SWAP(wires=[num_edges+0, num_edges+1])\n",
    "    qml.SWAP(wires=[num_edges+1, num_edges+2])\n",
    "    qml.SWAP(wires=[num_edges+2, num_edges+3])\n",
    "    qml.StronglyEntanglingLayers(weights=theta, wires=[8, num_edges+3, num_edges+4])\n",
    "    qml.SWAP(wires=[num_edges+0, num_edges+1])\n",
    "    qml.SWAP(wires=[num_edges+1, num_edges+2])\n",
    "    qml.SWAP(wires=[num_edges+2, num_edges+3])\n",
    "    qml.StronglyEntanglingLayers(weights=theta, wires=[9, num_edges+3, num_edges+4])\n",
    "\n",
    "def custom_5(theta, num_edges, mode=1):\n",
    "    custom_pqc(weights=theta, wires=[0, num_edges+0, num_edges + 1], mode=mode)\n",
    "    qml.SWAP(wires = [num_edges + 0, num_edges+1])\n",
    "    custom_pqc(weights=theta, wires=[1, num_edges+1, num_edges + 2], mode=mode)\n",
    "    qml.SWAP(wires = [num_edges + 1, num_edges+2])\n",
    "    custom_pqc(weights=theta, wires=[2, num_edges+2, num_edges + 3], mode=mode)\n",
    "    qml.SWAP(wires = [num_edges + 2, num_edges + 3])\n",
    "    custom_pqc(weights=theta, wires=[3, num_edges+3, num_edges + 4], mode=mode)\n",
    "    custom_pqc(weights=theta, wires=[4, num_edges+0, num_edges + 1], mode=mode)\n",
    "    qml.SWAP(wires = [num_edges+0, num_edges+1])\n",
    "    custom_pqc(weights=theta, wires=[5, num_edges+1, num_edges + 2])\n",
    "    qml.SWAP(wires = [num_edges+1, num_edges+2])\n",
    "    qml.SWAP(wires = [num_edges+2, num_edges+3])\n",
    "    custom_pqc(weights=theta, wires=[6, num_edges+3, num_edges + 4], mode=mode)\n",
    "    custom_pqc(weights=theta, wires=[7, num_edges+0, num_edges+1], mode=mode)\n",
    "    qml.SWAP(wires=[num_edges+0, num_edges+1])\n",
    "    qml.SWAP(wires=[num_edges+1, num_edges+2])\n",
    "    qml.SWAP(wires=[num_edges+2, num_edges+3])\n",
    "    custom_pqc(weights=theta, wires=[8, num_edges+3, num_edges+4], mode=mode)\n",
    "    qml.SWAP(wires=[num_edges+0, num_edges+1])\n",
    "    qml.SWAP(wires=[num_edges+1, num_edges+2])\n",
    "    qml.SWAP(wires=[num_edges+2, num_edges+3])\n",
    "    custom_pqc(weights=theta, wires=[9, num_edges+3, num_edges+4], mode=mode)\n"
   ]
  },
  {
   "cell_type": "code",
   "execution_count": 19,
   "metadata": {
    "id": "EErOLTeNJRyu"
   },
   "outputs": [],
   "source": [
    "def star_pqc(theta, num_edges, mode=1):\n",
    "    for i in range(num_edges):\n",
    "        custom_pqc(weights=theta, wires=[i, num_edges+0, num_edges+i+1], mode=mode)"
   ]
  },
  {
   "cell_type": "code",
   "execution_count": 20,
   "metadata": {
    "id": "VQBDmnepdqbt"
   },
   "outputs": [],
   "source": [
    "num_nodes_model = 6\n",
    "sub_mode = 'star'\n",
    "\n",
    "num_layers = 1\n",
    "num_ent_lay = 1\n",
    "mode = 'custom' #'strong\n",
    "mode_num = 13\n",
    "hop_neighbor = 2\n",
    "\n",
    "if sub_mode == 'random':\n",
    "    num_edges_model = int(num_nodes_model * (num_nodes_model-1)/2)\n",
    "elif sub_mode == 'star':\n",
    "    num_edges_model = num_nodes_model - 1\n",
    "n_qubits = num_nodes_model + num_edges_model\n",
    "\n",
    "dev = qml.device(\"default.qubit\", wires=n_qubits)\n",
    "\n",
    "@qml.qnode(dev, interface='torch', diff_method='backprop')\n",
    "def qgnn_circuit(inputs, weights):\n",
    "    adjacency_matrix, vertex_features = unpack_inputs_single(inputs)\n",
    "\n",
    "    for i in range(num_edges_model):\n",
    "        # qml.AmplitudeEmbedding(features=adjacency_matrix[:,i], wires=i, normalize=True, pad_with=0.)\n",
    "        qml.RY(adjacency_matrix[:,i], wires=i)\n",
    "    for i in range(num_nodes_model):\n",
    "        # qml.AmplitudeEmbedding(features=vertex_features[:,i], wires=num_edges_model+i, normalize=True, pad_with=0.)\n",
    "        qml.RY(vertex_features[:,i], wires=num_edges_model + i)\n",
    "    for each_lay in range(num_layers):\n",
    "        if sub_mode == 'random':\n",
    "            if num_nodes_model == 4:\n",
    "                if mode == 'strong':\n",
    "                    qgnn_layer_4(weights[each_lay].to(torch.float32),num_edges_model)\n",
    "                elif mode == 'basic':\n",
    "                    qgnn_layer_4_Basic(weights[each_lay].to(torch.float32),num_edges_model)\n",
    "                elif mode == 'custom':\n",
    "                    custom_4(weights[each_lay].to(torch.float32),num_edges_model,mode_num)\n",
    "            elif num_nodes_model == 5:\n",
    "                if mode == 'strong':\n",
    "                    qgnn_layer_5(weights[each_lay].to(torch.float32),num_edges_model)\n",
    "                elif mode == 'basic':\n",
    "                    qgnn_layer_5_Basic(weights[each_lay].to(torch.float32),num_edges_model)\n",
    "                elif mode == 'custom':\n",
    "                    custom_5(weights[each_lay].to(torch.float32),num_edges_model,mode_num)\n",
    "        elif sub_mode == 'star':\n",
    "            star_pqc(weights[each_lay].to(torch.float32),num_edges_model,mode_num)\n",
    "\n",
    "    # return [qml.expval(qml.PauliZ(num_edges_model))]\n",
    "    return [qml.expval(qml.PauliZ(i)) for i in range(num_edges_model,n_qubits)]\n",
    "    # return qml.probs(wires=list(range(num_edges_model, n_qubits)))"
   ]
  },
  {
   "cell_type": "code",
   "execution_count": 21,
   "metadata": {
    "id": "XDjBdF6DL2tR"
   },
   "outputs": [],
   "source": [
    "import copy\n",
    "\n",
    "class QGNN_star(nn.Module):\n",
    "    def __init__(self, w_shapes, graphlet_size=4, overlap_size=1):\n",
    "        super(QGNN_star, self).__init__()\n",
    "        self.input_layer = torch.nn.Sequential(\n",
    "                                # torch.nn.Linear(2, 4),\n",
    "                                # torch.nn.Sigmoid(),\n",
    "                                torch.nn.Linear(2, 1),\n",
    "                                torch.nn.Sigmoid()\n",
    "                            )\n",
    "        self.qconv = qml.qnn.TorchLayer(qgnn_circuit, w_shapes)\n",
    "        self.reLU = torch.nn.ReLU()\n",
    "        # self.qconv = torch.nn.Sequential( *[self.qconv, self.reLU])\n",
    "        self.graphlet_size = graphlet_size\n",
    "        self.overlap_size = overlap_size\n",
    "\n",
    "    def forward(self, node_feat, edge_attr, edge_index):\n",
    "        num_nodes = node_feat.shape[0]\n",
    "        all_feat = {}\n",
    "\n",
    "        # Save diagonal features first\n",
    "        for i in range(num_nodes):\n",
    "            all_feat[f\"{i}_{i}\"] = self.input_layer(node_feat[i]).squeeze()\n",
    "\n",
    "        # Now set features for edge pairs\n",
    "        for idx, (i, j) in enumerate(edge_index):\n",
    "            edge_feat = edge_attr[idx]\n",
    "            all_feat[f\"{i}_{j}\"] = self.input_layer(edge_feat).squeeze()\n",
    "\n",
    "        adj_mtx = np.ones((num_nodes, num_nodes)) - np.eye(num_nodes)\n",
    "        graphlets = star_subgraph(adj_mtx, subgraph_size=self.graphlet_size)\n",
    "\n",
    "        for _ in range(hop_neighbor):\n",
    "            all_feat_upd = all_feat.copy()\n",
    "            for each_graphlet in graphlets:\n",
    "                center = each_graphlet[0]\n",
    "                neighbors = each_graphlet[1:]\n",
    "\n",
    "                subgraph_features = torch.stack([\n",
    "                    all_feat[f\"{min(center, neighbor)}_{max(center, neighbor)}\"]\n",
    "                    for neighbor in neighbors\n",
    "                ])\n",
    "                node_features = torch.stack([\n",
    "                    all_feat[f\"{node}_{node}\"] for node in each_graphlet\n",
    "                ])\n",
    "                inputs = torch.cat([subgraph_features, node_features], dim=0)\n",
    "                x = self.qconv(inputs)\n",
    "                x = self.reLU(x)\n",
    "\n",
    "                all_feat_upd[f\"{center}_{center}\"] = x[0]\n",
    "\n",
    "            all_feat = all_feat_upd\n",
    "\n",
    "        final_node_embeddings = torch.stack([all_feat[f\"{i}_{i}\"] for i in range(num_nodes)])\n",
    "        return final_node_embeddings"
   ]
  },
  {
   "cell_type": "code",
   "execution_count": 22,
   "metadata": {
    "id": "PSZ4CAbwh-0e"
   },
   "outputs": [],
   "source": [
    "\n",
    "# weight_shapes = {\"weights\": (num_layers, num_ent_lay, 3, 3)} # Strong\n",
    "if mode == 'strong':\n",
    "    weight_shapes = {\"weights\": (num_layers, num_ent_lay, 3, 3)} # Strong\n",
    "elif mode == 'basic':\n",
    "    weight_shapes = {\"weights\": (num_layers, num_ent_lay, 3)}\n",
    "elif mode == 'custom':\n",
    "    if mode_num == 1:\n",
    "        weight_shapes = {\"weights\": (num_layers, 3, 2)} # custom circuit 1\n",
    "    elif mode_num == 13:\n",
    "        weight_shapes = {\"weights\": (num_layers, 3, 4)} # circuit 13\n",
    "    elif mode_num == 14:\n",
    "        weight_shapes = {\"weights\": (num_layers, 3, 4)} # circuit 13\n",
    "    elif mode_num == 15:\n",
    "        weight_shapes = {\"weights\": (num_layers, 3, 2)} # circuit 13\n",
    "    elif mode_num == 139:\n",
    "        weight_shapes = {\"weights\": (num_layers, 3, 3)} # circuit 13\n",
    "\n",
    "\n",
    "\n",
    "adjacency_matrix = torch.rand(1, num_edges_model, dtype=torch.float32)\n",
    "vertex_features = torch.rand(1, num_nodes_model, dtype=torch.float32)\n",
    "adjacency_matrix = adjacency_matrix.reshape(-1)\n",
    "vertex_features = vertex_features.reshape(-1)\n",
    "weights = torch.tensor(np.random.uniform(low=0, high=np.pi, size=weight_shapes['weights']), dtype=torch.float32, requires_grad=True)\n",
    "inputs = torch.cat((adjacency_matrix, vertex_features), dim=0)\n",
    "# test_model = QuantumGraphNetwork()\n",
    "# test_model(adjacency_matrix, vertex_features)\n",
    "# print(qml.draw(qgnn_node)(inputs,weights))"
   ]
  },
  {
   "cell_type": "code",
   "execution_count": 23,
   "metadata": {
    "colab": {
     "base_uri": "https://localhost:8080/"
    },
    "id": "HP8uGfc7IDwM",
    "outputId": "fcc4eccc-67a1-4982-b88f-2245c9934eb2"
   },
   "outputs": [
    {
     "data": {
      "text/plain": [
       "{'weights': (1, 3, 4)}"
      ]
     },
     "execution_count": 23,
     "metadata": {},
     "output_type": "execute_result"
    }
   ],
   "source": [
    "weight_shapes"
   ]
  },
  {
   "cell_type": "code",
   "execution_count": 24,
   "metadata": {
    "colab": {
     "base_uri": "https://localhost:8080/",
     "height": 371
    },
    "id": "myD3KEU4h-0e",
    "outputId": "2ba01c24-433b-427f-82e9-2a09965b42fa"
   },
   "outputs": [
    {
     "data": {
      "image/png": "[encoded data removed]",
      "text/plain": [
       "<Figure size 4400x1200 with 1 Axes>"
      ]
     },
     "metadata": {},
     "output_type": "display_data"
    }
   ],
   "source": [
    "import matplotlib.pyplot as plt\n",
    "\n",
    "\n",
    "fig, ax = qml.draw_mpl(qgnn_circuit)(inputs,weights)\n",
    "plt.show()"
   ]
  },
  {
   "cell_type": "markdown",
   "metadata": {
    "id": "sydLnh-VSCn9"
   },
   "source": [
    "# D2D Problems"
   ]
  },
  {
   "cell_type": "code",
   "execution_count": 25,
   "metadata": {
    "id": "S5_ODdZ4TloO"
   },
   "outputs": [],
   "source": [
    "\n",
    "import numpy as numpy\n",
    "\n",
    "def generate_wGaussian(K, num_H, var_noise=1, Pmin=0, seed=2017):\n",
    "    # H[:,j,k] channel from k tx to j rx\n",
    "    print('Generate Data ... (seed = %d)' % seed)\n",
    "    numpy.random.seed(seed)\n",
    "    Pmax = 1\n",
    "    Pini = Pmax*numpy.ones((num_H,K,1) )\n",
    "    alpha = numpy.random.rand(num_H,K)\n",
    "    # alpha = numpy.ones((num_H,K))\n",
    "    #alpha = numpy.ones((num_H,K))\n",
    "    fake_a = numpy.ones((num_H,K))\n",
    "    #var_noise = 1\n",
    "    X=numpy.zeros((K**2,num_H))\n",
    "    Y=numpy.zeros((K,num_H))\n",
    "    total_time = 0.0\n",
    "    CH = 1/numpy.sqrt(2)*(numpy.random.randn(num_H,K,K)+1j*numpy.random.randn(num_H,K,K))\n",
    "    H=abs(CH)\n",
    "    Y = batch_WMMSE2(Pini,alpha,H,Pmax,var_noise)\n",
    "    Y2 = batch_WMMSE2(Pini,fake_a,H,Pmax,var_noise)\n",
    "    return H, Y, alpha, Y2\n",
    "\n",
    "def batch_WMMSE2(p_int, alpha, H, Pmax, var_noise):\n",
    "    N = p_int.shape[0]\n",
    "    K = p_int.shape[1]\n",
    "    vnew = 0\n",
    "    b = numpy.sqrt(p_int)\n",
    "    f = numpy.zeros((N,K,1) )\n",
    "    w = numpy.zeros( (N,K,1) )\n",
    "\n",
    "\n",
    "    mask = numpy.eye(K)\n",
    "    rx_power = numpy.multiply(H, b)\n",
    "    rx_power_s = numpy.square(rx_power)\n",
    "    valid_rx_power = numpy.sum(numpy.multiply(rx_power, mask), 1)\n",
    "\n",
    "    interference = numpy.sum(rx_power_s, 2) + var_noise\n",
    "    f = numpy.divide(valid_rx_power,interference)\n",
    "    w = 1/(1-numpy.multiply(f,valid_rx_power))\n",
    "    #vnew = numpy.sum(numpy.log2(w),1)\n",
    "\n",
    "\n",
    "    for ii in range(100):\n",
    "        fp = numpy.expand_dims(f,1)\n",
    "        rx_power = numpy.multiply(H.transpose(0,2,1), fp)\n",
    "        valid_rx_power = numpy.sum(numpy.multiply(rx_power, mask), 1)\n",
    "        bup = numpy.multiply(alpha,numpy.multiply(w,valid_rx_power))\n",
    "        rx_power_s = numpy.square(rx_power)\n",
    "        wp = numpy.expand_dims(w,1)\n",
    "        alphap = numpy.expand_dims(alpha,1)\n",
    "        bdown = numpy.sum(numpy.multiply(alphap,numpy.multiply(rx_power_s,wp)),2)\n",
    "        btmp = bup/bdown\n",
    "        b = numpy.minimum(btmp, numpy.ones((N,K) )*numpy.sqrt(Pmax)) + numpy.maximum(btmp, numpy.zeros((N,K) )) - btmp\n",
    "\n",
    "        bp = numpy.expand_dims(b,1)\n",
    "        rx_power = numpy.multiply(H, bp)\n",
    "        rx_power_s = numpy.square(rx_power)\n",
    "        valid_rx_power = numpy.sum(numpy.multiply(rx_power, mask), 1)\n",
    "        interference = numpy.sum(rx_power_s, 2) + var_noise\n",
    "        f = numpy.divide(valid_rx_power,interference)\n",
    "        w = 1/(1-numpy.multiply(f,valid_rx_power))\n",
    "    p_opt = numpy.square(b)\n",
    "    return p_opt\n",
    "\n",
    "\n",
    "def np_sum_rate(H,p,alpha,var_noise):\n",
    "    H = numpy.expand_dims(H,axis=-1)\n",
    "    K = H.shape[1]\n",
    "    N = H.shape[-1]\n",
    "    p = p.reshape((-1,K,1,N))\n",
    "    rx_power = numpy.multiply(H, p)\n",
    "    rx_power = numpy.sum(rx_power,axis=-1)\n",
    "    rx_power = numpy.square(abs(rx_power))\n",
    "    mask = numpy.eye(K)\n",
    "    valid_rx_power = numpy.sum(numpy.multiply(rx_power, mask), axis=1)\n",
    "    interference = numpy.sum(numpy.multiply(rx_power, 1 - mask), axis=1) + var_noise\n",
    "    rate = numpy.log(1 + numpy.divide(valid_rx_power, interference))\n",
    "    w_rate = numpy.multiply(alpha,rate)\n",
    "    sum_rate = numpy.mean(numpy.sum(w_rate, axis=1))\n",
    "    return sum_rate\n",
    "\n",
    "\n",
    "def simple_greedy(X,AAA,label):\n",
    "\n",
    "    n = X.shape[0]\n",
    "    thd = int(numpy.sum(label)/n)\n",
    "    Y = numpy.zeros((n,K))\n",
    "    for ii in range(n):\n",
    "        alpha = AAA[ii,:]\n",
    "        H_diag = alpha * numpy.square(numpy.diag(X[ii,:,:]))\n",
    "        xx = numpy.argsort(H_diag)[::-1]\n",
    "        for jj in range(thd):\n",
    "            Y[ii,xx[jj]] = 1\n",
    "    return Y\n",
    "\n",
    "def np_sum_rate_all(H,p,alpha,var_noise):\n",
    "    H = numpy.expand_dims(H,axis=-1)\n",
    "    K = H.shape[1]\n",
    "    N = H.shape[-1]\n",
    "    p = p.reshape((-1,K,1,N))\n",
    "    rx_power = numpy.multiply(H, p)\n",
    "    rx_power = numpy.sum(rx_power,axis=-1)\n",
    "    rx_power = numpy.square(abs(rx_power))\n",
    "    mask = numpy.eye(K)\n",
    "    valid_rx_power = numpy.sum(numpy.multiply(rx_power, mask), axis=1)\n",
    "    interference = numpy.sum(numpy.multiply(rx_power, 1 - mask), axis=1) + var_noise\n",
    "    rate = numpy.log(1 + numpy.divide(valid_rx_power, interference))\n",
    "    w_rate = numpy.multiply(alpha,rate)\n",
    "    sum_rate = numpy.sum(w_rate, axis=1)\n",
    "    return sum_rate"
   ]
  },
  {
   "cell_type": "code",
   "execution_count": 26,
   "metadata": {
    "colab": {
     "base_uri": "https://localhost:8080/"
    },
    "id": "J61mBXCfSGWT",
    "outputId": "15a66cae-9507-4bb1-ac62-7f9426e68a82"
   },
   "outputs": [
    {
     "name": "stdout",
     "output_type": "stream",
     "text": [
      "Generate Data ... (seed = 13)\n",
      "Generate Data ... (seed = 13)\n",
      "greedy: 2.7924752407098365\n",
      "wmmse: 2.801933835716169\n",
      "wmmse unweighted: 2.801933835716169\n"
     ]
    }
   ],
   "source": [
    "K = 3               # number of users\n",
    "num_H = 1          # number of training samples\n",
    "num_test = 1            # number of testing  samples\n",
    "training_epochs = 20      # number of training epochs\n",
    "trainseed = 13              # set random seed for training set\n",
    "testseed = 13              # set random seed for test set\n",
    "# print('Gaussian IC Case: K=%d, Total Samples: %d, Total Iterations: %d\\n'%(K, num_H, training_epochs))\n",
    "var_db = 10\n",
    "var = 1/10**(var_db/10)\n",
    "Xtrain, Ytrain, Atrain, wtime = generate_wGaussian(K, num_H, seed=trainseed, var_noise = var)\n",
    "# X[:,l,k] from tx k to rx j, Y[:,l] power tx l\n",
    "# A : weight\n",
    "wmmse_sumrate = np_sum_rate_all(Xtrain,Ytrain,Atrain,var)[:,None]\n",
    "\n",
    "X, Y, A, Y2 = generate_wGaussian(K, num_test, seed=testseed, var_noise = var)\n",
    "bl_Y = simple_greedy(X,A,Y)\n",
    "print('greedy:',np_sum_rate(X,bl_Y,A,var))\n",
    "\n",
    "print('wmmse:',np_sum_rate(X.transpose(0,2,1),Y,A,var))\n",
    "print('wmmse unweighted:',np_sum_rate(X.transpose(0,2,1),Y2,A,var))\n",
    "\n",
    "# train_data_list = proc_data(Xtrain,Ytrain)\n",
    "# test_data_list = proc_data(X,Y)"
   ]
  },
  {
   "cell_type": "code",
   "execution_count": 27,
   "metadata": {
    "id": "XHSy-l3fmLOh"
   },
   "outputs": [],
   "source": [
    "# H,p,alpha,var_noise = X.transpose(0,2,1),Y,A,var\n",
    "# print(H)\n",
    "# H = numpy.expand_dims(H,axis=-1)\n",
    "# K = H.shape[1]\n",
    "# N = H.shape[-1]\n",
    "# p = p.reshape((-1,K,1,N))\n",
    "# print(p)\n",
    "# rx_power = numpy.multiply(H, p)\n",
    "# rx_power = numpy.sum(rx_power,axis=-1)\n",
    "# print(rx_power)\n",
    "# rx_power = numpy.square(abs(rx_power))\n",
    "# mask = numpy.eye(K)\n",
    "# valid_rx_power = numpy.sum(numpy.multiply(rx_power, mask), axis=1)\n",
    "# interference = numpy.sum(numpy.multiply(rx_power, 1 - mask), axis=1) + var_noise\n",
    "# rate = numpy.log(1 + numpy.divide(valid_rx_power, interference))\n",
    "# w_rate = numpy.multiply(alpha,rate)\n",
    "# sum_rate = numpy.mean(numpy.sum(w_rate, axis=1))"
   ]
  },
  {
   "cell_type": "code",
   "execution_count": 28,
   "metadata": {
    "id": "f21tqavjbppx"
   },
   "outputs": [],
   "source": [
    "from torch.utils.data import Dataset, DataLoader\n",
    "\n",
    "class d2dDataset(Dataset):\n",
    "    def __init__(self, num_samples, num_D2D, p_max, n0, seed=1309):\n",
    "        self.num_samples = num_samples\n",
    "        self.num_D2D = num_D2D\n",
    "        self.p_max = p_max  # Transmit power\n",
    "        self.n0 = n0  # Noise power\n",
    "        self.seed = seed\n",
    "\n",
    "        # Generate the dataset (graphs and labels)\n",
    "        self.channels, self.w_sumrate, self.objs, self.labels = self.generate_data()\n",
    "\n",
    "    def generate_data(self):\n",
    "        channel_matrices, power_matrices, weight_matrices, _ = generate_wGaussian(self.num_D2D, self.num_samples, seed=self.seed, var_noise = self.n0)\n",
    "        power_matrices = self.quantize_labels(power_matrices)\n",
    "        wmmse_sumrate = np_sum_rate_all(channel_matrices,power_matrices,weight_matrices,self.n0)[:,None]\n",
    "        print(f'Benchmark WMMSE: {np.mean(wmmse_sumrate)}')\n",
    "        return channel_matrices.transpose(0,2,1), weight_matrices, wmmse_sumrate, power_matrices\n",
    "\n",
    "    def quantize_labels(self, labels, num_levels=4):\n",
    "        levels = np.linspace(0, 1, num_levels)\n",
    "\n",
    "        # Quantize labels by finding the closest level\n",
    "        quantized_labels = np.zeros_like(labels)\n",
    "        for i in range(labels.shape[0]):  # Iterate over samples\n",
    "            for j in range(labels.shape[1]):  # Iterate over D2D pairs\n",
    "                quantized_labels[i, j] = levels[np.argmin(np.abs(levels - labels[i, j]))]\n",
    "\n",
    "        return quantized_labels\n",
    "\n",
    "    def __len__(self):\n",
    "        return self.num_samples\n",
    "\n",
    "    def __getitem__(self, idx):\n",
    "        return self.channels[idx], self.w_sumrate[idx], self.objs[idx], self.labels[idx]"
   ]
  },
  {
   "cell_type": "markdown",
   "metadata": {
    "id": "zRe7ma_hEfcA"
   },
   "source": [
    "# Training and Testing"
   ]
  },
  {
   "cell_type": "code",
   "execution_count": 29,
   "metadata": {
    "id": "dtAlal3m5xoR"
   },
   "outputs": [],
   "source": [
    "def preprocess_inputs(channel_matrices, weight_matrices):\n",
    "    num_nodes = channel_matrices.shape[0]\n",
    "\n",
    "    node_feat = torch.stack([\n",
    "        torch.stack([channel_matrices[i, i], weight_matrices[i]])\n",
    "        for i in range(num_nodes)\n",
    "    ])\n",
    "\n",
    "    edge_attr = []\n",
    "    edge_index = []\n",
    "\n",
    "    for i in range(num_nodes):\n",
    "        for j in range(i + 1, num_nodes):\n",
    "            edge_attr.append(torch.tensor([channel_matrices[i, j], channel_matrices[j, i]]))\n",
    "            edge_index.append((i, j))\n",
    "\n",
    "    edge_attr = torch.stack(edge_attr)\n",
    "\n",
    "    return node_feat, edge_attr, edge_index"
   ]
  },
  {
   "cell_type": "code",
   "execution_count": 30,
   "metadata": {
    "id": "8oycSaK8swdH"
   },
   "outputs": [],
   "source": [
    "import pickle\n",
    "# criterion = nn.BCELoss()\n",
    "criterion = nn.MSELoss()\n",
    "\n",
    "def train(model, train_loader, optimizer, setting='supervised'):\n",
    "    model.train()\n",
    "    total_loss = 0\n",
    "    total_rate = 0\n",
    "    device = torch.device(\"cuda\" if torch.cuda.is_available() else \"cpu\")\n",
    "\n",
    "    for channel_matrices, weight_sumrates, _, labels in train_loader:\n",
    "        channel_matrices = channel_matrices[0].T.to(device).to(torch.float32)\n",
    "        labels = labels[0].to(device).to(torch.float32)\n",
    "        weight_sumrates = weight_sumrates[0].to(device).to(torch.float32)\n",
    "\n",
    "        # original_channel = channel_matrices.clone()\n",
    "        # channel_matrices = (channel_matrices - channel_matrices.min()) / (channel_matrices.max() - channel_matrices.min())\n",
    "\n",
    "        optimizer.zero_grad()\n",
    "        node_feat, edge_attr, edge_index = preprocess_inputs(channel_matrices, weight_sumrates)\n",
    "\n",
    "        output = model(node_feat, edge_attr, edge_index).float()\n",
    "        if setting == 'supervised':\n",
    "            loss = criterion(output, labels)\n",
    "        elif setting == 'unsupervised':\n",
    "            loss = sum_weighted_rate(channel_matrices, output, weight_sumrates, var)\n",
    "            loss = torch.neg(loss)\n",
    "\n",
    "        loss.backward()\n",
    "        optimizer.step()\n",
    "        with torch.no_grad():\n",
    "            power_new = output #quantize_output(output)\n",
    "            sum_rate = sum_weighted_rate(channel_matrices, power_new, weight_sumrates, var)\n",
    "        total_rate += sum_rate.item()\n",
    "        total_loss += loss.item()\n",
    "\n",
    "    return total_loss / len(train_loader), total_rate / len(train_loader)\n",
    "\n",
    "\n",
    "def test(model, test_loader):\n",
    "    model.eval()\n",
    "    total_loss = 0\n",
    "    total_rate = 0\n",
    "    device = torch.device(\"cuda\" if torch.cuda.is_available() else \"cpu\")\n",
    "    with torch.no_grad():\n",
    "        for channel_matrices, weight_sumrates, _, labels in test_loader:\n",
    "            channel_matrices = channel_matrices[0].T.to(device).to(torch.float32)\n",
    "            labels = labels[0].to(device).to(torch.float32)\n",
    "            weight_sumrates = weight_sumrates[0].to(device).to(torch.float32)\n",
    "            # original_channel = channel_matrices.clone()\n",
    "            # channel_matrices = (channel_matrices - channel_matrices.min()) / (channel_matrices.max() - channel_matrices.min())\n",
    "            node_feat, edge_attr, edge_index = preprocess_inputs(channel_matrices, weight_sumrates)\n",
    "\n",
    "            output = model(node_feat, edge_attr, edge_index).float()\n",
    "            power_new = output #quantize_output(output)\n",
    "            sum_rate = sum_weighted_rate(channel_matrices, power_new, weight_sumrates, var)\n",
    "            total_rate += sum_rate.item()\n",
    "\n",
    "    return total_rate / len(test_loader)\n",
    "\n",
    "\n",
    "def quantize_output(output, num_levels=4):\n",
    "    levels = torch.linspace(0, 1, steps=num_levels, device=output.device)\n",
    "    # Find closest level for each output value\n",
    "    quantized_output = torch.zeros_like(output)\n",
    "    for i in range(output.shape[0]):\n",
    "        quantized_output[i] = levels[torch.argmin(torch.abs(levels - output[i]))]\n",
    "    return quantized_output\n",
    "\n",
    "\n",
    "def sum_weighted_rate(h, p, w, n0):\n",
    "\n",
    "    all_signal = torch.square(h * p.view(-1, 1))\n",
    "    des_signal = torch.diag(all_signal)\n",
    "    rx_signal = torch.sum(all_signal, dim=0)\n",
    "    inteference = rx_signal - des_signal + n0\n",
    "\n",
    "    sinr = des_signal/inteference\n",
    "    w_sumrate = torch.log2(1 + sinr * w)\n",
    "    return torch.sum(w_sumrate)"
   ]
  },
  {
   "cell_type": "markdown",
   "metadata": {
    "id": "ik6wWE7OpoH3"
   },
   "source": [
    "# Main"
   ]
  },
  {
   "cell_type": "code",
   "execution_count": 31,
   "metadata": {
    "id": "WSqi2DRF1Q1u"
   },
   "outputs": [],
   "source": [
    "# Hyperparameters and setup\n",
    "training_sam = 100\n",
    "testing_sam = 50\n",
    "num_nodes = 10  # Number of UEs (nodes)\n",
    "p = 10  # Transmit power of each UE\n",
    "I0 = 0.5  # Interference to all UEs\n",
    "n0 = 1  # Noise power\n",
    "var_db = 10\n",
    "var = 1/10**(var_db/10)\n",
    "num_edges = int(num_nodes * (num_nodes - 1)/2)\n",
    "device = torch.device(\"cuda\" if torch.cuda.is_available() else \"cpu\")\n",
    "\n"
   ]
  },
  {
   "cell_type": "code",
   "execution_count": 32,
   "metadata": {
    "colab": {
     "base_uri": "https://localhost:8080/"
    },
    "id": "OfexIZxgwmpv",
    "outputId": "ee2e0323-a8c1-4117-aa64-13acf2117143"
   },
   "outputs": [
    {
     "name": "stdout",
     "output_type": "stream",
     "text": [
      "Generate Data ... (seed = 1309)\n",
      "Benchmark WMMSE: 2.4753837607947573\n",
      "Generate Data ... (seed = 1712)\n",
      "Benchmark WMMSE: 2.753019582103474\n"
     ]
    }
   ],
   "source": [
    "train_dataset = d2dDataset(num_samples=training_sam, num_D2D=num_nodes, p_max=p, n0=var, seed=1309)\n",
    "test_dataset = d2dDataset(num_samples=testing_sam, num_D2D=num_nodes, p_max=p, n0=var, seed=1712)"
   ]
  },
  {
   "cell_type": "code",
   "execution_count": 33,
   "metadata": {
    "colab": {
     "base_uri": "https://localhost:8080/"
    },
    "id": "VLnUmnX5wkIL",
    "outputId": "9df247a6-e7a8-410d-e7c5-fefdd14ca461"
   },
   "outputs": [
    {
     "data": {
      "text/plain": [
       "13"
      ]
     },
     "execution_count": 33,
     "metadata": {},
     "output_type": "execute_result"
    }
   ],
   "source": [
    "mode_num"
   ]
  },
  {
   "cell_type": "code",
   "execution_count": 34,
   "metadata": {
    "colab": {
     "base_uri": "https://localhost:8080/"
    },
    "id": "R_p531llAurD",
    "outputId": "04dc56d7-c27e-4249-f072-8c875c7665fc"
   },
   "outputs": [
    {
     "name": "stdout",
     "output_type": "stream",
     "text": [
      "{'weights': (1, 3, 4)}\n"
     ]
    }
   ],
   "source": [
    "setup_overlap = 1\n",
    "if mode == 'strong':\n",
    "    param_shape = {\"weights\": (num_layers, num_ent_lay, 3, 3)} # Strong\n",
    "elif mode == 'basic':\n",
    "    param_shape = {\"weights\": (num_layers, num_ent_lay, 3)}\n",
    "elif mode == 'custom':\n",
    "    if mode_num == 1:\n",
    "        param_shape = {\"weights\": (num_layers, 3, 2)} # custom circuit 1\n",
    "    elif mode_num == 13:\n",
    "        param_shape = {\"weights\": (num_layers, 3, 4)} # circuit 13\n",
    "print(param_shape)\n"
   ]
  },
  {
   "cell_type": "markdown",
   "metadata": {
    "id": "BaAvnKPa6bDF"
   },
   "source": [
    "## Star decomposition"
   ]
  },
  {
   "cell_type": "code",
   "execution_count": 35,
   "metadata": {
    "id": "-Zu1jgkNPES5"
   },
   "outputs": [],
   "source": [
    "import torch.optim.lr_scheduler as lr_scheduler\n",
    "\n",
    "train_loader = DataLoader(train_dataset, batch_size=1, shuffle=True)\n",
    "test_loader = DataLoader(test_dataset, batch_size=1, shuffle=False)\n",
    "# model_sup = QuantumGraphNetwork(graphlet_sise =num_nodes_model, overlap_size=3).to(device)\n",
    "# param_shape = {\"weights\": (num_layers, num_ent_lay, 3, 3)}\n",
    "# param_shape = {\"weights\": (num_layers, num_ent_lay, 3)}\n",
    "model_star = QGNN_star(w_shapes=param_shape,\n",
    "                 graphlet_size = num_nodes_model,\n",
    "                 overlap_size=setup_overlap\n",
    "                ).to(device)\n",
    "\n",
    "optimizer_star = torch.optim.Adam(model_star.parameters(), lr=5e-2)\n",
    "scheduler_star = lr_scheduler.StepLR(optimizer_star, step_size=1, gamma=0.9)\n"
   ]
  },
  {
   "cell_type": "code",
   "execution_count": null,
   "metadata": {
    "colab": {
     "base_uri": "https://localhost:8080/"
    },
    "id": "ngvj6sOTPES5",
    "outputId": "a23bda52-818c-4a7f-f299-6476187690c4"
   },
   "outputs": [],
   "source": [
    "training_sinr = []\n",
    "testing_sinr = []\n",
    "num_epochs = 10 # Number of epochs for training\n",
    "for epoch in range(num_epochs):\n",
    "    # Train the model\n",
    "    avg_train_loss, avg_train_sinr = train(model_star, train_loader, optimizer_star, 'unsupervised')\n",
    "    scheduler_star.step()\n",
    "    avg_test_sinr = test(model_star, test_loader)\n",
    "    training_sinr.append(avg_train_sinr)\n",
    "    testing_sinr.append(avg_test_sinr)\n",
    "    print(f\"Epoch {epoch + 1}/{num_epochs}, Training loss: {-avg_train_loss:.4f}, Training SINR: {training_sinr[-1]:.4f}, Testing SINR: {testing_sinr[-1]:.4f}\")"
   ]
  },
  {
   "cell_type": "code",
   "execution_count": null,
   "metadata": {
    "id": "GYqDMmoAPES5"
   },
   "outputs": [],
   "source": [
    "total_label = 0\n",
    "num_batch = 0\n",
    "for _, _, opt_sinr, _ in train_loader:\n",
    "    total_label += opt_sinr\n",
    "    num_batch += 1\n",
    "train_label = total_label/num_batch\n",
    "\n",
    "total_label = 0\n",
    "num_batch = 0\n",
    "for _, _, opt_sinr, _ in test_loader:\n",
    "    total_label += opt_sinr\n",
    "    num_batch += 1\n",
    "test_label = total_label/num_batch"
   ]
  },
  {
   "cell_type": "code",
   "execution_count": null,
   "metadata": {
    "colab": {
     "base_uri": "https://localhost:8080/",
     "height": 573
    },
    "id": "SPCUabl-PES5",
    "outputId": "a3c0ae63-3f14-4eea-b9d8-ccbf88f7277e"
   },
   "outputs": [],
   "source": [
    "import matplotlib.pyplot as plt\n",
    "\n",
    "\n",
    "plt.rc(\"text\", usetex=True)\n",
    "plt.rcParams['mathtext.fontset'] = 'cm'\n",
    "plt.rcParams['font.family'] = 'STIXGeneral'\n",
    "plt.rcParams.update({'font.size': 14})\n",
    "\n",
    "plt.figure(figsize=(10, 6))\n",
    "plt.plot(range(1, num_epochs+1), training_sinr, label='Training Sum Rate', marker='o', color='b')\n",
    "plt.plot(range(1, num_epochs+1), testing_sinr, label='Testing Sum Rate', marker='s', color='r')\n",
    "# plt.axhline(y=train_label, color='black', linestyle='-', label='Optimal SINR')\n",
    "plt.axhline(y=train_label, color='black', linestyle='-', label='WMMSE')\n",
    "\n",
    "plt.title('Unsupervised Setting')\n",
    "plt.xlabel('Epoch')\n",
    "plt.ylabel('SINR')\n",
    "plt.xticks(range(1, num_epochs+1))\n",
    "plt.legend()\n",
    "plt.grid(True)\n",
    "plt.show()"
   ]
  },
  {
   "cell_type": "code",
   "execution_count": null,
   "metadata": {
    "colab": {
     "base_uri": "https://localhost:8080/"
    },
    "id": "kzQ7d7i_Givy",
    "outputId": "afa3dc5f-0f59-48d3-8ae5-36da9156990a"
   },
   "outputs": [],
   "source": [
    "eval_sam = 200\n",
    "eval_dataset = d2dDataset(num_samples=eval_sam, num_D2D=num_nodes, p_max=p, n0=var, seed=303)\n",
    "eval_loader = DataLoader(eval_dataset, batch_size=1, shuffle=False)\n",
    "\n",
    "total_label = 0\n",
    "num_batch = 0\n",
    "for _, _, opt_sinr, _ in eval_loader:\n",
    "    total_label += opt_sinr\n",
    "    num_batch += 1\n",
    "eval_label = total_label/num_batch\n",
    "\n",
    "# avg_eval_sinr = test(model_sup, eval_loader)\n",
    "avg_eval_sinr_star = test(model_star, eval_loader)"
   ]
  },
  {
   "cell_type": "code",
   "execution_count": null,
   "metadata": {
    "colab": {
     "base_uri": "https://localhost:8080/"
    },
    "id": "V-cuwdkjGivy",
    "outputId": "07f21306-aa31-4320-b400-52cfc00f4337"
   },
   "outputs": [],
   "source": [
    "print(f'Average sum SINR by optimal algorithm: {eval_label.item():.4f}')\n",
    "# print(f'Average sum SINR by sup-QGNN: {avg_eval_sinr:.4f} - {(avg_eval_sinr/eval_label.item() * 100):.2f}%')\n",
    "print(f'Average sum SINR by unsup-QGNN: {avg_eval_sinr_star:.4f} - {(avg_eval_sinr_star/eval_label.item() * 100):.2f}%')"
   ]
  },
  {
   "cell_type": "code",
   "execution_count": null,
   "metadata": {
    "id": "-fGPCX7PSoCF"
   },
   "outputs": [],
   "source": [
    "torch.save({\n",
    "    'model_state_dict': model_star.state_dict(),\n",
    "    'optimizer_state_dict': optimizer_star.state_dict(),\n",
    "    'scheduler_state_dict': scheduler_star.state_dict()\n",
    "}, \"qgnn_model_star.pth\")"
   ]
  },
  {
   "cell_type": "markdown",
   "metadata": {
    "id": "qlitmx-Cs0Xn"
   },
   "source": [
    "## Supervised"
   ]
  },
  {
   "cell_type": "code",
   "execution_count": null,
   "metadata": {
    "id": "okpfJVgh7c5j"
   },
   "outputs": [],
   "source": [
    "import torch.optim.lr_scheduler as lr_scheduler\n",
    "\n",
    "train_loader = DataLoader(train_dataset, batch_size=1, shuffle=True)\n",
    "test_loader = DataLoader(test_dataset, batch_size=1, shuffle=False)\n",
    "# model_sup = QuantumGraphNetwork(graphlet_sise =num_nodes_model, overlap_size=3).to(device)\n",
    "\n",
    "# param_shape = {\"weights\": (num_layers, num_ent_lay, 3)} # Basic\n",
    "# param_shape = {\"weights\": (num_layers, 3, 2)} # custom circuit 1\n",
    "# param_shape = {\"weights\": (num_layers, 3, 3)} # circuit 13\n",
    "\n",
    "model_sup = QGNN(w_shapes=param_shape,\n",
    "                 graphlet_size = num_nodes_model,\n",
    "                 overlap_size=setup_overlap,\n",
    "                ).to(device)\n",
    "\n",
    "optimizer_sup = torch.optim.Adam(model_sup.parameters(), lr=1e-1)\n",
    "scheduler_sup = lr_scheduler.StepLR(optimizer_sup, step_size=2, gamma=0.8)"
   ]
  },
  {
   "cell_type": "code",
   "execution_count": null,
   "metadata": {
    "id": "LyKAgj1mwlB2"
   },
   "outputs": [],
   "source": [
    "training_sinr = []\n",
    "testing_sinr = []\n",
    "num_epochs = 10  # Number of epochs for training\n",
    "for epoch in range(num_epochs):\n",
    "    # Train the model\n",
    "    avg_train_loss, avg_train_sinr = train(model_sup, train_loader, optimizer_sup, 'supervised')\n",
    "    scheduler_sup.step()\n",
    "    avg_test_sinr = test(model_sup, test_loader)\n",
    "    training_sinr.append(avg_train_sinr)\n",
    "    testing_sinr.append(avg_test_sinr)\n",
    "    print(f\"Epoch {epoch + 1}/{num_epochs}, Training loss: {avg_train_loss:.4f}, Training SINR: {training_sinr[-1]:.4f}, Testing SINR: {testing_sinr[-1]:.4f}\")"
   ]
  },
  {
   "cell_type": "code",
   "execution_count": null,
   "metadata": {
    "id": "GCC8Dzjlutc1"
   },
   "outputs": [],
   "source": [
    "total_label = 0\n",
    "num_batch = 0\n",
    "for _, _, opt_sinr, _ in train_loader:\n",
    "    total_label += opt_sinr\n",
    "    num_batch += 1\n",
    "train_label = total_label/num_batch\n",
    "\n",
    "total_label = 0\n",
    "num_batch = 0\n",
    "for _, _, opt_sinr, _ in test_loader:\n",
    "    total_label += opt_sinr\n",
    "    num_batch += 1\n",
    "test_label = total_label/num_batch"
   ]
  },
  {
   "cell_type": "code",
   "execution_count": null,
   "metadata": {
    "id": "lQtK_dP4jATh"
   },
   "outputs": [],
   "source": [
    "import matplotlib.pyplot as plt\n",
    "\n",
    "\n",
    "plt.rc(\"text\", usetex=True)\n",
    "plt.rcParams['mathtext.fontset'] = 'cm'\n",
    "plt.rcParams['font.family'] = 'STIXGeneral'\n",
    "plt.rcParams.update({'font.size': 14})\n",
    "\n",
    "\n",
    "plt.figure(figsize=(10, 6))\n",
    "plt.plot(range(1, num_epochs+1), training_sinr, label='Training Sum Rate', marker='o', color='b')\n",
    "plt.plot(range(1, num_epochs+1), testing_sinr, label='Testing Sum Rate', marker='s', color='r')\n",
    "# plt.axhline(y=train_label, color='black', linestyle='-', label='Optimal SINR')\n",
    "plt.axhline(y=train_label, color='black', linestyle='-', label='WMMSE')\n",
    "\n",
    "plt.title('Supervised Training')\n",
    "plt.xlabel('Epoch')\n",
    "plt.ylabel('SINR')\n",
    "plt.xticks(range(1, num_epochs+1))\n",
    "plt.legend()\n",
    "plt.grid(True)\n",
    "plt.show()"
   ]
  },
  {
   "cell_type": "markdown",
   "metadata": {
    "id": "VDisV7rpsxct"
   },
   "source": [
    "## Unsupervised"
   ]
  },
  {
   "cell_type": "code",
   "execution_count": null,
   "metadata": {
    "id": "XCpFkFY0Rvdt"
   },
   "outputs": [],
   "source": [
    "import torch.optim.lr_scheduler as lr_scheduler\n",
    "\n",
    "train_loader = DataLoader(train_dataset, batch_size=1, shuffle=True)\n",
    "test_loader = DataLoader(test_dataset, batch_size=1, shuffle=False)\n",
    "# model_sup = QuantumGraphNetwork(graphlet_sise =num_nodes_model, overlap_size=3).to(device)\n",
    "# param_shape = {\"weights\": (num_layers, num_ent_lay, 3, 3)}\n",
    "# param_shape = {\"weights\": (num_layers, num_ent_lay, 3)}\n",
    "model_unsup = QGNN(w_shapes=param_shape,\n",
    "                 graphlet_size = num_nodes_model,\n",
    "                 overlap_size=setup_overlap\n",
    "                ).to(device)\n",
    "\n",
    "optimizer_unsup = torch.optim.Adam(model_unsup.parameters(), lr=1e-1)\n",
    "scheduler_unsup = lr_scheduler.StepLR(optimizer_unsup, step_size=2, gamma=0.8)\n"
   ]
  },
  {
   "cell_type": "code",
   "execution_count": null,
   "metadata": {
    "id": "c9F_hHbvRxu3"
   },
   "outputs": [],
   "source": [
    "training_sinr = []\n",
    "testing_sinr = []\n",
    "num_epochs = 10  # Number of epochs for training\n",
    "for epoch in range(num_epochs):\n",
    "    # Train the model\n",
    "    avg_train_loss, avg_train_sinr = train(model_unsup, train_loader, optimizer_unsup, 'unsupervised')\n",
    "    scheduler_unsup.step()\n",
    "    avg_test_sinr = test(model_unsup, test_loader)\n",
    "    training_sinr.append(avg_train_sinr)\n",
    "    testing_sinr.append(avg_test_sinr)\n",
    "    print(f\"Epoch {epoch + 1}/{num_epochs}, Training loss: {-avg_train_loss:.4f}, Training SINR: {training_sinr[-1]:.4f}, Testing SINR: {testing_sinr[-1]:.4f}\")"
   ]
  },
  {
   "cell_type": "code",
   "execution_count": null,
   "metadata": {
    "id": "90oqG-GpmbDy"
   },
   "outputs": [],
   "source": [
    "total_label = 0\n",
    "num_batch = 0\n",
    "for _, _, opt_sinr, _ in train_loader:\n",
    "    total_label += opt_sinr\n",
    "    num_batch += 1\n",
    "train_label = total_label/num_batch\n",
    "\n",
    "total_label = 0\n",
    "num_batch = 0\n",
    "for _, _, opt_sinr, _ in test_loader:\n",
    "    total_label += opt_sinr\n",
    "    num_batch += 1\n",
    "test_label = total_label/num_batch"
   ]
  },
  {
   "cell_type": "code",
   "execution_count": null,
   "metadata": {
    "id": "1by16EVNmYa5"
   },
   "outputs": [],
   "source": [
    "import matplotlib.pyplot as plt\n",
    "\n",
    "\n",
    "plt.rc(\"text\", usetex=True)\n",
    "plt.rcParams['mathtext.fontset'] = 'cm'\n",
    "plt.rcParams['font.family'] = 'STIXGeneral'\n",
    "plt.rcParams.update({'font.size': 14})\n",
    "\n",
    "plt.figure(figsize=(10, 6))\n",
    "plt.plot(range(1, num_epochs+1), training_sinr, label='Training Sum Rate', marker='o', color='b')\n",
    "plt.plot(range(1, num_epochs+1), testing_sinr, label='Testing Sum Rate', marker='s', color='r')\n",
    "# plt.axhline(y=train_label, color='black', linestyle='-', label='Optimal SINR')\n",
    "plt.axhline(y=train_label, color='black', linestyle='-', label='WMMSE')\n",
    "\n",
    "plt.title('Unsupervised Setting')\n",
    "plt.xlabel('Epoch')\n",
    "plt.ylabel('SINR')\n",
    "plt.xticks(range(1, num_epochs+1))\n",
    "plt.legend()\n",
    "plt.grid(True)\n",
    "plt.show()"
   ]
  },
  {
   "cell_type": "markdown",
   "metadata": {
    "id": "gtRKOarWmi5a"
   },
   "source": [
    "\n",
    "## Evaluate the Model"
   ]
  },
  {
   "cell_type": "code",
   "execution_count": null,
   "metadata": {
    "colab": {
     "base_uri": "https://localhost:8080/"
    },
    "id": "jOT2Lnctm6E9",
    "outputId": "9291d4ab-6514-4d57-de06-b03b382f09d1"
   },
   "outputs": [
    {
     "name": "stdout",
     "output_type": "stream",
     "text": [
      "Generate Data ... (seed = 303)\n",
      "Benchmark WMMSE: 2.3277710062689843\n"
     ]
    }
   ],
   "source": [
    "eval_sam = 300\n",
    "eval_dataset = d2dDataset(num_samples=eval_sam, num_D2D=num_nodes, p_max=p, n0=var, seed=303)\n",
    "eval_loader = DataLoader(eval_dataset, batch_size=1, shuffle=False)\n",
    "\n",
    "total_label = 0\n",
    "num_batch = 0\n",
    "for _, _, opt_sinr, _ in eval_loader:\n",
    "    total_label += opt_sinr\n",
    "    num_batch += 1\n",
    "eval_label = total_label/num_batch\n",
    "\n",
    "# avg_eval_sinr = test(model_sup, eval_loader)\n",
    "avg_eval_sinr_unsup = test(model_unsup, eval_loader)"
   ]
  },
  {
   "cell_type": "code",
   "execution_count": null,
   "metadata": {
    "colab": {
     "base_uri": "https://localhost:8080/"
    },
    "id": "r3e0W_WroAwj",
    "outputId": "41ae5515-4911-4115-a1ce-db27c63006d0"
   },
   "outputs": [
    {
     "name": "stdout",
     "output_type": "stream",
     "text": [
      "Average sum SINR by optimal algorithm: 2.3278\n",
      "Average sum SINR by unsup-QGNN: 2.1793 - 93.62%\n"
     ]
    }
   ],
   "source": [
    "print(f'Average sum SINR by optimal algorithm: {eval_label.item():.4f}')\n",
    "# print(f'Average sum SINR by sup-QGNN: {avg_eval_sinr:.4f} - {(avg_eval_sinr/eval_label.item() * 100):.2f}%')\n",
    "print(f'Average sum SINR by unsup-QGNN: {avg_eval_sinr_unsup:.4f} - {(avg_eval_sinr_unsup/eval_label.item() * 100):.2f}%')"
   ]
  },
  {
   "cell_type": "code",
   "execution_count": null,
   "metadata": {
    "id": "Uir5Sm4MoFL9"
   },
   "outputs": [],
   "source": [
    "torch.save({\n",
    "    'model_state_dict': model_unsup.state_dict(),\n",
    "    'optimizer_state_dict': optimizer_unsup.state_dict(),\n",
    "    'scheduler_state_dict': scheduler_unsup.state_dict()\n",
    "}, \"qgnn_model.pth\")"
   ]
  },
  {
   "cell_type": "code",
   "execution_count": null,
   "metadata": {
    "id": "IEwZJ4ixiLae"
   },
   "outputs": [],
   "source": [
    "# # Load the checkpoint\n",
    "# checkpoint = torch.load(\"qgnn_model_13_real.pth\", map_location=device)\n",
    "\n",
    "# # Load model, optimizer, and scheduler state dictionaries\n",
    "# model_unsup.load_state_dict(checkpoint['model_state_dict'])\n",
    "# optimizer_unsup.load_state_dict(checkpoint['optimizer_state_dict'])\n",
    "# scheduler_unsup.load_state_dict(checkpoint['scheduler_state_dict'])\n",
    "\n",
    "# print(\"Model, optimizer, and scheduler loaded successfully!\")"
   ]
  },
  {
   "cell_type": "code",
   "execution_count": null,
   "metadata": {
    "colab": {
     "base_uri": "https://localhost:8080/"
    },
    "id": "lVhoMhKNWs6y",
    "outputId": "6f6aeb4a-5322-4572-f600-5a3299c85e37"
   },
   "outputs": [
    {
     "name": "stdout",
     "output_type": "stream",
     "text": [
      "QGNN-Unsupervised outperforms the optimal SINR in 85/200 cases (42.50%).\n"
     ]
    }
   ],
   "source": [
    "# Counter for cases where unsupervised QGNN outperforms the benchmark\n",
    "better_unsup_count = 0\n",
    "total_samples = 0\n",
    "\n",
    "# Switch model to evaluation mode\n",
    "model_unsup.eval()\n",
    "device = torch.device(\"cuda\" if torch.cuda.is_available() else \"cpu\")\n",
    "eval_loader = DataLoader(eval_dataset, batch_size=1, shuffle=False)\n",
    "with torch.no_grad():\n",
    "    for channel_matrices, weight_sumrates, opt_sinr, _ in eval_loader:\n",
    "        total_samples += 1\n",
    "\n",
    "        # Move data to device\n",
    "        channel_matrices = channel_matrices[0].T.to(device).to(torch.float32)\n",
    "        weight_sumrates = weight_sumrates[0].to(device).to(torch.float32)\n",
    "        opt_sinr = opt_sinr[0].to(device).to(torch.float32)  # Optimal SINR for comparison\n",
    "\n",
    "        # Get prediction from unsupervised QGNN\n",
    "        output = model_unsup(channel_matrices, weight_sumrates).float()\n",
    "        power_new = output  # Use power allocation output\n",
    "        sum_rate_unsup = sum_weighted_rate(channel_matrices, power_new, weight_sumrates, var)\n",
    "\n",
    "        # Check if unsupervised QGNN is better than the optimal SINR\n",
    "        if sum_rate_unsup.item() > opt_sinr.item():\n",
    "            better_unsup_count += 1\n",
    "\n",
    "# Compute percentage of cases where QGNN performed better\n",
    "unsup_better_ratio = (better_unsup_count / total_samples) * 100\n",
    "\n",
    "# Print results\n",
    "print(f\"QGNN-Unsupervised outperforms the optimal SINR in {better_unsup_count}/{total_samples} cases ({unsup_better_ratio:.2f}%).\")\n"
   ]
  },
  {
   "cell_type": "markdown",
   "metadata": {
    "id": "3QPutkwUPE1U"
   },
   "source": [
    "# Other Testing"
   ]
  },
  {
   "cell_type": "markdown",
   "metadata": {
    "id": "OQPOKBfPv1F1"
   },
   "source": [
    "## New Model"
   ]
  },
  {
   "cell_type": "code",
   "execution_count": null,
   "metadata": {
    "id": "JPzDTE_4wKNd"
   },
   "outputs": [],
   "source": [
    "model = QGNN_star(w_shapes=param_shape,\n",
    "                 graphlet_size = num_nodes_model,\n",
    "                 overlap_size=setup_overlap\n",
    "                ).to(device)\n",
    "train_loader = DataLoader(train_dataset, batch_size=1, shuffle=True)\n",
    "input_layer = torch.nn.Linear(2, 1)"
   ]
  },
  {
   "cell_type": "code",
   "execution_count": null,
   "metadata": {
    "id": "5Y_VMIS6wjEC"
   },
   "outputs": [],
   "source": [
    "for channel_matrices, weight_sumrates, _, labels in train_loader:\n",
    "    channel_matrices = channel_matrices[0].T.to(device).to(torch.float32)\n",
    "    labels = labels[0].to(device).to(torch.float32)\n",
    "    weight_sumrates = weight_sumrates[0].to(device).to(torch.float32)\n",
    "    break\n",
    "channel_matrices = channel_matrices\n",
    "weight_matrices = weight_sumrates"
   ]
  },
  {
   "cell_type": "code",
   "execution_count": null,
   "metadata": {
    "colab": {
     "base_uri": "https://localhost:8080/"
    },
    "id": "oySzRkdX1U1u",
    "outputId": "0515b4f0-2e1d-426e-c96d-0252ce71830f"
   },
   "outputs": [
    {
     "name": "stdout",
     "output_type": "stream",
     "text": [
      "channel_matrices: torch.Size([10, 10])\n",
      "weight_matrices: torch.Size([10])\n"
     ]
    }
   ],
   "source": [
    "print(f\"channel_matrices: {channel_matrices.shape}\")\n",
    "print(f\"weight_matrices: {weight_matrices.shape}\")"
   ]
  },
  {
   "cell_type": "code",
   "execution_count": null,
   "metadata": {
    "id": "xK_tIBfL3Ihd"
   },
   "outputs": [],
   "source": [
    "def preprocess_inputs(channel_matrices, weight_matrices):\n",
    "    num_nodes = channel_matrices.shape[0]\n",
    "\n",
    "    node_feat = torch.stack([\n",
    "        torch.stack([channel_matrices[i, i], weight_matrices[i]])\n",
    "        for i in range(num_nodes)\n",
    "    ])\n",
    "\n",
    "    edge_attr = []\n",
    "    edge_index = []\n",
    "\n",
    "    for i in range(num_nodes):\n",
    "        for j in range(i + 1, num_nodes):\n",
    "            edge_attr.append(torch.tensor([channel_matrices[i, j], channel_matrices[j, i]]))\n",
    "            edge_index.append((i, j))\n",
    "\n",
    "    edge_attr = torch.stack(edge_attr)\n",
    "\n",
    "    return node_feat, edge_attr, edge_index"
   ]
  },
  {
   "cell_type": "code",
   "execution_count": null,
   "metadata": {
    "id": "H_yBEizZ3D7b"
   },
   "outputs": [],
   "source": [
    "node_feat, edge_attr, edge_index = preprocess_inputs(channel_matrices, weight_matrices)"
   ]
  },
  {
   "cell_type": "code",
   "execution_count": null,
   "metadata": {
    "id": "u7i5bFbLxB-v"
   },
   "outputs": [],
   "source": [
    "num_of_nodes = channel_matrices.shape[0]\n",
    "all_feat = {}\n",
    "for l in range(num_of_nodes):\n",
    "    for k in range(l, num_of_nodes):\n",
    "        if l != k:\n",
    "            tmp = torch.tensor([channel_matrices[l, k], channel_matrices[k, l]])\n",
    "        else:\n",
    "            tmp = torch.tensor([channel_matrices[l, k], weight_matrices[l]])\n",
    "        all_feat[f'{l}_{k}'] = input_layer(tmp).squeeze()\n",
    "\n",
    "adj_mtx = full_adj_numpy = np.ones((num_of_nodes, num_of_nodes)) - np.eye(num_of_nodes)\n",
    "graphlets = star_subgraph(adj_mtx, subgraph_size=5)"
   ]
  },
  {
   "cell_type": "code",
   "execution_count": null,
   "metadata": {
    "colab": {
     "base_uri": "https://localhost:8080/"
    },
    "id": "spojmQb5xhJu",
    "outputId": "461bf16c-bc8c-4562-e29c-9afde2024a0b"
   },
   "outputs": [
    {
     "data": {
      "text/plain": [
       "[[0, 8, 6, 2, 3],\n",
       " [1, 7, 9, 5, 4],\n",
       " [2, 0, 1, 9, 5],\n",
       " [3, 8, 1, 6, 0],\n",
       " [4, 9, 1, 2, 6],\n",
       " [5, 7, 8, 6, 1],\n",
       " [6, 0, 5, 4, 7],\n",
       " [7, 1, 5, 6, 8],\n",
       " [8, 0, 1, 7, 2],\n",
       " [9, 5, 7, 4, 2]]"
      ]
     },
     "execution_count": 44,
     "metadata": {},
     "output_type": "execute_result"
    }
   ],
   "source": [
    "graphlets"
   ]
  },
  {
   "cell_type": "markdown",
   "metadata": {
    "id": "idnOlqSPv2lY"
   },
   "source": [
    "## Other"
   ]
  },
  {
   "cell_type": "code",
   "execution_count": null,
   "metadata": {
    "id": "GfK27MnQolzS"
   },
   "outputs": [],
   "source": [
    "@qml.qnode(dev, interface='torch')\n",
    "def qgnn_node(inputs, weights):\n",
    "    \"\"\"Quantum graph neural network circuit.\"\"\"\n",
    "    thetas = weights[:,:, 0].to(torch.cfloat)\n",
    "    phis = weights[:,:, 1].to(torch.cfloat)\n",
    "    adjacency_matrix, vertex_features = unpack_inputs(inputs)\n",
    "\n",
    "    # Measure initial qubit states\n",
    "    initial_states = [qml.expval(qml.PauliZ(i)) for i in range(n_qubits)]\n",
    "    print(\"Initial qubit states:\", initial_states)  # Debugging\n",
    "\n",
    "    q_edge_encoding(adjacency_matrix)\n",
    "    q_vertex_encoding(vertex_features)\n",
    "\n",
    "    for each_lay in range(num_layers):\n",
    "        quantum_graph_conv_layer(thetas[each_lay], phis[each_lay], num_edges)\n",
    "    return [qml.expval(qml.PauliZ(i)) for i in range(num_edges,n_qubits)]"
   ]
  },
  {
   "cell_type": "code",
   "execution_count": null,
   "metadata": {
    "id": "LTnjWQybsGdR"
   },
   "outputs": [],
   "source": [
    "setting = 'supervised'"
   ]
  },
  {
   "cell_type": "code",
   "execution_count": null,
   "metadata": {
    "colab": {
     "base_uri": "https://localhost:8080/"
    },
    "id": "Or6D6JoVtyTm",
    "outputId": "34900f08-7cf6-4a35-e851-17989417b18f"
   },
   "outputs": [
    {
     "name": "stdout",
     "output_type": "stream",
     "text": [
      "Measured Initial Qubit States: [expval(Z(0)), expval(Z(1)), expval(Z(2)), expval(Z(3)), expval(Z(4)), expval(Z(5)), expval(Z(6)), expval(Z(7)), expval(Z(8)), expval(Z(9))]\n"
     ]
    }
   ],
   "source": [
    "def check_initial_state():\n",
    "    \"\"\"Returns the initial state of all qubits before any operation.\"\"\"\n",
    "    return [qml.expval(qml.PauliZ(i)) for i in range(n_qubits)]\n",
    "\n",
    "# Run the function and print initial qubit states\n",
    "initial_states = check_initial_state()\n",
    "print(\"Measured Initial Qubit States:\", initial_states)"
   ]
  },
  {
   "cell_type": "code",
   "execution_count": null,
   "metadata": {
    "colab": {
     "base_uri": "https://localhost:8080/"
    },
    "id": "3cjncnFwpsD0",
    "outputId": "c2169043-5c25-4c3d-87b7-32e387bc6d2f"
   },
   "outputs": [
    {
     "name": "stdout",
     "output_type": "stream",
     "text": [
      "Epoch 1/6, Training loss: -0.3033, Training SINR: 7.1267, Testing SINR: 7.2106\n",
      "Epoch 2/6, Training loss: -0.3018, Training SINR: 7.2235, Testing SINR: 7.2804\n",
      "Epoch 3/6, Training loss: -0.3006, Training SINR: 7.2902, Testing SINR: 7.4053\n",
      "Epoch 4/6, Training loss: -0.2992, Training SINR: 7.2804, Testing SINR: 7.5406\n",
      "Epoch 5/6, Training loss: -0.2982, Training SINR: 7.3817, Testing SINR: 7.5224\n",
      "Epoch 6/6, Training loss: -0.2970, Training SINR: 7.4033, Testing SINR: 7.5678\n"
     ]
    }
   ],
   "source": [
    "training_sinr = []\n",
    "testing_sinr = []\n",
    "num_epochs = 6  # Number of epochs for training\n",
    "for epoch in range(num_epochs):\n",
    "    # Train the model\n",
    "    avg_train_loss, avg_train_sinr = train(model_sup, train_loader, optimizer_sup, 'supervised')\n",
    "    avg_test_sinr = test(model_sup, test_loader)\n",
    "    training_sinr.append(avg_train_sinr)\n",
    "    testing_sinr.append(avg_test_sinr)\n",
    "    print(f\"Epoch {epoch + 1}/{num_epochs}, Training loss: {-avg_train_loss:.4f}, Training SINR: {training_sinr[-1]:.4f}, Testing SINR: {testing_sinr[-1]:.4f}\")"
   ]
  },
  {
   "cell_type": "markdown",
   "metadata": {
    "id": "u3kPgyr7H6A-"
   },
   "source": [
    "## Graphlet Splitting"
   ]
  },
  {
   "cell_type": "code",
   "execution_count": null,
   "metadata": {
    "id": "ukIQ9_OfH7tB"
   },
   "outputs": [],
   "source": [
    "import networkx as nx\n",
    "import torch\n",
    "import random\n",
    "import matplotlib.pyplot as plt\n",
    "\n",
    "def partition_graph_with_overlap(G, graphlet_size=4, overlap_nodes=1):\n",
    "\n",
    "    nodes = list(G.nodes)\n",
    "    graphlets = []\n",
    "\n",
    "    # Shuffle nodes for randomness (optional)\n",
    "    random.shuffle(nodes)\n",
    "\n",
    "    i = 0\n",
    "    while i <= len(nodes) - graphlet_size:\n",
    "        sub_nodes = nodes[i:i + graphlet_size]\n",
    "        subgraph = G.subgraph(sub_nodes).copy()\n",
    "        graphlets.append(subgraph)\n",
    "\n",
    "        i += (graphlet_size - overlap_nodes)\n",
    "\n",
    "    return graphlets"
   ]
  },
  {
   "cell_type": "code",
   "execution_count": null,
   "metadata": {
    "colab": {
     "base_uri": "https://localhost:8080/",
     "height": 507
    },
    "id": "lwPiLtkMUIkm",
    "outputId": "a19112e4-65cc-4646-c478-6e7a5776968c"
   },
   "outputs": [
    {
     "data": {
      "image/png": "[encoded data removed]",
      "text/plain": [
       "<Figure size 1500x500 with 3 Axes>"
      ]
     },
     "metadata": {},
     "output_type": "display_data"
    }
   ],
   "source": [
    "# Create a fully connected graph with 6 nodes\n",
    "N = 7\n",
    "G = nx.complete_graph(N)\n",
    "\n",
    "# Partition with graphlet size = 4 and overlap = 1\n",
    "graphlet_size = 4\n",
    "overlap_nodes = 2\n",
    "graphlets = partition_graph_with_overlap(G, graphlet_size=graphlet_size, overlap_nodes=overlap_nodes)\n",
    "\n",
    "# Visualization\n",
    "num_graphlets = len(graphlets)\n",
    "fig, axes = plt.subplots(1, num_graphlets + 1, figsize=(15, 5))\n",
    "\n",
    "# Plot the original graph\n",
    "axes[0].set_title(\"Original Fully Connected Graph\", fontsize=14)\n",
    "nx.draw(G, with_labels=True, node_color=\"lightblue\", edge_color=\"gray\", node_size=700, font_size=12, ax=axes[0])\n",
    "\n",
    "# Plot each overlapping 4-node graphlet\n",
    "for i in range(num_graphlets):\n",
    "    subgraph = graphlets[i]\n",
    "    axes[i + 1].set_title(f\"Graphlet {i+1} ({len(subgraph.nodes)} nodes)\", fontsize=14)\n",
    "    nx.draw(subgraph, with_labels=True, node_color=\"lightgreen\", edge_color=\"black\", node_size=700, font_size=12, ax=axes[i + 1])\n",
    "\n",
    "plt.tight_layout()\n",
    "plt.show()"
   ]
  },
  {
   "cell_type": "markdown",
   "metadata": {
    "id": "Vi-mFigR9Lke"
   },
   "source": [
    "## Graphleting with the array"
   ]
  },
  {
   "cell_type": "code",
   "execution_count": null,
   "metadata": {
    "id": "LRkHeXsj6oqf"
   },
   "outputs": [],
   "source": [
    "import random\n",
    "\n",
    "def graphleting(num_nodes, graphlet_size=4, overlap_nodes=1):\n",
    "    graphlet_indices = []  # Store the indices of nodes in each graphlet\n",
    "\n",
    "    # Generate indices for overlapping partitions\n",
    "    indices = list(range(num_nodes))\n",
    "    random.shuffle(indices)  # Shuffle nodes (optional)\n",
    "\n",
    "    i = 0\n",
    "    while i < num_nodes - (graphlet_size - 1):\n",
    "        sub_indices = indices[i:i + graphlet_size]  # Select nodes for this graphlet\n",
    "        graphlet_indices.append(sub_indices)  # Store node indices\n",
    "\n",
    "        # Move forward while keeping overlap\n",
    "        i += (graphlet_size - overlap_nodes)\n",
    "\n",
    "    return graphlet_indices  # Return indices too"
   ]
  },
  {
   "cell_type": "code",
   "execution_count": null,
   "metadata": {
    "id": "ydrt30fb1Sjf"
   },
   "outputs": [],
   "source": [
    "from torch.utils.data import Dataset, DataLoader\n",
    "\n",
    "class CellularDatasetx(Dataset):\n",
    "    def __init__(self, num_samples, num_nodes, p, I0, n0):\n",
    "        self.num_samples = num_samples\n",
    "        self.num_nodes = num_nodes\n",
    "        self.p = p  # Transmit power\n",
    "        self.I0 = I0  # Interference to all UEs\n",
    "        self.n0 = n0  # Noise power\n",
    "\n",
    "        # Generate the dataset (graphs and labels)\n",
    "        self.graphs, self.sinr_max, self.label_alpha, self.graphlets = self.generate_data()\n",
    "\n",
    "    def generate_data(self):\n",
    "        graphs = []\n",
    "        sinr_max = []\n",
    "        label_alpha = []\n",
    "        graphlets = []\n",
    "\n",
    "        for _ in range(self.num_samples):\n",
    "            h = np.random.rand(self.num_nodes)  # Channel gains for all users\n",
    "\n",
    "            best_alpha, best_sinr = exhaustive_search_best_alpha(self.num_nodes, h, self.p, self.I0, self.n0)\n",
    "\n",
    "            node_features = torch.tensor(h, dtype=torch.float64)\n",
    "            graphlet_indices = graphleting(len(node_features), graphlet_size=graphlet_size, overlap_nodes=overlap_nodes)\n",
    "\n",
    "            # Fully connected graph => adjacency vector with all ones (except diagonal)\n",
    "            adjacency_vector = torch.ones(int(self.num_nodes * (self.num_nodes - 1) / 2))\n",
    "\n",
    "            # Append the generated graph and its corresponding label (optimal alpha)\n",
    "            graphs.append((adjacency_vector, node_features))\n",
    "            sinr_max.append(torch.tensor(best_sinr, dtype=torch.float32))  # Binary transmission decisions\n",
    "            label_alpha.append(torch.tensor(best_alpha, dtype=torch.float32))\n",
    "            graphlets.append(graphlet_indices)\n",
    "\n",
    "        return graphs, sinr_max, label_alpha, graphlets\n",
    "\n",
    "    def __len__(self):\n",
    "        return self.num_samples\n",
    "\n",
    "    def __getitem__(self, idx):\n",
    "        return self.graphs[idx], self.sinr_max[idx], self.label_alpha[idx], self.graphlets[idx]"
   ]
  },
  {
   "cell_type": "code",
   "execution_count": null,
   "metadata": {
    "id": "hB1_uxJvpsDz"
   },
   "outputs": [],
   "source": [
    "# Hyperparameters and setup\n",
    "training_sam = 10\n",
    "testing_sam = 10\n",
    "num_nodes = 7  # Number of UEs (nodes)\n",
    "p = 10  # Transmit power of each UE\n",
    "I0 = 0.5  # Interference to all UEs\n",
    "n0 = 1  # Noise power\n",
    "num_edges = int(num_nodes * (num_nodes - 1)/2)\n",
    "device = torch.device(\"cuda\" if torch.cuda.is_available() else \"cpu\")"
   ]
  },
  {
   "cell_type": "code",
   "execution_count": null,
   "metadata": {
    "id": "AkYjjo7OpsD0"
   },
   "outputs": [],
   "source": [
    "train_dataset = CellularDataset(training_sam, num_nodes, p, I0, n0)\n",
    "test_dataset = CellularDatasetx(testing_sam, num_nodes, p, I0, n0)\n",
    "train_loader = DataLoader(train_dataset, batch_size=1, shuffle=True)\n",
    "test_loader = DataLoader(test_dataset, batch_size=1, shuffle=False)\n",
    "model = QuantumGraphNetwork().to(device)"
   ]
  },
  {
   "cell_type": "code",
   "execution_count": null,
   "metadata": {
    "id": "uwxOIDFKZFUl"
   },
   "outputs": [],
   "source": [
    "model.train()\n",
    "total_loss = 0\n",
    "total_sinr = 0\n",
    "for graph_data, _, labels in train_loader:\n",
    "    adjacency_matrix, node_features = graph_data\n",
    "    # print(adjacency_matrix)\n",
    "    # print(node_features)\n",
    "    # Send to device (GPU or CPU)\n",
    "    adjacency_matrix = adjacency_matrix[0].to(device)\n",
    "    node_features = node_features[0].to(device)\n",
    "    labels = labels[0].to(device)\n",
    "\n",
    "    # Forward pass\n",
    "    output = model(node_features)"
   ]
  },
  {
   "cell_type": "code",
   "execution_count": null,
   "metadata": {
    "colab": {
     "base_uri": "https://localhost:8080/"
    },
    "id": "RHO9eXwob1be",
    "outputId": "8d3bc487-f4ed-4862-ed72-d3f12811c8fb"
   },
   "outputs": [
    {
     "data": {
      "text/plain": [
       "{0: tensor(0.3868, dtype=torch.float64, grad_fn=<DivBackward0>),\n",
       " 1: tensor(0.3914, dtype=torch.float64, grad_fn=<DivBackward0>),\n",
       " 2: tensor(0.0879, dtype=torch.float64, grad_fn=<DivBackward0>),\n",
       " 3: tensor(0.3637, dtype=torch.float64, grad_fn=<DivBackward0>),\n",
       " 4: tensor(0.1717, dtype=torch.float64, grad_fn=<DivBackward0>),\n",
       " 5: tensor(0.3500, dtype=torch.float64, grad_fn=<DivBackward0>),\n",
       " 6: tensor(0.1097, dtype=torch.float64, grad_fn=<DivBackward0>)}"
      ]
     },
     "execution_count": 74,
     "metadata": {},
     "output_type": "execute_result"
    }
   ],
   "source": [
    "output"
   ]
  },
  {
   "cell_type": "code",
   "execution_count": null,
   "metadata": {
    "colab": {
     "base_uri": "https://localhost:8080/"
    },
    "id": "1APuRgDLaEsu",
    "outputId": "c1b432df-17cb-4318-e5bc-c71ccf14e0df"
   },
   "outputs": [
    {
     "name": "stdout",
     "output_type": "stream",
     "text": [
      "tensor([1.0000, 1.0000, 1.0000, 1.0000, 1.0000, 1.0000, 0.9717, 0.6658, 0.2962,\n",
      "        0.9461], dtype=torch.float64)\n",
      "tensor([1.0000, 1.0000, 1.0000, 1.0000, 1.0000, 1.0000, 0.9461, 0.9603, 0.2523,\n",
      "        0.9987], dtype=torch.float64)\n"
     ]
    }
   ],
   "source": [
    "graphlet_indices = graphleting(len(vertex_features), graphlet_size=4, overlap_nodes=1)\n",
    "for each_graphlet in graphlet_indices:\n",
    "    graphlet_features = vertex_features[each_graphlet]\n",
    "    graphlet_size = graphlet_features.shape[0]\n",
    "    adjacency_matrix = torch.ones(int(graphlet_size * (graphlet_size - 1) / 2)).to(device)\n",
    "    inputs = torch.cat((adjacency_matrix, graphlet_features), dim=0)\n",
    "    print(inputs)\n",
    "    print()\n"
   ]
  },
  {
   "cell_type": "markdown",
   "metadata": {
    "id": "jv3YbO8R9PVS"
   },
   "source": [
    "## Current working playground for training"
   ]
  },
  {
   "cell_type": "code",
   "execution_count": null,
   "metadata": {
    "id": "kdTmfSkIzy7_"
   },
   "outputs": [],
   "source": [
    "for eachSample in range(1):\n",
    "    graph_datas, sinr_all, labels, graphlets = train_dataset[eachSample]\n",
    "    _, all_feats = graph_datas\n",
    "    num_of_nodes = all_feats.shape[0]\n",
    "    feat_hist = {i: all_feats[i] for i in range(num_of_nodes)}\n",
    "    for each_graphlet in graphlets:\n",
    "        node_features = all_feats[each_graphlet].to(device)\n",
    "        graphlet_size = node_features.shape[0]\n",
    "        adjacency_matrix = torch.ones(int(graphlet_size * (graphlet_size - 1) / 2)).to(device)\n",
    "        output = model(adjacency_matrix, node_features).float()\n",
    "\n",
    "        label = labels[each_graphlet]\n",
    "        loss = criterion(output, label)"
   ]
  },
  {
   "cell_type": "code",
   "execution_count": null,
   "metadata": {
    "colab": {
     "base_uri": "https://localhost:8080/"
    },
    "id": "rXTOs5DUh5ab",
    "outputId": "8a86f1b6-bcd4-4b4b-897b-073b4a7bc949"
   },
   "outputs": [
    {
     "data": {
      "text/plain": [
       "tensor([0.3762, 0.0000, 0.0000, 0.0000], grad_fn=<ToCopyBackward0>)"
      ]
     },
     "execution_count": 62,
     "metadata": {},
     "output_type": "execute_result"
    }
   ],
   "source": [
    "output"
   ]
  },
  {
   "cell_type": "code",
   "execution_count": null,
   "metadata": {
    "colab": {
     "base_uri": "https://localhost:8080/"
    },
    "id": "dX6DXTN3sb5p",
    "outputId": "c23ee561-1f6f-48f3-ae7b-f37f36750beb"
   },
   "outputs": [
    {
     "data": {
      "text/plain": [
       "{0: tensor(0.9717, dtype=torch.float64),\n",
       " 1: tensor(0.9461, dtype=torch.float64),\n",
       " 2: tensor(0.9603, dtype=torch.float64),\n",
       " 3: tensor(0.2523, dtype=torch.float64),\n",
       " 4: tensor(0.2962, dtype=torch.float64),\n",
       " 5: tensor(0.9987, dtype=torch.float64),\n",
       " 6: tensor(0.6658, dtype=torch.float64)}"
      ]
     },
     "execution_count": 60,
     "metadata": {},
     "output_type": "execute_result"
    }
   ],
   "source": [
    "num_of_nodes = vertex_features.shape[0]\n",
    "feat_hist = {i: vertex_features[i] for i in range(num_of_nodes)}\n",
    "feat_hist"
   ]
  },
  {
   "cell_type": "code",
   "execution_count": null,
   "metadata": {
    "colab": {
     "base_uri": "https://localhost:8080/"
    },
    "id": "lA2JFTnAr9XQ",
    "outputId": "c87bed21-9c85-43d2-bdf6-e4fa79cedc04"
   },
   "outputs": [
    {
     "name": "stdout",
     "output_type": "stream",
     "text": [
      "tensor(0.9461, dtype=torch.float64)\n",
      "tensor(0.3762, grad_fn=<SelectBackward0>)\n",
      "tensor(0.9603, dtype=torch.float64)\n",
      "tensor(0., grad_fn=<SelectBackward0>)\n",
      "tensor(0.2523, dtype=torch.float64)\n",
      "tensor(0., grad_fn=<SelectBackward0>)\n",
      "tensor(0.9987, dtype=torch.float64)\n",
      "tensor(0., grad_fn=<SelectBackward0>)\n"
     ]
    }
   ],
   "source": [
    "for idx, node in enumerate(each_graphlet):\n",
    "    print(feat_hist[node])\n",
    "    print(output[idx])"
   ]
  },
  {
   "cell_type": "markdown",
   "metadata": {
    "id": "aeoahC1iJ6i7"
   },
   "source": [
    "## Testing new benchmark"
   ]
  },
  {
   "cell_type": "code",
   "execution_count": null,
   "metadata": {
    "id": "a9XA1k_CH_HQ"
   },
   "outputs": [],
   "source": [
    "# Parameters\n",
    "N = 10  # Number of UEs\n",
    "p = 10  # Transmit power of each UE\n",
    "I0 = 0.5  # Interference to all UEs\n",
    "n0 = 1  # Noise power\n",
    "\n",
    "# Random channel gains (h_n) for each UE\n",
    "h = np.random.rand(N)\n"
   ]
  },
  {
   "cell_type": "code",
   "execution_count": null,
   "metadata": {
    "colab": {
     "base_uri": "https://localhost:8080/"
    },
    "id": "KhwFCdxNSxKl",
    "outputId": "b3304f3c-d054-4e7d-c8d5-c5776de4c3d8"
   },
   "outputs": [
    {
     "name": "stdout",
     "output_type": "stream",
     "text": [
      "Optimal alpha values: [1. 1. 0. 0. 1. 0. 0. 0. 0. 0.]\n",
      "Maximum sum SINR Value: 11.64048597813902\n"
     ]
    }
   ],
   "source": [
    "import numpy\n",
    "import gurobipy as gp\n",
    "from gurobipy import GRB\n",
    "\n",
    "\n",
    "num_random_restarts = 10  # Number of times to try with different random initializations\n",
    "\n",
    "best_alpha = None\n",
    "best_objVal = -np.inf\n",
    "\n",
    "for restart in range(num_random_restarts):\n",
    "\n",
    "    max_iter = 100\n",
    "    epsilon = 1e-10\n",
    "    sum_SINR_list = []\n",
    "    # Step 1: Init value\n",
    "    # alpha = np.ones(N)\n",
    "    alpha = np.random.randint(0, 2, N)\n",
    "    lambda_vals = calculate_lambda(alpha, h, p, I0, n0)\n",
    "    objVal_old = np.infty\n",
    "    # Iteration loop\n",
    "    for iteration in range(max_iter):\n",
    "\n",
    "        # Step 2: Solve optimization problem with Gurobi\n",
    "        model = gp.Model(\"SINR_Optimization\")\n",
    "        model.setParam('OutputFlag', 0)\n",
    "        model.setParam('OptimalityTol', 1e-9)  # Tighten optimality tolerance\n",
    "        model.setParam('FeasibilityTol', 1e-9)  # Tighten feasibility tolerance\n",
    "        alpha_vars = model.addVars(N, vtype=GRB.BINARY, name=\"alpha\")\n",
    "\n",
    "        # Add continuous auxiliary variables y_n\n",
    "        y_vars = model.addVars(N, lb=0, name=\"y\")\n",
    "\n",
    "        # Add continuous variables z_n to represent sqrt(alpha_n)\n",
    "        z_vars = model.addVars(N, lb=0, name=\"z\")\n",
    "\n",
    "        for n in range(N):\n",
    "            model.addGenConstrPow(z_vars[n], alpha_vars[n], 0.5, name=f\"sqrt_constr_{n}\")\n",
    "\n",
    "        objective = gp.LinExpr()\n",
    "        for n in range(N):\n",
    "            objective += (2 * lambda_vals[n] * alpha_vars[n] * np.sqrt(p * h[n])\n",
    "            - lambda_vals[n] ** 2 * (gp.quicksum(alpha_vars[i] * I0 for i in range(N) if i != n) + n0))\n",
    "\n",
    "        model.setObjective(objective, GRB.MAXIMIZE)\n",
    "        model.optimize()\n",
    "\n",
    "        # Step 3: Get optimized values\n",
    "        alpha_new = np.array([alpha_vars[n].X for n in range(N)])\n",
    "        lambda_vals_new = calculate_lambda(alpha_new, h, p, I0, n0)\n",
    "        # objVal = model.ObjVal\n",
    "        objVal = recalculate_objective(alpha_new, lambda_vals_new, h, p, I0, n0)\n",
    "\n",
    "\n",
    "        # print(f'======== Iterations: {iteration + 1}')\n",
    "        # print(\"Current alpha values:\", alpha_new)\n",
    "        # # print(\"Current lambda value values:\", lambda_vals_new)\n",
    "        # print(\"Current Objective Value:\", objVal)\n",
    "\n",
    "        # Step 4: Calculate the sum SINR for the current iteration and store it\n",
    "        sum_SINR = calculate_sum_SINR(alpha_new, h, p, I0, n0)\n",
    "        sum_SINR_list.append(sum_SINR)\n",
    "\n",
    "        # Step 5: Check convergence based on auxiliary variables y\n",
    "        if np.abs(objVal_old - objVal) < epsilon:\n",
    "            # print(f\"Converged after {iteration+1} iterations.\")\n",
    "            break\n",
    "\n",
    "        # Update alpha and y for the next iteration\n",
    "        alpha = alpha_new\n",
    "        lambda_vals = lambda_vals_new\n",
    "        objVal_old = objVal\n",
    "\n",
    "        if objVal > best_objVal:\n",
    "            best_alpha = alpha_new\n",
    "            best_objVal = objVal\n",
    "            best_sum_list = sum_SINR_list\n",
    "\n",
    "# Output the final solution\n",
    "print(\"Optimal alpha values:\", best_alpha)\n",
    "print(\"Maximum sum SINR Value:\", best_sum_list[-1])\n"
   ]
  },
  {
   "cell_type": "code",
   "execution_count": null,
   "metadata": {
    "colab": {
     "base_uri": "https://localhost:8080/"
    },
    "id": "EaJWZAhsCRNQ",
    "outputId": "e5ba74ed-cc90-4571-88f4-22f3a0254a0a"
   },
   "outputs": [
    {
     "name": "stdout",
     "output_type": "stream",
     "text": [
      "[1. 1. 0. 0. 1. 0. 1. 0. 0. 0.] 11.551852089237313\n"
     ]
    }
   ],
   "source": [
    "best_a, best_s = frac_prog(N, h, p, I0, n0)\n",
    "print(best_a, best_s)\n"
   ]
  },
  {
   "cell_type": "code",
   "execution_count": null,
   "metadata": {
    "id": "5A85lFI4IEbo"
   },
   "outputs": [],
   "source": []
  }
 ],
 "metadata": {
  "colab": {
   "provenance": [],
   "toc_visible": true
  },
  "kernelspec": {
   "display_name": "Python 3 (ipykernel)",
   "language": "python",
   "name": "python3"
  },
  "language_info": {
   "codemirror_mode": {
    "name": "ipython",
    "version": 3
   },
   "file_extension": ".py",
   "mimetype": "text/x-python",
   "name": "python",
   "nbconvert_exporter": "python",
   "pygments_lexer": "ipython3",
   "version": "3.9.21"
  }
 },
 "nbformat": 4,
 "nbformat_minor": 4
}
