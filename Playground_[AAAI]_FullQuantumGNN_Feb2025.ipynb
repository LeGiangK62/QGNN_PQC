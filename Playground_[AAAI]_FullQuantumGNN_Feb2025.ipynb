{
 "cells": [
  {
   "cell_type": "code",
   "execution_count": 1,
   "metadata": {
    "id": "itBfKEi3zRJI"
   },
   "outputs": [],
   "source": [
    "%%capture\n",
    "## Latex Plot\n",
    "!sudo apt install cm-super dvipng texlive-latex-extra texlive-latex-recommended"
   ]
  },
  {
   "cell_type": "markdown",
   "metadata": {
    "id": "7txisRa_WJ-L"
   },
   "source": [
    "# Problem formulation"
   ]
  },
  {
   "cell_type": "code",
   "execution_count": 2,
   "metadata": {
    "id": "eZg7YlM_dIm4"
   },
   "outputs": [],
   "source": [
    "%%capture\n",
    "!pip install gurobipy"
   ]
  },
  {
   "cell_type": "code",
   "execution_count": 3,
   "metadata": {
    "id": "76ESQ_KHyFya"
   },
   "outputs": [],
   "source": [
    "%%capture\n",
    "!pip install pennylane\n",
    "!pip install torch_geometric"
   ]
  },
  {
   "cell_type": "markdown",
   "metadata": {
    "id": "Si1CnkIk5Qxp"
   },
   "source": [
    "## Graphlet Function"
   ]
  },
  {
   "cell_type": "code",
   "execution_count": 4,
   "metadata": {
    "id": "1rj9Kvr5yRJO"
   },
   "outputs": [],
   "source": [
    "import random\n",
    "from collections import defaultdict\n",
    "\n",
    "def graphleting(num_nodes, graphlet_size=4, overlap_nodes=1):\n",
    "    graphlet_indices = []  # Store the indices of nodes in each graphlet\n",
    "\n",
    "    # Generate indices for overlapping partitions\n",
    "    indices = list(range(num_nodes))\n",
    "    random.shuffle(indices)  # Shuffle nodes (optional)\n",
    "\n",
    "    i = 0\n",
    "    while i < num_nodes - (graphlet_size - 1):\n",
    "        sub_indices = indices[i:i + graphlet_size]  # Select nodes for this graphlet\n",
    "        graphlet_indices.append(sub_indices)  # Store node indices\n",
    "\n",
    "        # Move forward while keeping overlap\n",
    "        i += (graphlet_size - overlap_nodes)\n",
    "\n",
    "    return graphlet_indices  # Return indices too\n",
    "\n",
    "def star_subgraph(adjacency_matrix, subgraph_size=4):\n",
    "    num_nodes = adjacency_matrix.shape[0]\n",
    "    subgraph_indices = []\n",
    "    uncovered_neighbors = set(range(num_nodes))  # All nodes should be covered as neighbors at least once\n",
    "\n",
    "    leaf_counts = defaultdict(int)\n",
    "\n",
    "    seed_nodes = list(range(num_nodes))\n",
    "    random.shuffle(seed_nodes)\n",
    "\n",
    "    for center_node in seed_nodes:\n",
    "        neighbors = [i for i in range(num_nodes) if adjacency_matrix[center_node, i] != 0 and i != center_node]\n",
    "        k = subgraph_size - 1\n",
    "\n",
    "        candidates = neighbors  # Already excludes center node\n",
    "\n",
    "        # Case 1: Not enough neighbors → take all of them\n",
    "        if len(candidates) <= k:\n",
    "            sampled_neighbors = candidates\n",
    "\n",
    "        else:\n",
    "            available_new = list(set(candidates) & uncovered_neighbors)\n",
    "\n",
    "            # Case 2a: enough new nodes → sample from them\n",
    "            if len(available_new) >= k:\n",
    "                sampled_neighbors = random.sample(available_new, k)\n",
    "\n",
    "            # Case 2b: not enough new nodes → take all + fill from candidates\n",
    "            else:\n",
    "                sampled_neighbors = available_new\n",
    "                remaining_k = k - len(sampled_neighbors)\n",
    "                remaining_pool = list(set(candidates) - set(sampled_neighbors))\n",
    "                remaining_pool.sort(key=lambda x: leaf_counts[x])\n",
    "\n",
    "                sampled_neighbors += remaining_pool[:remaining_k]\n",
    "\n",
    "        # Update uncovered neighbor set\n",
    "        uncovered_neighbors -= set(sampled_neighbors)\n",
    "        for node in sampled_neighbors:\n",
    "            leaf_counts[node] += 1\n",
    "\n",
    "        # Add center + its sampled neighbors\n",
    "        subgraph = [center_node] + sampled_neighbors\n",
    "        subgraph_indices.append(subgraph)\n",
    "\n",
    "    return subgraph_indices"
   ]
  },
  {
   "cell_type": "markdown",
   "metadata": {
    "id": "t6AGI5fzVxNb"
   },
   "source": [
    "# New QML"
   ]
  },
  {
   "cell_type": "code",
   "execution_count": 5,
   "metadata": {
    "id": "mv6yU7RXTgYQ"
   },
   "outputs": [],
   "source": [
    "import pennylane as qml\n",
    "\n",
    "\n",
    "def circuit_1(weights, wires):\n",
    "    for idx, wire in enumerate(wires):\n",
    "        qml.RX(weights[idx, 0], wires=wire)\n",
    "        qml.RZ(weights[idx, 1], wires=wire)\n",
    "\n",
    "def circuit_2(weights, wires):\n",
    "    for idx, wire in enumerate(wires):\n",
    "        qml.RX(weights[idx, 0], wires=wire)\n",
    "        qml.RZ(weights[idx, 1], wires=wire)\n",
    "    for idx, wire in enumerate(wires[:-1]):\n",
    "        qml.CNOT(wires=[wire, wires[idx+1]])\n",
    "\n",
    "def circuit_3(weights, wires):\n",
    "    for idx, wire in enumerate(wires):\n",
    "        qml.RX(weights[idx], wires=wire)\n",
    "        qml.RZ(weights[idx], wires=wire)\n",
    "\n",
    "def circuit_13(weights, wires):\n",
    "    for idx, wire in enumerate(wires):\n",
    "        qml.RY(weights[idx, 0], wires=wire)\n",
    "    for idx, wire in enumerate(wires[::-1]):\n",
    "        qml.CRZ(weights[idx, 1], wires=[wire, wires[-(idx)]])\n",
    "\n",
    "    for idx, wire in enumerate(wires):\n",
    "        qml.RY(weights[idx, 2], wires=wire)\n",
    "    target =  wires[1:] + wires[:1]\n",
    "    for idx, wire in enumerate(wires[-1:] + wires[:-1]):\n",
    "        qml.CRZ(weights[idx, 3], wires=[wire, target[idx]])\n",
    "\n",
    "\n",
    "def circuit_139(weights, wires):\n",
    "    for idx, wire in enumerate(wires):\n",
    "        qml.RY(weights[idx, 0], wires=wire)\n",
    "    for idx, wire in enumerate(wires[::-1]):\n",
    "        qml.CRZ(weights[idx, 1], wires=[wire, wires[-(idx)]])\n",
    "\n",
    "    for idx, wire in enumerate(wires):\n",
    "        qml.RY(weights[idx, 2], wires=wire)\n",
    "    target =  wires[1:] + wires[:1]\n",
    "    for idx, wire in enumerate(wires[-1:] + wires[:-1]):\n",
    "        qml.CRZ(weights[idx, 1], wires=[wire, target[idx]])\n",
    "\n",
    "def circuit_14(weights, wires):\n",
    "    for idx, wire in enumerate(wires):\n",
    "        qml.RY(weights[idx, 0], wires=wire)\n",
    "    for idx, wire in enumerate(wires[::-1]):\n",
    "        qml.CRX(weights[idx, 1], wires=[wire, wires[-(idx)]])\n",
    "\n",
    "    for idx, wire in enumerate(wires):\n",
    "        qml.RY(weights[idx, 2], wires=wire)\n",
    "    target =  wires[1:] + wires[:1]\n",
    "    for idx, wire in enumerate(wires[-1:] + wires[:-1]):\n",
    "        qml.CRX(weights[idx, 3], wires=[wire, target[idx]])\n",
    "\n",
    "def circuit_15(weights, wires):\n",
    "    for idx, wire in enumerate(wires):\n",
    "        qml.RY(weights[idx, 0], wires=wire)\n",
    "    for idx, wire in enumerate(wires[::-1]):\n",
    "        qml.CNOT(wires=[wire, wires[-(idx)]])\n",
    "\n",
    "    for idx, wire in enumerate(wires):\n",
    "        qml.RY(weights[idx, 1], wires=wire)\n",
    "    target =  wires[1:] + wires[:1]\n",
    "    for idx, wire in enumerate(wires[-1:] + wires[:-1]):\n",
    "        qml.CNOT(wires=[wire, target[idx]])\n",
    "\n",
    "\n",
    "\n",
    "\n",
    "def custom_pqc(weights, wires, mode=1):\n",
    "    if mode == 1:\n",
    "        circuit_1(weights, wires)\n",
    "    elif mode == 2:\n",
    "        circuit_2(weights, wires)\n",
    "    elif mode == 3:\n",
    "        circuit_3(weights, wires)\n",
    "    elif mode == 13:\n",
    "        circuit_13(weights, wires)\n",
    "    elif mode == 14:\n",
    "        circuit_14(weights, wires)\n",
    "    elif mode == 15:\n",
    "        circuit_15(weights, wires)"
   ]
  },
  {
   "cell_type": "code",
   "execution_count": 6,
   "metadata": {
    "id": "DKrGKZaOVyw8"
   },
   "outputs": [],
   "source": [
    "import torch\n",
    "import torch.nn as nn\n",
    "from pennylane import numpy as np\n",
    "import pennylane as qml\n",
    "\n",
    "\n",
    "\n",
    "def qgnn_layer_4(theta, num_edges):\n",
    "    qml.StronglyEntanglingLayers(weights=theta, wires=[0, num_edges+0, num_edges+1])\n",
    "    qml.SWAP(wires=[num_edges+0, num_edges+1])\n",
    "    qml.StronglyEntanglingLayers(weights=theta, wires=[1, num_edges+1, num_edges+2])\n",
    "    qml.SWAP(wires=[num_edges+1, num_edges+2])\n",
    "    qml.StronglyEntanglingLayers(weights=theta, wires=[2, num_edges+0, num_edges+1])\n",
    "    qml.StronglyEntanglingLayers(weights=theta, wires=[3, num_edges+1, num_edges+2])\n",
    "    qml.SWAP(wires=[num_edges+0, num_edges+1])\n",
    "    qml.SWAP(wires=[num_edges+1, num_edges+2])\n",
    "    qml.StronglyEntanglingLayers(weights=theta, wires=[4, num_edges+2, num_edges+3])\n",
    "    qml.SWAP(wires=[num_edges+0, num_edges+1])\n",
    "    qml.SWAP(wires=[num_edges+1, num_edges+2])\n",
    "    qml.StronglyEntanglingLayers(weights=theta, wires=[5, num_edges+2, num_edges+3])\n",
    "\n",
    "def custom_4(theta, num_edges, num_mode):\n",
    "    custom_pqc(weights=theta, wires=[0, num_edges+0, num_edges+1],mode=num_mode)\n",
    "    qml.SWAP(wires=[num_edges+0, num_edges+1])\n",
    "    custom_pqc(weights=theta, wires=[1, num_edges+1, num_edges+2],mode=num_mode)\n",
    "    qml.SWAP(wires=[num_edges+1, num_edges+2])\n",
    "    custom_pqc(weights=theta, wires=[2, num_edges+0, num_edges+1],mode=num_mode)\n",
    "    custom_pqc(weights=theta, wires=[3, num_edges+1, num_edges+2],mode=num_mode)\n",
    "    qml.SWAP(wires=[num_edges+0, num_edges+1])\n",
    "    qml.SWAP(wires=[num_edges+1, num_edges+2])\n",
    "    custom_pqc(weights=theta, wires=[4, num_edges+2, num_edges+3],mode=num_mode)\n",
    "    qml.SWAP(wires=[num_edges+0, num_edges+1])\n",
    "    qml.SWAP(wires=[num_edges+1, num_edges+2])\n",
    "    custom_pqc(weights=theta, wires=[5, num_edges+2, num_edges+3],mode=num_mode)\n",
    "\n",
    "\n",
    "def qgnn_layer_4_Basic(theta, num_edges):\n",
    "    qml.BasicEntanglerLayers(weights=theta, wires=[0, num_edges+0, num_edges+1])\n",
    "    qml.SWAP(wires=[num_edges+0, num_edges+1])\n",
    "    qml.BasicEntanglerLayers(weights=theta, wires=[1, num_edges+1, num_edges+2])\n",
    "    qml.SWAP(wires=[num_edges+1, num_edges+2])\n",
    "    qml.BasicEntanglerLayers(weights=theta, wires=[2, num_edges+0, num_edges+1])\n",
    "    qml.BasicEntanglerLayers(weights=theta, wires=[3, num_edges+1, num_edges+2])\n",
    "    qml.SWAP(wires=[num_edges+0, num_edges+1])\n",
    "    qml.SWAP(wires=[num_edges+1, num_edges+2])\n",
    "    qml.BasicEntanglerLayers(weights=theta, wires=[4, num_edges+2, num_edges+3])\n",
    "    qml.SWAP(wires=[num_edges+0, num_edges+1])\n",
    "    qml.SWAP(wires=[num_edges+1, num_edges+2])\n",
    "    qml.BasicEntanglerLayers(weights=theta, wires=[5, num_edges+2, num_edges+3])\n",
    "\n",
    "def unpack_inputs_single(inputs):\n",
    "    adjacency_matrix = inputs[:num_edges_model].reshape(-1, num_edges_model)\n",
    "    node_features = inputs[num_edges_model:].reshape(-1, num_nodes_model)\n",
    "    return adjacency_matrix, node_features\n",
    "\n"
   ]
  },
  {
   "cell_type": "code",
   "execution_count": 7,
   "metadata": {
    "id": "ko1sXYW6tSRz"
   },
   "outputs": [],
   "source": [
    "def qgnn_layer_5_Basic(theta, num_edges):\n",
    "    qml.BasicEntanglerLayers(weights=theta, wires=[0, num_edges+0, num_edges + 1])\n",
    "    qml.SWAP(wires = [num_edges + 0, num_edges+1])\n",
    "    qml.BasicEntanglerLayers(weights=theta, wires=[1, num_edges+1, num_edges + 2])\n",
    "    qml.SWAP(wires = [num_edges + 1, num_edges+2])\n",
    "    qml.BasicEntanglerLayers(weights=theta, wires=[2, num_edges+2, num_edges + 3])\n",
    "    qml.SWAP(wires = [num_edges + 2, num_edges + 3])\n",
    "    qml.BasicEntanglerLayers(weights=theta, wires=[3, num_edges+3, num_edges + 4])\n",
    "    qml.BasicEntanglerLayers(weights=theta, wires=[4, num_edges+0, num_edges + 1])\n",
    "    qml.SWAP(wires = [num_edges+0, num_edges+1])\n",
    "    qml.BasicEntanglerLayers(weights=theta, wires=[5, num_edges+1, num_edges + 2])\n",
    "    qml.SWAP(wires = [num_edges+1, num_edges+2])\n",
    "    qml.SWAP(wires = [num_edges+2, num_edges+3])\n",
    "    qml.BasicEntanglerLayers(weights=theta, wires=[6, num_edges+3, num_edges + 4])\n",
    "    qml.BasicEntanglerLayers(weights=theta, wires=[7, num_edges+0, num_edges+1])\n",
    "    qml.SWAP(wires=[num_edges+0, num_edges+1])\n",
    "    qml.SWAP(wires=[num_edges+1, num_edges+2])\n",
    "    qml.SWAP(wires=[num_edges+2, num_edges+3])\n",
    "    qml.BasicEntanglerLayers(weights=theta, wires=[8, num_edges+3, num_edges+4])\n",
    "    qml.SWAP(wires=[num_edges+0, num_edges+1])\n",
    "    qml.SWAP(wires=[num_edges+1, num_edges+2])\n",
    "    qml.SWAP(wires=[num_edges+2, num_edges+3])\n",
    "    qml.BasicEntanglerLayers(weights=theta, wires=[9, num_edges+3, num_edges+4])\n",
    "\n",
    "def qgnn_layer_5(theta, num_edges):\n",
    "    qml.StronglyEntanglingLayers(weights=theta, wires=[0, num_edges+0, num_edges + 1])\n",
    "    qml.SWAP(wires = [num_edges + 0, num_edges+1])\n",
    "    qml.StronglyEntanglingLayers(weights=theta, wires=[1, num_edges+1, num_edges + 2])\n",
    "    qml.SWAP(wires = [num_edges + 1, num_edges+2])\n",
    "    qml.StronglyEntanglingLayers(weights=theta, wires=[2, num_edges+2, num_edges + 3])\n",
    "    qml.SWAP(wires = [num_edges + 2, num_edges + 3])\n",
    "    qml.StronglyEntanglingLayers(weights=theta, wires=[3, num_edges+3, num_edges + 4])\n",
    "    qml.StronglyEntanglingLayers(weights=theta, wires=[4, num_edges+0, num_edges + 1])\n",
    "    qml.SWAP(wires = [num_edges+0, num_edges+1])\n",
    "    qml.StronglyEntanglingLayers(weights=theta, wires=[5, num_edges+1, num_edges + 2])\n",
    "    qml.SWAP(wires = [num_edges+1, num_edges+2])\n",
    "    qml.SWAP(wires = [num_edges+2, num_edges+3])\n",
    "    qml.StronglyEntanglingLayers(weights=theta, wires=[6, num_edges+3, num_edges + 4])\n",
    "    qml.StronglyEntanglingLayers(weights=theta, wires=[7, num_edges+0, num_edges+1])\n",
    "    qml.SWAP(wires=[num_edges+0, num_edges+1])\n",
    "    qml.SWAP(wires=[num_edges+1, num_edges+2])\n",
    "    qml.SWAP(wires=[num_edges+2, num_edges+3])\n",
    "    qml.StronglyEntanglingLayers(weights=theta, wires=[8, num_edges+3, num_edges+4])\n",
    "    qml.SWAP(wires=[num_edges+0, num_edges+1])\n",
    "    qml.SWAP(wires=[num_edges+1, num_edges+2])\n",
    "    qml.SWAP(wires=[num_edges+2, num_edges+3])\n",
    "    qml.StronglyEntanglingLayers(weights=theta, wires=[9, num_edges+3, num_edges+4])\n",
    "\n",
    "def custom_5(theta, num_edges, mode=1):\n",
    "    custom_pqc(weights=theta, wires=[0, num_edges+0, num_edges + 1], mode=mode)\n",
    "    qml.SWAP(wires = [num_edges + 0, num_edges+1])\n",
    "    custom_pqc(weights=theta, wires=[1, num_edges+1, num_edges + 2], mode=mode)\n",
    "    qml.SWAP(wires = [num_edges + 1, num_edges+2])\n",
    "    custom_pqc(weights=theta, wires=[2, num_edges+2, num_edges + 3], mode=mode)\n",
    "    qml.SWAP(wires = [num_edges + 2, num_edges + 3])\n",
    "    custom_pqc(weights=theta, wires=[3, num_edges+3, num_edges + 4], mode=mode)\n",
    "    custom_pqc(weights=theta, wires=[4, num_edges+0, num_edges + 1], mode=mode)\n",
    "    qml.SWAP(wires = [num_edges+0, num_edges+1])\n",
    "    custom_pqc(weights=theta, wires=[5, num_edges+1, num_edges + 2])\n",
    "    qml.SWAP(wires = [num_edges+1, num_edges+2])\n",
    "    qml.SWAP(wires = [num_edges+2, num_edges+3])\n",
    "    custom_pqc(weights=theta, wires=[6, num_edges+3, num_edges + 4], mode=mode)\n",
    "    custom_pqc(weights=theta, wires=[7, num_edges+0, num_edges+1], mode=mode)\n",
    "    qml.SWAP(wires=[num_edges+0, num_edges+1])\n",
    "    qml.SWAP(wires=[num_edges+1, num_edges+2])\n",
    "    qml.SWAP(wires=[num_edges+2, num_edges+3])\n",
    "    custom_pqc(weights=theta, wires=[8, num_edges+3, num_edges+4], mode=mode)\n",
    "    qml.SWAP(wires=[num_edges+0, num_edges+1])\n",
    "    qml.SWAP(wires=[num_edges+1, num_edges+2])\n",
    "    qml.SWAP(wires=[num_edges+2, num_edges+3])\n",
    "    custom_pqc(weights=theta, wires=[9, num_edges+3, num_edges+4], mode=mode)\n"
   ]
  },
  {
   "cell_type": "code",
   "execution_count": 8,
   "metadata": {
    "id": "EErOLTeNJRyu"
   },
   "outputs": [],
   "source": [
    "def star_pqc(theta, num_edges, mode=1):\n",
    "    for i in range(num_edges):\n",
    "        custom_pqc(weights=theta, wires=[i, num_edges+0, num_edges+i+1], mode=mode)"
   ]
  },
  {
   "cell_type": "markdown",
   "metadata": {
    "id": "ICY-oGpe1bfb"
   },
   "source": [
    "## QNode"
   ]
  },
  {
   "cell_type": "code",
   "execution_count": 9,
   "metadata": {
    "id": "VQBDmnepdqbt"
   },
   "outputs": [],
   "source": [
    "num_nodes_model = 6\n",
    "sub_mode = 'star'\n",
    "\n",
    "num_layers = 1\n",
    "num_ent_lay = 1\n",
    "mode = 'custom' #'strong\n",
    "mode_num = 13\n",
    "hop_neighbor = 2\n",
    "\n",
    "if sub_mode == 'random':\n",
    "    num_edges_model = int(num_nodes_model * (num_nodes_model-1)/2)\n",
    "elif sub_mode == 'star':\n",
    "    num_edges_model = num_nodes_model - 1\n",
    "n_qubits = num_nodes_model + num_edges_model\n",
    "\n",
    "dev = qml.device(\"default.qubit\", wires=n_qubits)\n",
    "\n",
    "@qml.qnode(dev, interface='torch', diff_method='backprop')\n",
    "def qgnn_circuit(inputs, weights):\n",
    "    adjacency_matrix, vertex_features = unpack_inputs_single(inputs)\n",
    "\n",
    "    for i in range(num_edges_model):\n",
    "        # qml.AmplitudeEmbedding(features=adjacency_matrix[:,i], wires=i, normalize=True, pad_with=0.)\n",
    "        qml.RY(adjacency_matrix[:,i], wires=i)\n",
    "    for i in range(num_nodes_model):\n",
    "        # qml.AmplitudeEmbedding(features=vertex_features[:,i], wires=num_edges_model+i, normalize=True, pad_with=0.)\n",
    "        qml.RY(vertex_features[:,i], wires=num_edges_model + i)\n",
    "    for each_lay in range(num_layers):\n",
    "        if sub_mode == 'random':\n",
    "            if num_nodes_model == 4:\n",
    "                if mode == 'strong':\n",
    "                    qgnn_layer_4(weights[each_lay].to(torch.float32),num_edges_model)\n",
    "                elif mode == 'basic':\n",
    "                    qgnn_layer_4_Basic(weights[each_lay].to(torch.float32),num_edges_model)\n",
    "                elif mode == 'custom':\n",
    "                    custom_4(weights[each_lay].to(torch.float32),num_edges_model,mode_num)\n",
    "            elif num_nodes_model == 5:\n",
    "                if mode == 'strong':\n",
    "                    qgnn_layer_5(weights[each_lay].to(torch.float32),num_edges_model)\n",
    "                elif mode == 'basic':\n",
    "                    qgnn_layer_5_Basic(weights[each_lay].to(torch.float32),num_edges_model)\n",
    "                elif mode == 'custom':\n",
    "                    custom_5(weights[each_lay].to(torch.float32),num_edges_model,mode_num)\n",
    "        elif sub_mode == 'star':\n",
    "            star_pqc(weights[each_lay].to(torch.float32),num_edges_model,mode_num)\n",
    "\n",
    "    # return [qml.expval(qml.PauliZ(num_edges_model))]\n",
    "    return [qml.expval(qml.PauliZ(i)) for i in range(num_edges_model,n_qubits)]\n",
    "    # return qml.probs(wires=list(range(num_edges_model, n_qubits)))"
   ]
  },
  {
   "cell_type": "markdown",
   "metadata": {
    "id": "QSsxKmKy1Zo5"
   },
   "source": [
    "## Model"
   ]
  },
  {
   "cell_type": "code",
   "execution_count": 10,
   "metadata": {
    "id": "XDjBdF6DL2tR"
   },
   "outputs": [],
   "source": [
    "import copy\n",
    "\n",
    "class QgnnNode(nn.Module):\n",
    "    def __init__(self, w_shapes,  node_input_dim=2, edge_input_dim=2,\n",
    "                 graphlet_size=4, overlap_size=1):\n",
    "        super().__init__()\n",
    "        self.input_node = torch.nn.Sequential(\n",
    "                                # torch.nn.Linear(2, 4),\n",
    "                                # torch.nn.Sigmoid(),\n",
    "                                torch.nn.Linear(node_input_dim, 1),\n",
    "                                torch.nn.Sigmoid()\n",
    "                            )\n",
    "        self.input_edge = torch.nn.Sequential(\n",
    "                                # torch.nn.Linear(2, 4),\n",
    "                                # torch.nn.Sigmoid(),\n",
    "                                torch.nn.Linear(edge_input_dim, 1),\n",
    "                                torch.nn.Sigmoid()\n",
    "                            )\n",
    "        self.qconv = qml.qnn.TorchLayer(qgnn_circuit, w_shapes)\n",
    "        self.reLU = torch.nn.ReLU()\n",
    "        # self.qconv = torch.nn.Sequential( *[self.qconv, self.reLU])\n",
    "        self.graphlet_size = graphlet_size\n",
    "        self.overlap_size = overlap_size\n",
    "        # self.final = nn.Sequential(\n",
    "        #     nn.Linear(1, 16),\n",
    "        #     nn.ReLU(),\n",
    "        #     nn.Linear(16, 1),\n",
    "        #     nn.Sigmoid()\n",
    "        # )\n",
    "\n",
    "    def forward(self, node_feat, edge_attr, edge_index):\n",
    "        num_nodes = node_feat.shape[0]\n",
    "        all_feat = {}\n",
    "\n",
    "        # Save diagonal features first\n",
    "        for i in range(num_nodes):\n",
    "            all_feat[f\"{i}_{i}\"] = self.input_node(node_feat[i]).squeeze()\n",
    "\n",
    "        # Now set features for edge pairs\n",
    "        for idx, (i, j) in enumerate(edge_index):\n",
    "            edge_feat = edge_attr[idx]\n",
    "            all_feat[f\"{i}_{j}\"] = self.input_edge(edge_feat).squeeze()\n",
    "\n",
    "        adj_mtx = np.zeros((num_nodes, num_nodes))\n",
    "        for i, j in edge_index:\n",
    "            adj_mtx[i, j] = 1\n",
    "            adj_mtx[j, i] = 1\n",
    "        graphlets = star_subgraph(adj_mtx, subgraph_size=self.graphlet_size)\n",
    "\n",
    "        for _ in range(hop_neighbor):\n",
    "            all_feat_upd = all_feat.copy()\n",
    "            for each_graphlet in graphlets:\n",
    "                center = each_graphlet[0]\n",
    "                neighbors = each_graphlet[1:]\n",
    "\n",
    "                subgraph_features = torch.stack([\n",
    "                    all_feat[f\"{min(center, neighbor)}_{max(center, neighbor)}\"]\n",
    "                    for neighbor in neighbors\n",
    "                ])\n",
    "                node_features = torch.stack([\n",
    "                    all_feat[f\"{node}_{node}\"] for node in each_graphlet\n",
    "                ])\n",
    "                while len(subgraph_features) < num_edges_model:\n",
    "                    subgraph_features = torch.cat([subgraph_features, torch.tensor([0.0])],dim=0)\n",
    "                while len(node_features) < num_nodes_model:\n",
    "                    node_features = torch.cat([node_features, torch.tensor([0.0])],dim=0)\n",
    "\n",
    "                inputs = torch.cat([subgraph_features, node_features], dim=0)\n",
    "                x = self.qconv(inputs)\n",
    "                x = self.reLU(x)\n",
    "\n",
    "                all_feat_upd[f\"{center}_{center}\"] = x[0]\n",
    "\n",
    "            all_feat = all_feat_upd\n",
    "\n",
    "        final_node_embeddings = torch.stack([all_feat[f\"{i}_{i}\"]for i in range(num_nodes)])\n",
    "        # final_node_embeddings = torch.stack([self.final(all_feat[f\"{i}_{i}\"].view(1)).squeeze() for i in range(num_nodes)])\n",
    "        return final_node_embeddings"
   ]
  },
  {
   "cell_type": "code",
   "execution_count": 11,
   "metadata": {
    "id": "J4bRar8HH9Pp"
   },
   "outputs": [],
   "source": [
    "class QGNNGraphClassifier(nn.Module):\n",
    "    def __init__(self, base_model, hidden_dim=1):\n",
    "        super().__init__()\n",
    "        self.base_model = base_model\n",
    "        self.classifier = nn.Sequential(\n",
    "            nn.Linear(hidden_dim, 16),\n",
    "            nn.ReLU(),\n",
    "            nn.Linear(16, 1),\n",
    "            # nn.Sigmoid()\n",
    "        )\n",
    "\n",
    "    def forward(self, node_feat, edge_attr, edge_index, batch):\n",
    "        node_embeddings = self.base_model(node_feat, edge_attr, edge_index)\n",
    "        graph_embedding = global_mean_pool(node_embeddings, batch)\n",
    "        return self.classifier(graph_embedding)"
   ]
  },
  {
   "cell_type": "code",
   "execution_count": 12,
   "metadata": {
    "id": "PSZ4CAbwh-0e"
   },
   "outputs": [],
   "source": [
    "\n",
    "# weight_shapes = {\"weights\": (num_layers, num_ent_lay, 3, 3)} # Strong\n",
    "if mode == 'strong':\n",
    "    weight_shapes = {\"weights\": (num_layers, num_ent_lay, 3, 3)} # Strong\n",
    "elif mode == 'basic':\n",
    "    weight_shapes = {\"weights\": (num_layers, num_ent_lay, 3)}\n",
    "elif mode == 'custom':\n",
    "    if mode_num == 1:\n",
    "        weight_shapes = {\"weights\": (num_layers, 3, 2)} # custom circuit 1\n",
    "    elif mode_num == 13:\n",
    "        weight_shapes = {\"weights\": (num_layers, 3, 4)} # circuit 13\n",
    "    elif mode_num == 14:\n",
    "        weight_shapes = {\"weights\": (num_layers, 3, 4)} # circuit 13\n",
    "    elif mode_num == 15:\n",
    "        weight_shapes = {\"weights\": (num_layers, 3, 2)} # circuit 13\n",
    "    elif mode_num == 139:\n",
    "        weight_shapes = {\"weights\": (num_layers, 3, 3)} # circuit 13\n",
    "\n",
    "\n",
    "\n",
    "adjacency_matrix = torch.rand(1, num_edges_model, dtype=torch.float32)\n",
    "vertex_features = torch.rand(1, num_nodes_model, dtype=torch.float32)\n",
    "adjacency_matrix = adjacency_matrix.reshape(-1)\n",
    "vertex_features = vertex_features.reshape(-1)\n",
    "weights = torch.tensor(np.random.uniform(low=0, high=np.pi, size=weight_shapes['weights']), dtype=torch.float32, requires_grad=True)\n",
    "inputs = torch.cat((adjacency_matrix, vertex_features), dim=0)\n",
    "# test_model = QuantumGraphNetwork()\n",
    "# test_model(adjacency_matrix, vertex_features)\n",
    "# print(qml.draw(qgnn_node)(inputs,weights))"
   ]
  },
  {
   "cell_type": "code",
   "execution_count": 13,
   "metadata": {
    "colab": {
     "base_uri": "https://localhost:8080/"
    },
    "id": "HP8uGfc7IDwM",
    "outputId": "01724e08-9cf2-484b-83e8-23e7cd738439"
   },
   "outputs": [
    {
     "output_type": "execute_result",
     "data": {
      "text/plain": [
       "{'weights': (1, 3, 4)}"
      ]
     },
     "metadata": {},
     "execution_count": 13
    }
   ],
   "source": [
    "weight_shapes"
   ]
  },
  {
   "cell_type": "code",
   "execution_count": 14,
   "metadata": {
    "colab": {
     "base_uri": "https://localhost:8080/",
     "height": 329
    },
    "id": "myD3KEU4h-0e",
    "outputId": "37abc0d7-3847-455f-fd0b-20aeadd9302e"
   },
   "outputs": [
    {
     "output_type": "display_data",
     "data": {
      "text/plain": [
       "<Figure size 4400x1200 with 1 Axes>"
      ],
      "image/png": "[encoded data removed]"
     },
     "metadata": {}
    }
   ],
   "source": [
    "import matplotlib.pyplot as plt\n",
    "\n",
    "\n",
    "fig, ax = qml.draw_mpl(qgnn_circuit)(inputs,weights)\n",
    "plt.show()"
   ]
  },
  {
   "cell_type": "markdown",
   "metadata": {
    "id": "zRe7ma_hEfcA"
   },
   "source": [
    "# Training and Testing"
   ]
  },
  {
   "cell_type": "code",
   "execution_count": 15,
   "metadata": {
    "id": "dtAlal3m5xoR"
   },
   "outputs": [],
   "source": [
    "def cora_to_qgnn_input(data):\n",
    "    node_feat = data.x  # [num_nodes, num_features]\n",
    "    edge_index = data.edge_index.T.tolist()  # List of (i, j) edges\n",
    "    edge_attr = []\n",
    "\n",
    "    for i, j in edge_index:\n",
    "        edge_attr.append(torch.tensor([1.0]))  # Dummy symmetric value\n",
    "\n",
    "    edge_attr = torch.stack(edge_attr)\n",
    "\n",
    "    return node_feat, edge_attr, edge_index, data.y\n"
   ]
  },
  {
   "cell_type": "code",
   "execution_count": 16,
   "metadata": {
    "id": "8oycSaK8swdH"
   },
   "outputs": [],
   "source": [
    "import pickle\n",
    "# criterion = nn.BCELoss()\n",
    "\n",
    "def train_cora(model, data, optimizer, criterion):\n",
    "    model.train()\n",
    "    node_feat, edge_attr, edge_index, labels = cora_to_qgnn_input(data)\n",
    "\n",
    "    node_feat = node_feat.to(device)\n",
    "    edge_attr = edge_attr.to(device)\n",
    "    edge_index = torch.tensor(edge_index).to(device)\n",
    "    labels = labels.to(device)\n",
    "\n",
    "    optimizer.zero_grad()\n",
    "    output = model(node_feat, edge_attr, edge_index)\n",
    "\n",
    "    loss = criterion(output[data.train_mask], labels[data.train_mask])\n",
    "    loss.backward()\n",
    "    optimizer.step()\n",
    "\n",
    "    pred = output.argmax(dim=1)\n",
    "    acc = (pred[data.train_mask] == labels[data.train_mask]).float().mean().item()\n",
    "    return loss.item(), acc\n",
    "\n",
    "\n",
    "def test_cora(model, data):\n",
    "    model.eval()\n",
    "    node_feat, edge_attr, edge_index, labels = cora_to_qgnn_input(data)\n",
    "\n",
    "    node_feat = node_feat.to(device)\n",
    "    edge_attr = edge_attr.to(device)\n",
    "    edge_index = torch.tensor(edge_index).to(device)\n",
    "    labels = labels.to(device)\n",
    "\n",
    "    with torch.no_grad():\n",
    "        output = model(node_feat, edge_attr, edge_index)\n",
    "        pred = output.argmax(dim=1)\n",
    "\n",
    "    accs = {}\n",
    "    for split in ['train', 'val', 'test']:\n",
    "        mask = getattr(data, f\"{split}_mask\")\n",
    "        acc = (pred[mask] == labels[mask]).float().mean().item()\n",
    "        accs[split] = acc\n",
    "    return accs\n",
    "\n",
    "\n",
    "def quantize_output(output, num_levels=4):\n",
    "    levels = torch.linspace(0, 1, steps=num_levels, device=output.device)\n",
    "    # Find closest level for each output value\n",
    "    quantized_output = torch.zeros_like(output)\n",
    "    for i in range(output.shape[0]):\n",
    "        quantized_output[i] = levels[torch.argmin(torch.abs(levels - output[i]))]\n",
    "    return quantized_output\n",
    "\n",
    "\n",
    "def sum_weighted_rate(h, p, w, n0):\n",
    "\n",
    "    all_signal = torch.square(h * p.view(-1, 1))\n",
    "    des_signal = torch.diag(all_signal)\n",
    "    rx_signal = torch.sum(all_signal, dim=0)\n",
    "    inteference = rx_signal - des_signal + n0\n",
    "\n",
    "    sinr = des_signal/inteference\n",
    "    w_sumrate = torch.log2(1 + sinr * w)\n",
    "    return torch.sum(w_sumrate)"
   ]
  },
  {
   "cell_type": "code",
   "execution_count": 17,
   "metadata": {
    "id": "FG3EmhVMJcOJ"
   },
   "outputs": [],
   "source": [
    "import torch.nn.functional as F\n",
    "\n",
    "def preprocess_graph_input(data):\n",
    "\n",
    "    node_feat = data.x  # [num_nodes, num_node_features]\n",
    "    edge_index = data.edge_index.t().tolist()  # list of (i, j)\n",
    "    edge_attr = F.one_hot(data.edge_attr.long().view(-1), num_classes=4).float()\n",
    "\n",
    "    return node_feat, edge_attr, edge_index, data.y\n"
   ]
  },
  {
   "cell_type": "code",
   "execution_count": 18,
   "metadata": {
    "id": "jkp6iSUqD7Ri"
   },
   "outputs": [],
   "source": [
    "from torch_geometric.nn import global_mean_pool\n",
    "\n",
    "thr = 0.5\n",
    "\n",
    "def train_mutag(model, loader, optimizer, criterion, device):\n",
    "    model.train()\n",
    "    total_loss = 0\n",
    "    correct = 0\n",
    "\n",
    "    for data in loader:\n",
    "        data = data.to(device)\n",
    "        optimizer.zero_grad()\n",
    "        node_feat, edge_attr, edge_index, y = preprocess_graph_input(data)\n",
    "        node_feat = node_feat.to(device)\n",
    "        edge_attr = edge_attr.to(device)\n",
    "        edge_index =  torch.tensor(edge_index).to(device)\n",
    "        y = y.float().to(device)\n",
    "\n",
    "        # Your model must return a graph-level output (e.g., pooling over nodes)\n",
    "        batch = data.batch.to(device)  # ← Needed for graph pooling\n",
    "        out = model(node_feat, edge_attr, edge_index, batch)\n",
    "        # out = global_mean_pool(node_embeddings, batch)\n",
    "\n",
    "        loss = criterion(out, y)\n",
    "        loss.backward()\n",
    "        optimizer.step()\n",
    "\n",
    "        total_loss += loss.item()\n",
    "        out_detached = out.detach()\n",
    "        pred = (out_detached.view(-1) > thr).long()\n",
    "        correct += (pred == y).sum().item()\n",
    "\n",
    "    return total_loss / len(loader), correct / len(loader.dataset)\n",
    "\n",
    "\n",
    "def test_mutag(model, loader, device):\n",
    "    model.eval()\n",
    "    correct = 0\n",
    "\n",
    "    with torch.no_grad():\n",
    "        for data in loader:\n",
    "            data = data.to(device)\n",
    "            node_feat, edge_attr, edge_index, y = preprocess_graph_input(data)\n",
    "            node_feat = node_feat.to(device)\n",
    "            edge_attr = edge_attr.to(device)\n",
    "            edge_index = torch.tensor(edge_index).to(device)\n",
    "            y = y.float().to(device)\n",
    "\n",
    "            # Your model must return a graph-level output (e.g., pooling over nodes)\n",
    "            batch = data.batch.to(device)  # ← Needed for graph pooling\n",
    "            out = model(node_feat, edge_attr, edge_index, batch)\n",
    "            # out = global_mean_pool(node_embeddings, batch)\n",
    "\n",
    "            pred = (out.view(-1) > thr).long()\n",
    "            correct += (pred == y).sum().item()\n",
    "\n",
    "    return correct / len(loader.dataset)"
   ]
  },
  {
   "cell_type": "markdown",
   "metadata": {
    "id": "ik6wWE7OpoH3"
   },
   "source": [
    "# Main"
   ]
  },
  {
   "cell_type": "code",
   "execution_count": 19,
   "metadata": {
    "id": "WSqi2DRF1Q1u"
   },
   "outputs": [],
   "source": [
    "# Hyperparameters and setup\n",
    "training_sam = 100\n",
    "testing_sam = 50\n",
    "\n",
    "device = torch.device(\"cuda\" if torch.cuda.is_available() else \"cpu\")\n",
    "\n"
   ]
  },
  {
   "cell_type": "code",
   "execution_count": 20,
   "metadata": {
    "colab": {
     "base_uri": "https://localhost:8080/"
    },
    "id": "R_p531llAurD",
    "outputId": "7b201903-bd16-4df5-81de-e510bc9631ad"
   },
   "outputs": [
    {
     "output_type": "stream",
     "name": "stdout",
     "text": [
      "{'weights': (1, 3, 4)}\n"
     ]
    }
   ],
   "source": [
    "setup_overlap = 1\n",
    "if mode == 'strong':\n",
    "    param_shape = {\"weights\": (num_layers, num_ent_lay, 3, 3)} # Strong\n",
    "elif mode == 'basic':\n",
    "    param_shape = {\"weights\": (num_layers, num_ent_lay, 3)}\n",
    "elif mode == 'custom':\n",
    "    if mode_num == 1:\n",
    "        param_shape = {\"weights\": (num_layers, 3, 2)} # custom circuit 1\n",
    "    elif mode_num == 13:\n",
    "        param_shape = {\"weights\": (num_layers, 3, 4)} # circuit 13\n",
    "print(param_shape)\n"
   ]
  },
  {
   "cell_type": "markdown",
   "source": [
    "# Training and Testing"
   ],
   "metadata": {
    "id": "t7gOK1dkSUYW"
   }
  },
  {
   "cell_type": "markdown",
   "source": [
    "## Node Classification"
   ],
   "metadata": {
    "id": "QncWMNJ0SXi8"
   }
  },
  {
   "cell_type": "markdown",
   "source": [
    "### Cora"
   ],
   "metadata": {
    "id": "n7QsTNfFSZpD"
   }
  },
  {
   "cell_type": "code",
   "source": [
    "%%capture\n",
    "from torch_geometric.datasets import Planetoid\n",
    "from torch_geometric.transforms import NormalizeFeatures\n",
    "dataset = Planetoid(root='data/Planetoid', name='Cora', transform=NormalizeFeatures())\n",
    "data = dataset[0].to(device)\n",
    "num_node_features = dataset.num_node_features\n",
    "num_classes = dataset.num_classes"
   ],
   "metadata": {
    "id": "lLBpzD-bTB9c"
   },
   "execution_count": 31,
   "outputs": []
  },
  {
   "cell_type": "code",
   "source": [
    "edge_index = data.edge_index.T  # shape [num_edges, 2]\n",
    "num_edges = edge_index.shape[0]\n",
    "\n",
    "edge_attr = torch.ones((num_edges, 0), dtype=torch.float32).to(edge_index.device)\n",
    "data.edge_attr = edge_attr"
   ],
   "metadata": {
    "id": "YprMQq8uTDaZ"
   },
   "execution_count": 45,
   "outputs": []
  },
  {
   "cell_type": "code",
   "source": [
    "from torch import nn, optim\n",
    "\n",
    "device = torch.device(\"cuda\" if torch.cuda.is_available() else \"cpu\")\n",
    "coraModel= QgnnNode(\n",
    "    w_shapes=param_shape,\n",
    "    node_input_dim=num_node_features,\n",
    "    edge_input_dim=0,\n",
    "    graphlet_size=num_nodes_model,\n",
    "    overlap_size=setup_overlap\n",
    ").to(device)\n",
    "optimizer_cora = optim.Adam(coraModel.parameters(), lr=0.05)\n",
    "scheduler_cora = torch.optim.lr_scheduler.StepLR(optimizer_cora, step_size=2, gamma=0.5)\n"
   ],
   "metadata": {
    "id": "Vhg2L_jZSb0l"
   },
   "execution_count": 49,
   "outputs": []
  },
  {
   "cell_type": "code",
   "source": [
    "def train_node_classification(model, data, optimizer):\n",
    "    model.train()\n",
    "    optimizer.zero_grad()\n",
    "    out = model(data.x, data.edge_attr, data.edge_index.T)\n",
    "    loss = criterion(out[data.train_mask], data.y[data.train_mask])\n",
    "    loss.backward()\n",
    "    optimizer.step()\n",
    "    return loss.item()\n",
    "\n",
    "@torch.no_grad()\n",
    "def test_node_classification(model, data):\n",
    "    model.eval()\n",
    "    out = model(data.x, data.edge_attr, data.edge_index.T)\n",
    "    pred = out.argmax(dim=1)\n",
    "\n",
    "    accs = []\n",
    "    for mask in [data.train_mask, data.val_mask, data.test_mask]:\n",
    "        correct = (pred[mask] == data.y[mask]).sum()\n",
    "        accs.append(int(correct) / int(mask.sum()))\n",
    "    return accs  # [train_acc, val_acc, test_acc]"
   ],
   "metadata": {
    "id": "jf6zk4qaUaiN"
   },
   "execution_count": 50,
   "outputs": []
  },
  {
   "cell_type": "code",
   "source": [
    "for epoch in range(1, 10):\n",
    "    loss = train_node_classification(coraModel, data, optimizer_cora)\n",
    "    train_acc, val_acc, test_acc = test_node_classification(coraModel, data)\n",
    "    print(f\"Epoch {epoch:03d}, Loss: {loss:.4f}, Train: {train_acc:.4f}, Val: {val_acc:.4f}, Test: {test_acc:.4f}\")\n"
   ],
   "metadata": {
    "id": "838ydHaoXXnI"
   },
   "execution_count": null,
   "outputs": []
  },
  {
   "cell_type": "markdown",
   "metadata": {
    "id": "7Bc7EHWpWOzK"
   },
   "source": [
    "## Graph Data"
   ]
  },
  {
   "cell_type": "code",
   "execution_count": 23,
   "metadata": {
    "id": "dD0gn52QWRRW",
    "colab": {
     "base_uri": "https://localhost:8080/"
    },
    "outputId": "e4acd9d0-aeba-4f94-bce3-0a560f271e97"
   },
   "outputs": [
    {
     "output_type": "stream",
     "name": "stderr",
     "text": [
      "Downloading https://www.chrsmrrs.com/graphkerneldatasets/MUTAG.zip\n",
      "Processing...\n",
      "Done!\n"
     ]
    }
   ],
   "source": [
    "from torch_geometric.datasets import Planetoid\n",
    "from torch_geometric.transforms import NormalizeFeatures\n",
    "import torch_geometric\n",
    "from torch_geometric.datasets import TUDataset\n",
    "\n",
    "\n",
    "# dataset = Planetoid(root='data/CORA', name='Cora', transform=NormalizeFeatures())\n",
    "\n",
    "dataset = TUDataset(root='data/TUDataset', name='MUTAG')\n",
    "data = dataset[0]  # each data is a small graph\n",
    "# num_node = data.x.shape[1]\n",
    "data_node_feat = data.x.shape[1]\n",
    "data_edge_feat = data.edge_attr.shape[1]\n"
   ]
  },
  {
   "cell_type": "code",
   "execution_count": 24,
   "metadata": {
    "id": "uejjPn20UsDg"
   },
   "outputs": [],
   "source": [
    "train_sam = 100\n",
    "test_sam = 50"
   ]
  },
  {
   "cell_type": "code",
   "execution_count": 25,
   "metadata": {
    "id": "rTNBDMy2EArv"
   },
   "outputs": [],
   "source": [
    "from torch_geometric.datasets import TUDataset\n",
    "from torch_geometric.loader import DataLoader\n",
    "\n",
    "dataset = TUDataset(root='data/TUDataset', name='MUTAG')\n",
    "data_node_feat = dataset[0].x.shape[1]\n",
    "\n",
    "# Optional: shuffle and split manually\n",
    "torch.manual_seed(303)\n",
    "dataset = dataset.shuffle()\n",
    "train_dataset = dataset[:train_sam]\n",
    "test_dataset = dataset[train_sam:train_sam+test_sam]\n",
    "\n",
    "train_loader = DataLoader(train_dataset, batch_size=1)\n",
    "test_loader = DataLoader(test_dataset, batch_size=1)"
   ]
  },
  {
   "cell_type": "code",
   "execution_count": 26,
   "metadata": {
    "id": "3BFWLn_qEDV5"
   },
   "outputs": [],
   "source": [
    "from torch import nn, optim\n",
    "\n",
    "device = torch.device(\"cuda\" if torch.cuda.is_available() else \"cpu\")\n",
    "baseModel= QgnnNode(\n",
    "    w_shapes=param_shape,\n",
    "    node_input_dim=data_node_feat,\n",
    "    edge_input_dim=data_edge_feat,\n",
    "    graphlet_size=num_nodes_model,\n",
    "    overlap_size=setup_overlap\n",
    ").to(device)\n",
    "model = QGNNGraphClassifier(baseModel, hidden_dim=1).to(device)\n",
    "optimizer = optim.Adam(model.parameters(), lr=0.05)\n",
    "scheduler = torch.optim.lr_scheduler.StepLR(optimizer, step_size=2, gamma=0.5)\n",
    "# criterion = torch.nn.BCELoss()\n",
    "criterion = torch.nn.BCEWithLogitsLoss()\n"
   ]
  },
  {
   "cell_type": "code",
   "execution_count": 27,
   "metadata": {
    "colab": {
     "base_uri": "https://localhost:8080/",
     "height": 481
    },
    "id": "T6cgdkelLQUR",
    "outputId": "ff06161e-b22c-45ca-c18d-99b59bb87752"
   },
   "outputs": [
    {
     "output_type": "stream",
     "name": "stdout",
     "text": [
      "Epoch 001, Loss: 0.6666, Train Acc: 0.4600, Test Acc: 0.5800\n",
      "Epoch 002, Loss: 0.6432, Train Acc: 0.5300, Test Acc: 0.5800\n",
      "Epoch 003, Loss: 0.6347, Train Acc: 0.6800, Test Acc: 0.5800\n",
      "Epoch 004, Loss: 0.6341, Train Acc: 0.6800, Test Acc: 0.5800\n",
      "Epoch 005, Loss: 0.6305, Train Acc: 0.6800, Test Acc: 0.5800\n",
      "Epoch 006, Loss: 0.6304, Train Acc: 0.6800, Test Acc: 0.5800\n"
     ]
    },
    {
     "output_type": "error",
     "ename": "KeyboardInterrupt",
     "evalue": "",
     "traceback": [
      "\u001B[0;31m---------------------------------------------------------------------------\u001B[0m",
      "\u001B[0;31mKeyboardInterrupt\u001B[0m                         Traceback (most recent call last)",
      "\u001B[0;32m<ipython-input-27-d482da1cf5f0>\u001B[0m in \u001B[0;36m<cell line: 0>\u001B[0;34m()\u001B[0m\n\u001B[1;32m      5\u001B[0m \u001B[0mepochs\u001B[0m \u001B[0;34m=\u001B[0m \u001B[0;36m10\u001B[0m\u001B[0;34m\u001B[0m\u001B[0;34m\u001B[0m\u001B[0m\n\u001B[1;32m      6\u001B[0m \u001B[0;32mfor\u001B[0m \u001B[0mepoch\u001B[0m \u001B[0;32min\u001B[0m \u001B[0mrange\u001B[0m\u001B[0;34m(\u001B[0m\u001B[0;36m1\u001B[0m\u001B[0;34m,\u001B[0m \u001B[0mepochs\u001B[0m\u001B[0;34m)\u001B[0m\u001B[0;34m:\u001B[0m\u001B[0;34m\u001B[0m\u001B[0;34m\u001B[0m\u001B[0m\n\u001B[0;32m----> 7\u001B[0;31m     \u001B[0mloss\u001B[0m\u001B[0;34m,\u001B[0m \u001B[0mtrain_acc\u001B[0m \u001B[0;34m=\u001B[0m \u001B[0mtrain_mutag\u001B[0m\u001B[0;34m(\u001B[0m\u001B[0mmodel\u001B[0m\u001B[0;34m,\u001B[0m \u001B[0mtrain_loader\u001B[0m\u001B[0;34m,\u001B[0m \u001B[0moptimizer\u001B[0m\u001B[0;34m,\u001B[0m \u001B[0mcriterion\u001B[0m\u001B[0;34m,\u001B[0m \u001B[0mdevice\u001B[0m\u001B[0;34m)\u001B[0m\u001B[0;34m\u001B[0m\u001B[0;34m\u001B[0m\u001B[0m\n\u001B[0m\u001B[1;32m      8\u001B[0m     \u001B[0mtest_acc\u001B[0m \u001B[0;34m=\u001B[0m \u001B[0mtest_mutag\u001B[0m\u001B[0;34m(\u001B[0m\u001B[0mmodel\u001B[0m\u001B[0;34m,\u001B[0m \u001B[0mtest_loader\u001B[0m\u001B[0;34m,\u001B[0m \u001B[0mdevice\u001B[0m\u001B[0;34m)\u001B[0m\u001B[0;34m\u001B[0m\u001B[0;34m\u001B[0m\u001B[0m\n\u001B[1;32m      9\u001B[0m \u001B[0;34m\u001B[0m\u001B[0m\n",
      "\u001B[0;32m<ipython-input-18-9e23e6e7f945>\u001B[0m in \u001B[0;36mtrain_mutag\u001B[0;34m(model, loader, optimizer, criterion, device)\u001B[0m\n\u001B[1;32m     19\u001B[0m         \u001B[0;31m# Your model must return a graph-level output (e.g., pooling over nodes)\u001B[0m\u001B[0;34m\u001B[0m\u001B[0;34m\u001B[0m\u001B[0m\n\u001B[1;32m     20\u001B[0m         \u001B[0mbatch\u001B[0m \u001B[0;34m=\u001B[0m \u001B[0mdata\u001B[0m\u001B[0;34m.\u001B[0m\u001B[0mbatch\u001B[0m\u001B[0;34m.\u001B[0m\u001B[0mto\u001B[0m\u001B[0;34m(\u001B[0m\u001B[0mdevice\u001B[0m\u001B[0;34m)\u001B[0m  \u001B[0;31m# ← Needed for graph pooling\u001B[0m\u001B[0;34m\u001B[0m\u001B[0;34m\u001B[0m\u001B[0m\n\u001B[0;32m---> 21\u001B[0;31m         \u001B[0mout\u001B[0m \u001B[0;34m=\u001B[0m \u001B[0mmodel\u001B[0m\u001B[0;34m(\u001B[0m\u001B[0mnode_feat\u001B[0m\u001B[0;34m,\u001B[0m \u001B[0medge_attr\u001B[0m\u001B[0;34m,\u001B[0m \u001B[0medge_index\u001B[0m\u001B[0;34m,\u001B[0m \u001B[0mbatch\u001B[0m\u001B[0;34m)\u001B[0m\u001B[0;34m\u001B[0m\u001B[0;34m\u001B[0m\u001B[0m\n\u001B[0m\u001B[1;32m     22\u001B[0m         \u001B[0;31m# out = global_mean_pool(node_embeddings, batch)\u001B[0m\u001B[0;34m\u001B[0m\u001B[0;34m\u001B[0m\u001B[0m\n\u001B[1;32m     23\u001B[0m \u001B[0;34m\u001B[0m\u001B[0m\n",
      "\u001B[0;32m/usr/local/lib/python3.11/dist-packages/torch/nn/modules/module.py\u001B[0m in \u001B[0;36m_wrapped_call_impl\u001B[0;34m(self, *args, **kwargs)\u001B[0m\n\u001B[1;32m   1737\u001B[0m             \u001B[0;32mreturn\u001B[0m \u001B[0mself\u001B[0m\u001B[0;34m.\u001B[0m\u001B[0m_compiled_call_impl\u001B[0m\u001B[0;34m(\u001B[0m\u001B[0;34m*\u001B[0m\u001B[0margs\u001B[0m\u001B[0;34m,\u001B[0m \u001B[0;34m**\u001B[0m\u001B[0mkwargs\u001B[0m\u001B[0;34m)\u001B[0m  \u001B[0;31m# type: ignore[misc]\u001B[0m\u001B[0;34m\u001B[0m\u001B[0;34m\u001B[0m\u001B[0m\n\u001B[1;32m   1738\u001B[0m         \u001B[0;32melse\u001B[0m\u001B[0;34m:\u001B[0m\u001B[0;34m\u001B[0m\u001B[0;34m\u001B[0m\u001B[0m\n\u001B[0;32m-> 1739\u001B[0;31m             \u001B[0;32mreturn\u001B[0m \u001B[0mself\u001B[0m\u001B[0;34m.\u001B[0m\u001B[0m_call_impl\u001B[0m\u001B[0;34m(\u001B[0m\u001B[0;34m*\u001B[0m\u001B[0margs\u001B[0m\u001B[0;34m,\u001B[0m \u001B[0;34m**\u001B[0m\u001B[0mkwargs\u001B[0m\u001B[0;34m)\u001B[0m\u001B[0;34m\u001B[0m\u001B[0;34m\u001B[0m\u001B[0m\n\u001B[0m\u001B[1;32m   1740\u001B[0m \u001B[0;34m\u001B[0m\u001B[0m\n\u001B[1;32m   1741\u001B[0m     \u001B[0;31m# torchrec tests the code consistency with the following code\u001B[0m\u001B[0;34m\u001B[0m\u001B[0;34m\u001B[0m\u001B[0m\n",
      "\u001B[0;32m/usr/local/lib/python3.11/dist-packages/torch/nn/modules/module.py\u001B[0m in \u001B[0;36m_call_impl\u001B[0;34m(self, *args, **kwargs)\u001B[0m\n\u001B[1;32m   1748\u001B[0m                 \u001B[0;32mor\u001B[0m \u001B[0m_global_backward_pre_hooks\u001B[0m \u001B[0;32mor\u001B[0m \u001B[0m_global_backward_hooks\u001B[0m\u001B[0;34m\u001B[0m\u001B[0;34m\u001B[0m\u001B[0m\n\u001B[1;32m   1749\u001B[0m                 or _global_forward_hooks or _global_forward_pre_hooks):\n\u001B[0;32m-> 1750\u001B[0;31m             \u001B[0;32mreturn\u001B[0m \u001B[0mforward_call\u001B[0m\u001B[0;34m(\u001B[0m\u001B[0;34m*\u001B[0m\u001B[0margs\u001B[0m\u001B[0;34m,\u001B[0m \u001B[0;34m**\u001B[0m\u001B[0mkwargs\u001B[0m\u001B[0;34m)\u001B[0m\u001B[0;34m\u001B[0m\u001B[0;34m\u001B[0m\u001B[0m\n\u001B[0m\u001B[1;32m   1751\u001B[0m \u001B[0;34m\u001B[0m\u001B[0m\n\u001B[1;32m   1752\u001B[0m         \u001B[0mresult\u001B[0m \u001B[0;34m=\u001B[0m \u001B[0;32mNone\u001B[0m\u001B[0;34m\u001B[0m\u001B[0;34m\u001B[0m\u001B[0m\n",
      "\u001B[0;32m<ipython-input-11-f311b61692ce>\u001B[0m in \u001B[0;36mforward\u001B[0;34m(self, node_feat, edge_attr, edge_index, batch)\u001B[0m\n\u001B[1;32m     11\u001B[0m \u001B[0;34m\u001B[0m\u001B[0m\n\u001B[1;32m     12\u001B[0m     \u001B[0;32mdef\u001B[0m \u001B[0mforward\u001B[0m\u001B[0;34m(\u001B[0m\u001B[0mself\u001B[0m\u001B[0;34m,\u001B[0m \u001B[0mnode_feat\u001B[0m\u001B[0;34m,\u001B[0m \u001B[0medge_attr\u001B[0m\u001B[0;34m,\u001B[0m \u001B[0medge_index\u001B[0m\u001B[0;34m,\u001B[0m \u001B[0mbatch\u001B[0m\u001B[0;34m)\u001B[0m\u001B[0;34m:\u001B[0m\u001B[0;34m\u001B[0m\u001B[0;34m\u001B[0m\u001B[0m\n\u001B[0;32m---> 13\u001B[0;31m         \u001B[0mnode_embeddings\u001B[0m \u001B[0;34m=\u001B[0m \u001B[0mself\u001B[0m\u001B[0;34m.\u001B[0m\u001B[0mbase_model\u001B[0m\u001B[0;34m(\u001B[0m\u001B[0mnode_feat\u001B[0m\u001B[0;34m,\u001B[0m \u001B[0medge_attr\u001B[0m\u001B[0;34m,\u001B[0m \u001B[0medge_index\u001B[0m\u001B[0;34m)\u001B[0m\u001B[0;34m\u001B[0m\u001B[0;34m\u001B[0m\u001B[0m\n\u001B[0m\u001B[1;32m     14\u001B[0m         \u001B[0mgraph_embedding\u001B[0m \u001B[0;34m=\u001B[0m \u001B[0mglobal_mean_pool\u001B[0m\u001B[0;34m(\u001B[0m\u001B[0mnode_embeddings\u001B[0m\u001B[0;34m,\u001B[0m \u001B[0mbatch\u001B[0m\u001B[0;34m)\u001B[0m\u001B[0;34m\u001B[0m\u001B[0;34m\u001B[0m\u001B[0m\n\u001B[1;32m     15\u001B[0m         \u001B[0;32mreturn\u001B[0m \u001B[0mself\u001B[0m\u001B[0;34m.\u001B[0m\u001B[0mclassifier\u001B[0m\u001B[0;34m(\u001B[0m\u001B[0mgraph_embedding\u001B[0m\u001B[0;34m)\u001B[0m\u001B[0;34m\u001B[0m\u001B[0;34m\u001B[0m\u001B[0m\n",
      "\u001B[0;32m/usr/local/lib/python3.11/dist-packages/torch/nn/modules/module.py\u001B[0m in \u001B[0;36m_wrapped_call_impl\u001B[0;34m(self, *args, **kwargs)\u001B[0m\n\u001B[1;32m   1737\u001B[0m             \u001B[0;32mreturn\u001B[0m \u001B[0mself\u001B[0m\u001B[0;34m.\u001B[0m\u001B[0m_compiled_call_impl\u001B[0m\u001B[0;34m(\u001B[0m\u001B[0;34m*\u001B[0m\u001B[0margs\u001B[0m\u001B[0;34m,\u001B[0m \u001B[0;34m**\u001B[0m\u001B[0mkwargs\u001B[0m\u001B[0;34m)\u001B[0m  \u001B[0;31m# type: ignore[misc]\u001B[0m\u001B[0;34m\u001B[0m\u001B[0;34m\u001B[0m\u001B[0m\n\u001B[1;32m   1738\u001B[0m         \u001B[0;32melse\u001B[0m\u001B[0;34m:\u001B[0m\u001B[0;34m\u001B[0m\u001B[0;34m\u001B[0m\u001B[0m\n\u001B[0;32m-> 1739\u001B[0;31m             \u001B[0;32mreturn\u001B[0m \u001B[0mself\u001B[0m\u001B[0;34m.\u001B[0m\u001B[0m_call_impl\u001B[0m\u001B[0;34m(\u001B[0m\u001B[0;34m*\u001B[0m\u001B[0margs\u001B[0m\u001B[0;34m,\u001B[0m \u001B[0;34m**\u001B[0m\u001B[0mkwargs\u001B[0m\u001B[0;34m)\u001B[0m\u001B[0;34m\u001B[0m\u001B[0;34m\u001B[0m\u001B[0m\n\u001B[0m\u001B[1;32m   1740\u001B[0m \u001B[0;34m\u001B[0m\u001B[0m\n\u001B[1;32m   1741\u001B[0m     \u001B[0;31m# torchrec tests the code consistency with the following code\u001B[0m\u001B[0;34m\u001B[0m\u001B[0;34m\u001B[0m\u001B[0m\n",
      "\u001B[0;32m/usr/local/lib/python3.11/dist-packages/torch/nn/modules/module.py\u001B[0m in \u001B[0;36m_call_impl\u001B[0;34m(self, *args, **kwargs)\u001B[0m\n\u001B[1;32m   1748\u001B[0m                 \u001B[0;32mor\u001B[0m \u001B[0m_global_backward_pre_hooks\u001B[0m \u001B[0;32mor\u001B[0m \u001B[0m_global_backward_hooks\u001B[0m\u001B[0;34m\u001B[0m\u001B[0;34m\u001B[0m\u001B[0m\n\u001B[1;32m   1749\u001B[0m                 or _global_forward_hooks or _global_forward_pre_hooks):\n\u001B[0;32m-> 1750\u001B[0;31m             \u001B[0;32mreturn\u001B[0m \u001B[0mforward_call\u001B[0m\u001B[0;34m(\u001B[0m\u001B[0;34m*\u001B[0m\u001B[0margs\u001B[0m\u001B[0;34m,\u001B[0m \u001B[0;34m**\u001B[0m\u001B[0mkwargs\u001B[0m\u001B[0;34m)\u001B[0m\u001B[0;34m\u001B[0m\u001B[0;34m\u001B[0m\u001B[0m\n\u001B[0m\u001B[1;32m   1751\u001B[0m \u001B[0;34m\u001B[0m\u001B[0m\n\u001B[1;32m   1752\u001B[0m         \u001B[0mresult\u001B[0m \u001B[0;34m=\u001B[0m \u001B[0;32mNone\u001B[0m\u001B[0;34m\u001B[0m\u001B[0;34m\u001B[0m\u001B[0m\n",
      "\u001B[0;32m<ipython-input-10-f89c023af7ee>\u001B[0m in \u001B[0;36mforward\u001B[0;34m(self, node_feat, edge_attr, edge_index)\u001B[0m\n\u001B[1;32m     67\u001B[0m \u001B[0;34m\u001B[0m\u001B[0m\n\u001B[1;32m     68\u001B[0m                 \u001B[0minputs\u001B[0m \u001B[0;34m=\u001B[0m \u001B[0mtorch\u001B[0m\u001B[0;34m.\u001B[0m\u001B[0mcat\u001B[0m\u001B[0;34m(\u001B[0m\u001B[0;34m[\u001B[0m\u001B[0msubgraph_features\u001B[0m\u001B[0;34m,\u001B[0m \u001B[0mnode_features\u001B[0m\u001B[0;34m]\u001B[0m\u001B[0;34m,\u001B[0m \u001B[0mdim\u001B[0m\u001B[0;34m=\u001B[0m\u001B[0;36m0\u001B[0m\u001B[0;34m)\u001B[0m\u001B[0;34m\u001B[0m\u001B[0;34m\u001B[0m\u001B[0m\n\u001B[0;32m---> 69\u001B[0;31m                 \u001B[0mx\u001B[0m \u001B[0;34m=\u001B[0m \u001B[0mself\u001B[0m\u001B[0;34m.\u001B[0m\u001B[0mqconv\u001B[0m\u001B[0;34m(\u001B[0m\u001B[0minputs\u001B[0m\u001B[0;34m)\u001B[0m\u001B[0;34m\u001B[0m\u001B[0;34m\u001B[0m\u001B[0m\n\u001B[0m\u001B[1;32m     70\u001B[0m                 \u001B[0mx\u001B[0m \u001B[0;34m=\u001B[0m \u001B[0mself\u001B[0m\u001B[0;34m.\u001B[0m\u001B[0mreLU\u001B[0m\u001B[0;34m(\u001B[0m\u001B[0mx\u001B[0m\u001B[0;34m)\u001B[0m\u001B[0;34m\u001B[0m\u001B[0;34m\u001B[0m\u001B[0m\n\u001B[1;32m     71\u001B[0m \u001B[0;34m\u001B[0m\u001B[0m\n",
      "\u001B[0;32m/usr/local/lib/python3.11/dist-packages/torch/nn/modules/module.py\u001B[0m in \u001B[0;36m_wrapped_call_impl\u001B[0;34m(self, *args, **kwargs)\u001B[0m\n\u001B[1;32m   1737\u001B[0m             \u001B[0;32mreturn\u001B[0m \u001B[0mself\u001B[0m\u001B[0;34m.\u001B[0m\u001B[0m_compiled_call_impl\u001B[0m\u001B[0;34m(\u001B[0m\u001B[0;34m*\u001B[0m\u001B[0margs\u001B[0m\u001B[0;34m,\u001B[0m \u001B[0;34m**\u001B[0m\u001B[0mkwargs\u001B[0m\u001B[0;34m)\u001B[0m  \u001B[0;31m# type: ignore[misc]\u001B[0m\u001B[0;34m\u001B[0m\u001B[0;34m\u001B[0m\u001B[0m\n\u001B[1;32m   1738\u001B[0m         \u001B[0;32melse\u001B[0m\u001B[0;34m:\u001B[0m\u001B[0;34m\u001B[0m\u001B[0;34m\u001B[0m\u001B[0m\n\u001B[0;32m-> 1739\u001B[0;31m             \u001B[0;32mreturn\u001B[0m \u001B[0mself\u001B[0m\u001B[0;34m.\u001B[0m\u001B[0m_call_impl\u001B[0m\u001B[0;34m(\u001B[0m\u001B[0;34m*\u001B[0m\u001B[0margs\u001B[0m\u001B[0;34m,\u001B[0m \u001B[0;34m**\u001B[0m\u001B[0mkwargs\u001B[0m\u001B[0;34m)\u001B[0m\u001B[0;34m\u001B[0m\u001B[0;34m\u001B[0m\u001B[0m\n\u001B[0m\u001B[1;32m   1740\u001B[0m \u001B[0;34m\u001B[0m\u001B[0m\n\u001B[1;32m   1741\u001B[0m     \u001B[0;31m# torchrec tests the code consistency with the following code\u001B[0m\u001B[0;34m\u001B[0m\u001B[0;34m\u001B[0m\u001B[0m\n",
      "\u001B[0;32m/usr/local/lib/python3.11/dist-packages/torch/nn/modules/module.py\u001B[0m in \u001B[0;36m_call_impl\u001B[0;34m(self, *args, **kwargs)\u001B[0m\n\u001B[1;32m   1748\u001B[0m                 \u001B[0;32mor\u001B[0m \u001B[0m_global_backward_pre_hooks\u001B[0m \u001B[0;32mor\u001B[0m \u001B[0m_global_backward_hooks\u001B[0m\u001B[0;34m\u001B[0m\u001B[0;34m\u001B[0m\u001B[0m\n\u001B[1;32m   1749\u001B[0m                 or _global_forward_hooks or _global_forward_pre_hooks):\n\u001B[0;32m-> 1750\u001B[0;31m             \u001B[0;32mreturn\u001B[0m \u001B[0mforward_call\u001B[0m\u001B[0;34m(\u001B[0m\u001B[0;34m*\u001B[0m\u001B[0margs\u001B[0m\u001B[0;34m,\u001B[0m \u001B[0;34m**\u001B[0m\u001B[0mkwargs\u001B[0m\u001B[0;34m)\u001B[0m\u001B[0;34m\u001B[0m\u001B[0;34m\u001B[0m\u001B[0m\n\u001B[0m\u001B[1;32m   1751\u001B[0m \u001B[0;34m\u001B[0m\u001B[0m\n\u001B[1;32m   1752\u001B[0m         \u001B[0mresult\u001B[0m \u001B[0;34m=\u001B[0m \u001B[0;32mNone\u001B[0m\u001B[0;34m\u001B[0m\u001B[0;34m\u001B[0m\u001B[0m\n",
      "\u001B[0;32m/usr/local/lib/python3.11/dist-packages/pennylane/qnn/torch.py\u001B[0m in \u001B[0;36mforward\u001B[0;34m(self, inputs)\u001B[0m\n\u001B[1;32m    402\u001B[0m \u001B[0;34m\u001B[0m\u001B[0m\n\u001B[1;32m    403\u001B[0m         \u001B[0;31m# calculate the forward pass as usual\u001B[0m\u001B[0;34m\u001B[0m\u001B[0;34m\u001B[0m\u001B[0m\n\u001B[0;32m--> 404\u001B[0;31m         \u001B[0mresults\u001B[0m \u001B[0;34m=\u001B[0m \u001B[0mself\u001B[0m\u001B[0;34m.\u001B[0m\u001B[0m_evaluate_qnode\u001B[0m\u001B[0;34m(\u001B[0m\u001B[0minputs\u001B[0m\u001B[0;34m)\u001B[0m\u001B[0;34m\u001B[0m\u001B[0;34m\u001B[0m\u001B[0m\n\u001B[0m\u001B[1;32m    405\u001B[0m \u001B[0;34m\u001B[0m\u001B[0m\n\u001B[1;32m    406\u001B[0m         \u001B[0;32mif\u001B[0m \u001B[0misinstance\u001B[0m\u001B[0;34m(\u001B[0m\u001B[0mresults\u001B[0m\u001B[0;34m,\u001B[0m \u001B[0mtuple\u001B[0m\u001B[0;34m)\u001B[0m\u001B[0;34m:\u001B[0m\u001B[0;34m\u001B[0m\u001B[0;34m\u001B[0m\u001B[0m\n",
      "\u001B[0;32m/usr/local/lib/python3.11/dist-packages/pennylane/qnn/torch.py\u001B[0m in \u001B[0;36m_evaluate_qnode\u001B[0;34m(self, x)\u001B[0m\n\u001B[1;32m    428\u001B[0m             \u001B[0;34m**\u001B[0m\u001B[0;34m{\u001B[0m\u001B[0marg\u001B[0m\u001B[0;34m:\u001B[0m \u001B[0mweight\u001B[0m\u001B[0;34m.\u001B[0m\u001B[0mto\u001B[0m\u001B[0;34m(\u001B[0m\u001B[0mx\u001B[0m\u001B[0;34m)\u001B[0m \u001B[0;32mfor\u001B[0m \u001B[0marg\u001B[0m\u001B[0;34m,\u001B[0m \u001B[0mweight\u001B[0m \u001B[0;32min\u001B[0m \u001B[0mself\u001B[0m\u001B[0;34m.\u001B[0m\u001B[0mqnode_weights\u001B[0m\u001B[0;34m.\u001B[0m\u001B[0mitems\u001B[0m\u001B[0;34m(\u001B[0m\u001B[0;34m)\u001B[0m\u001B[0;34m}\u001B[0m\u001B[0;34m,\u001B[0m\u001B[0;34m\u001B[0m\u001B[0;34m\u001B[0m\u001B[0m\n\u001B[1;32m    429\u001B[0m         }\n\u001B[0;32m--> 430\u001B[0;31m         \u001B[0mres\u001B[0m \u001B[0;34m=\u001B[0m \u001B[0mself\u001B[0m\u001B[0;34m.\u001B[0m\u001B[0mqnode\u001B[0m\u001B[0;34m(\u001B[0m\u001B[0;34m**\u001B[0m\u001B[0mkwargs\u001B[0m\u001B[0;34m)\u001B[0m\u001B[0;34m\u001B[0m\u001B[0;34m\u001B[0m\u001B[0m\n\u001B[0m\u001B[1;32m    431\u001B[0m \u001B[0;34m\u001B[0m\u001B[0m\n\u001B[1;32m    432\u001B[0m         \u001B[0;32mif\u001B[0m \u001B[0misinstance\u001B[0m\u001B[0;34m(\u001B[0m\u001B[0mres\u001B[0m\u001B[0;34m,\u001B[0m \u001B[0mtorch\u001B[0m\u001B[0;34m.\u001B[0m\u001B[0mTensor\u001B[0m\u001B[0;34m)\u001B[0m\u001B[0;34m:\u001B[0m\u001B[0;34m\u001B[0m\u001B[0;34m\u001B[0m\u001B[0m\n",
      "\u001B[0;32m/usr/local/lib/python3.11/dist-packages/pennylane/workflow/qnode.py\u001B[0m in \u001B[0;36m__call__\u001B[0;34m(self, *args, **kwargs)\u001B[0m\n\u001B[1;32m    903\u001B[0m         \u001B[0;32mif\u001B[0m \u001B[0mqml\u001B[0m\u001B[0;34m.\u001B[0m\u001B[0mcapture\u001B[0m\u001B[0;34m.\u001B[0m\u001B[0menabled\u001B[0m\u001B[0;34m(\u001B[0m\u001B[0;34m)\u001B[0m\u001B[0;34m:\u001B[0m\u001B[0;34m\u001B[0m\u001B[0;34m\u001B[0m\u001B[0m\n\u001B[1;32m    904\u001B[0m             \u001B[0;32mreturn\u001B[0m \u001B[0mcapture_qnode\u001B[0m\u001B[0;34m(\u001B[0m\u001B[0mself\u001B[0m\u001B[0;34m,\u001B[0m \u001B[0;34m*\u001B[0m\u001B[0margs\u001B[0m\u001B[0;34m,\u001B[0m \u001B[0;34m**\u001B[0m\u001B[0mkwargs\u001B[0m\u001B[0;34m)\u001B[0m\u001B[0;34m\u001B[0m\u001B[0;34m\u001B[0m\u001B[0m\n\u001B[0;32m--> 905\u001B[0;31m         \u001B[0;32mreturn\u001B[0m \u001B[0mself\u001B[0m\u001B[0;34m.\u001B[0m\u001B[0m_impl_call\u001B[0m\u001B[0;34m(\u001B[0m\u001B[0;34m*\u001B[0m\u001B[0margs\u001B[0m\u001B[0;34m,\u001B[0m \u001B[0;34m**\u001B[0m\u001B[0mkwargs\u001B[0m\u001B[0;34m)\u001B[0m\u001B[0;34m\u001B[0m\u001B[0;34m\u001B[0m\u001B[0m\n\u001B[0m\u001B[1;32m    906\u001B[0m \u001B[0;34m\u001B[0m\u001B[0m\n\u001B[1;32m    907\u001B[0m \u001B[0;34m\u001B[0m\u001B[0m\n",
      "\u001B[0;32m/usr/local/lib/python3.11/dist-packages/pennylane/workflow/qnode.py\u001B[0m in \u001B[0;36m_impl_call\u001B[0;34m(self, *args, **kwargs)\u001B[0m\n\u001B[1;32m    879\u001B[0m         \u001B[0mself\u001B[0m\u001B[0;34m.\u001B[0m\u001B[0m_transform_program\u001B[0m\u001B[0;34m.\u001B[0m\u001B[0mset_classical_component\u001B[0m\u001B[0;34m(\u001B[0m\u001B[0mself\u001B[0m\u001B[0;34m,\u001B[0m \u001B[0margs\u001B[0m\u001B[0;34m,\u001B[0m \u001B[0mkwargs\u001B[0m\u001B[0;34m)\u001B[0m\u001B[0;34m\u001B[0m\u001B[0;34m\u001B[0m\u001B[0m\n\u001B[1;32m    880\u001B[0m \u001B[0;34m\u001B[0m\u001B[0m\n\u001B[0;32m--> 881\u001B[0;31m         res = qml.execute(\n\u001B[0m\u001B[1;32m    882\u001B[0m             \u001B[0;34m(\u001B[0m\u001B[0mtape\u001B[0m\u001B[0;34m,\u001B[0m\u001B[0;34m)\u001B[0m\u001B[0;34m,\u001B[0m\u001B[0;34m\u001B[0m\u001B[0;34m\u001B[0m\u001B[0m\n\u001B[1;32m    883\u001B[0m             \u001B[0mdevice\u001B[0m\u001B[0;34m=\u001B[0m\u001B[0mself\u001B[0m\u001B[0;34m.\u001B[0m\u001B[0mdevice\u001B[0m\u001B[0;34m,\u001B[0m\u001B[0;34m\u001B[0m\u001B[0;34m\u001B[0m\u001B[0m\n",
      "\u001B[0;32m/usr/local/lib/python3.11/dist-packages/pennylane/workflow/execution.py\u001B[0m in \u001B[0;36mexecute\u001B[0;34m(tapes, device, diff_method, interface, transform_program, inner_transform, config, grad_on_execution, gradient_kwargs, cache, cachesize, max_diff, device_vjp, mcm_config, gradient_fn)\u001B[0m\n\u001B[1;32m    230\u001B[0m         \u001B[0;32mreturn\u001B[0m \u001B[0mpost_processing\u001B[0m\u001B[0;34m(\u001B[0m\u001B[0mtapes\u001B[0m\u001B[0;34m)\u001B[0m\u001B[0;34m\u001B[0m\u001B[0;34m\u001B[0m\u001B[0m\n\u001B[1;32m    231\u001B[0m \u001B[0;34m\u001B[0m\u001B[0m\n\u001B[0;32m--> 232\u001B[0;31m     \u001B[0mresults\u001B[0m \u001B[0;34m=\u001B[0m \u001B[0mrun\u001B[0m\u001B[0;34m(\u001B[0m\u001B[0mtapes\u001B[0m\u001B[0;34m,\u001B[0m \u001B[0mdevice\u001B[0m\u001B[0;34m,\u001B[0m \u001B[0mconfig\u001B[0m\u001B[0;34m,\u001B[0m \u001B[0minner_transform\u001B[0m\u001B[0;34m)\u001B[0m\u001B[0;34m\u001B[0m\u001B[0;34m\u001B[0m\u001B[0m\n\u001B[0m\u001B[1;32m    233\u001B[0m     \u001B[0;32mreturn\u001B[0m \u001B[0mpost_processing\u001B[0m\u001B[0;34m(\u001B[0m\u001B[0mresults\u001B[0m\u001B[0;34m)\u001B[0m\u001B[0;34m\u001B[0m\u001B[0;34m\u001B[0m\u001B[0m\n",
      "\u001B[0;32m/usr/local/lib/python3.11/dist-packages/pennylane/workflow/run.py\u001B[0m in \u001B[0;36mrun\u001B[0;34m(tapes, device, config, inner_transform_program)\u001B[0m\n\u001B[1;32m    285\u001B[0m     )\n\u001B[1;32m    286\u001B[0m     \u001B[0;32mif\u001B[0m \u001B[0mno_interface_boundary_required\u001B[0m\u001B[0;34m:\u001B[0m\u001B[0;34m\u001B[0m\u001B[0;34m\u001B[0m\u001B[0m\n\u001B[0;32m--> 287\u001B[0;31m         \u001B[0mresults\u001B[0m \u001B[0;34m=\u001B[0m \u001B[0minner_execute\u001B[0m\u001B[0;34m(\u001B[0m\u001B[0mtapes\u001B[0m\u001B[0;34m)\u001B[0m\u001B[0;34m\u001B[0m\u001B[0;34m\u001B[0m\u001B[0m\n\u001B[0m\u001B[1;32m    288\u001B[0m         \u001B[0;32mreturn\u001B[0m \u001B[0mresults\u001B[0m\u001B[0;34m\u001B[0m\u001B[0;34m\u001B[0m\u001B[0m\n\u001B[1;32m    289\u001B[0m \u001B[0;34m\u001B[0m\u001B[0m\n",
      "\u001B[0;32m/usr/local/lib/python3.11/dist-packages/pennylane/workflow/run.py\u001B[0m in \u001B[0;36minner_execute\u001B[0;34m(tapes)\u001B[0m\n\u001B[1;32m    245\u001B[0m \u001B[0;34m\u001B[0m\u001B[0m\n\u001B[1;32m    246\u001B[0m         \u001B[0;32mif\u001B[0m \u001B[0mtransformed_tapes\u001B[0m\u001B[0;34m:\u001B[0m\u001B[0;34m\u001B[0m\u001B[0;34m\u001B[0m\u001B[0m\n\u001B[0;32m--> 247\u001B[0;31m             \u001B[0mresults\u001B[0m \u001B[0;34m=\u001B[0m \u001B[0mdevice\u001B[0m\u001B[0;34m.\u001B[0m\u001B[0mexecute\u001B[0m\u001B[0;34m(\u001B[0m\u001B[0mtransformed_tapes\u001B[0m\u001B[0;34m,\u001B[0m \u001B[0mexecution_config\u001B[0m\u001B[0;34m=\u001B[0m\u001B[0mexecution_config\u001B[0m\u001B[0;34m)\u001B[0m\u001B[0;34m\u001B[0m\u001B[0;34m\u001B[0m\u001B[0m\n\u001B[0m\u001B[1;32m    248\u001B[0m         \u001B[0;32melse\u001B[0m\u001B[0;34m:\u001B[0m\u001B[0;34m\u001B[0m\u001B[0;34m\u001B[0m\u001B[0m\n\u001B[1;32m    249\u001B[0m             \u001B[0mresults\u001B[0m \u001B[0;34m=\u001B[0m \u001B[0;34m(\u001B[0m\u001B[0;34m)\u001B[0m\u001B[0;34m\u001B[0m\u001B[0;34m\u001B[0m\u001B[0m\n",
      "\u001B[0;32m/usr/local/lib/python3.11/dist-packages/pennylane/devices/modifiers/simulator_tracking.py\u001B[0m in \u001B[0;36mexecute\u001B[0;34m(self, circuits, execution_config)\u001B[0m\n\u001B[1;32m     28\u001B[0m     \u001B[0;34m@\u001B[0m\u001B[0mwraps\u001B[0m\u001B[0;34m(\u001B[0m\u001B[0muntracked_execute\u001B[0m\u001B[0;34m)\u001B[0m\u001B[0;34m\u001B[0m\u001B[0;34m\u001B[0m\u001B[0m\n\u001B[1;32m     29\u001B[0m     \u001B[0;32mdef\u001B[0m \u001B[0mexecute\u001B[0m\u001B[0;34m(\u001B[0m\u001B[0mself\u001B[0m\u001B[0;34m,\u001B[0m \u001B[0mcircuits\u001B[0m\u001B[0;34m,\u001B[0m \u001B[0mexecution_config\u001B[0m\u001B[0;34m=\u001B[0m\u001B[0mDefaultExecutionConfig\u001B[0m\u001B[0;34m)\u001B[0m\u001B[0;34m:\u001B[0m\u001B[0;34m\u001B[0m\u001B[0;34m\u001B[0m\u001B[0m\n\u001B[0;32m---> 30\u001B[0;31m         \u001B[0mresults\u001B[0m \u001B[0;34m=\u001B[0m \u001B[0muntracked_execute\u001B[0m\u001B[0;34m(\u001B[0m\u001B[0mself\u001B[0m\u001B[0;34m,\u001B[0m \u001B[0mcircuits\u001B[0m\u001B[0;34m,\u001B[0m \u001B[0mexecution_config\u001B[0m\u001B[0;34m)\u001B[0m\u001B[0;34m\u001B[0m\u001B[0;34m\u001B[0m\u001B[0m\n\u001B[0m\u001B[1;32m     31\u001B[0m         \u001B[0;32mif\u001B[0m \u001B[0misinstance\u001B[0m\u001B[0;34m(\u001B[0m\u001B[0mcircuits\u001B[0m\u001B[0;34m,\u001B[0m \u001B[0mQuantumScript\u001B[0m\u001B[0;34m)\u001B[0m\u001B[0;34m:\u001B[0m\u001B[0;34m\u001B[0m\u001B[0;34m\u001B[0m\u001B[0m\n\u001B[1;32m     32\u001B[0m             \u001B[0mbatch\u001B[0m \u001B[0;34m=\u001B[0m \u001B[0;34m(\u001B[0m\u001B[0mcircuits\u001B[0m\u001B[0;34m,\u001B[0m\u001B[0;34m)\u001B[0m\u001B[0;34m\u001B[0m\u001B[0;34m\u001B[0m\u001B[0m\n",
      "\u001B[0;32m/usr/local/lib/python3.11/dist-packages/pennylane/devices/modifiers/single_tape_support.py\u001B[0m in \u001B[0;36mexecute\u001B[0;34m(self, circuits, execution_config)\u001B[0m\n\u001B[1;32m     30\u001B[0m             \u001B[0mis_single_circuit\u001B[0m \u001B[0;34m=\u001B[0m \u001B[0;32mTrue\u001B[0m\u001B[0;34m\u001B[0m\u001B[0;34m\u001B[0m\u001B[0m\n\u001B[1;32m     31\u001B[0m             \u001B[0mcircuits\u001B[0m \u001B[0;34m=\u001B[0m \u001B[0;34m(\u001B[0m\u001B[0mcircuits\u001B[0m\u001B[0;34m,\u001B[0m\u001B[0;34m)\u001B[0m\u001B[0;34m\u001B[0m\u001B[0;34m\u001B[0m\u001B[0m\n\u001B[0;32m---> 32\u001B[0;31m         \u001B[0mresults\u001B[0m \u001B[0;34m=\u001B[0m \u001B[0mbatch_execute\u001B[0m\u001B[0;34m(\u001B[0m\u001B[0mself\u001B[0m\u001B[0;34m,\u001B[0m \u001B[0mcircuits\u001B[0m\u001B[0;34m,\u001B[0m \u001B[0mexecution_config\u001B[0m\u001B[0;34m)\u001B[0m\u001B[0;34m\u001B[0m\u001B[0;34m\u001B[0m\u001B[0m\n\u001B[0m\u001B[1;32m     33\u001B[0m         \u001B[0;32mreturn\u001B[0m \u001B[0mresults\u001B[0m\u001B[0;34m[\u001B[0m\u001B[0;36m0\u001B[0m\u001B[0;34m]\u001B[0m \u001B[0;32mif\u001B[0m \u001B[0mis_single_circuit\u001B[0m \u001B[0;32melse\u001B[0m \u001B[0mresults\u001B[0m\u001B[0;34m\u001B[0m\u001B[0;34m\u001B[0m\u001B[0m\n\u001B[1;32m     34\u001B[0m \u001B[0;34m\u001B[0m\u001B[0m\n",
      "\u001B[0;32m/usr/local/lib/python3.11/dist-packages/pennylane/logging/decorators.py\u001B[0m in \u001B[0;36mwrapper_entry\u001B[0;34m(*args, **kwargs)\u001B[0m\n\u001B[1;32m     59\u001B[0m                 \u001B[0;34m**\u001B[0m\u001B[0m_debug_log_kwargs\u001B[0m\u001B[0;34m,\u001B[0m\u001B[0;34m\u001B[0m\u001B[0;34m\u001B[0m\u001B[0m\n\u001B[1;32m     60\u001B[0m             )\n\u001B[0;32m---> 61\u001B[0;31m         \u001B[0;32mreturn\u001B[0m \u001B[0mfunc\u001B[0m\u001B[0;34m(\u001B[0m\u001B[0;34m*\u001B[0m\u001B[0margs\u001B[0m\u001B[0;34m,\u001B[0m \u001B[0;34m**\u001B[0m\u001B[0mkwargs\u001B[0m\u001B[0;34m)\u001B[0m\u001B[0;34m\u001B[0m\u001B[0;34m\u001B[0m\u001B[0m\n\u001B[0m\u001B[1;32m     62\u001B[0m \u001B[0;34m\u001B[0m\u001B[0m\n\u001B[1;32m     63\u001B[0m     \u001B[0;34m@\u001B[0m\u001B[0mwraps\u001B[0m\u001B[0;34m(\u001B[0m\u001B[0mfunc\u001B[0m\u001B[0;34m)\u001B[0m\u001B[0;34m\u001B[0m\u001B[0;34m\u001B[0m\u001B[0m\n",
      "\u001B[0;32m/usr/local/lib/python3.11/dist-packages/pennylane/devices/default_qubit.py\u001B[0m in \u001B[0;36mexecute\u001B[0;34m(self, circuits, execution_config)\u001B[0m\n\u001B[1;32m    628\u001B[0m \u001B[0;34m\u001B[0m\u001B[0m\n\u001B[1;32m    629\u001B[0m         \u001B[0;32mif\u001B[0m \u001B[0mmax_workers\u001B[0m \u001B[0;32mis\u001B[0m \u001B[0;32mNone\u001B[0m\u001B[0;34m:\u001B[0m\u001B[0;34m\u001B[0m\u001B[0;34m\u001B[0m\u001B[0m\n\u001B[0;32m--> 630\u001B[0;31m             return tuple(\n\u001B[0m\u001B[1;32m    631\u001B[0m                 _simulate_wrapper(\n\u001B[1;32m    632\u001B[0m                     \u001B[0mc\u001B[0m\u001B[0;34m,\u001B[0m\u001B[0;34m\u001B[0m\u001B[0;34m\u001B[0m\u001B[0m\n",
      "\u001B[0;32m/usr/local/lib/python3.11/dist-packages/pennylane/devices/default_qubit.py\u001B[0m in \u001B[0;36m<genexpr>\u001B[0;34m(.0)\u001B[0m\n\u001B[1;32m    629\u001B[0m         \u001B[0;32mif\u001B[0m \u001B[0mmax_workers\u001B[0m \u001B[0;32mis\u001B[0m \u001B[0;32mNone\u001B[0m\u001B[0;34m:\u001B[0m\u001B[0;34m\u001B[0m\u001B[0;34m\u001B[0m\u001B[0m\n\u001B[1;32m    630\u001B[0m             return tuple(\n\u001B[0;32m--> 631\u001B[0;31m                 _simulate_wrapper(\n\u001B[0m\u001B[1;32m    632\u001B[0m                     \u001B[0mc\u001B[0m\u001B[0;34m,\u001B[0m\u001B[0;34m\u001B[0m\u001B[0;34m\u001B[0m\u001B[0m\n\u001B[1;32m    633\u001B[0m                     {\n",
      "\u001B[0;32m/usr/local/lib/python3.11/dist-packages/pennylane/devices/default_qubit.py\u001B[0m in \u001B[0;36m_simulate_wrapper\u001B[0;34m(circuit, kwargs)\u001B[0m\n\u001B[1;32m    916\u001B[0m \u001B[0;34m\u001B[0m\u001B[0m\n\u001B[1;32m    917\u001B[0m \u001B[0;32mdef\u001B[0m \u001B[0m_simulate_wrapper\u001B[0m\u001B[0;34m(\u001B[0m\u001B[0mcircuit\u001B[0m\u001B[0;34m,\u001B[0m \u001B[0mkwargs\u001B[0m\u001B[0;34m)\u001B[0m\u001B[0;34m:\u001B[0m\u001B[0;34m\u001B[0m\u001B[0;34m\u001B[0m\u001B[0m\n\u001B[0;32m--> 918\u001B[0;31m     \u001B[0;32mreturn\u001B[0m \u001B[0msimulate\u001B[0m\u001B[0;34m(\u001B[0m\u001B[0mcircuit\u001B[0m\u001B[0;34m,\u001B[0m \u001B[0;34m**\u001B[0m\u001B[0mkwargs\u001B[0m\u001B[0;34m)\u001B[0m\u001B[0;34m\u001B[0m\u001B[0;34m\u001B[0m\u001B[0m\n\u001B[0m\u001B[1;32m    919\u001B[0m \u001B[0;34m\u001B[0m\u001B[0m\n\u001B[1;32m    920\u001B[0m \u001B[0;34m\u001B[0m\u001B[0m\n",
      "\u001B[0;32m/usr/local/lib/python3.11/dist-packages/pennylane/logging/decorators.py\u001B[0m in \u001B[0;36mwrapper_entry\u001B[0;34m(*args, **kwargs)\u001B[0m\n\u001B[1;32m     59\u001B[0m                 \u001B[0;34m**\u001B[0m\u001B[0m_debug_log_kwargs\u001B[0m\u001B[0;34m,\u001B[0m\u001B[0;34m\u001B[0m\u001B[0;34m\u001B[0m\u001B[0m\n\u001B[1;32m     60\u001B[0m             )\n\u001B[0;32m---> 61\u001B[0;31m         \u001B[0;32mreturn\u001B[0m \u001B[0mfunc\u001B[0m\u001B[0;34m(\u001B[0m\u001B[0;34m*\u001B[0m\u001B[0margs\u001B[0m\u001B[0;34m,\u001B[0m \u001B[0;34m**\u001B[0m\u001B[0mkwargs\u001B[0m\u001B[0;34m)\u001B[0m\u001B[0;34m\u001B[0m\u001B[0;34m\u001B[0m\u001B[0m\n\u001B[0m\u001B[1;32m     62\u001B[0m \u001B[0;34m\u001B[0m\u001B[0m\n\u001B[1;32m     63\u001B[0m     \u001B[0;34m@\u001B[0m\u001B[0mwraps\u001B[0m\u001B[0;34m(\u001B[0m\u001B[0mfunc\u001B[0m\u001B[0;34m)\u001B[0m\u001B[0;34m\u001B[0m\u001B[0;34m\u001B[0m\u001B[0m\n",
      "\u001B[0;32m/usr/local/lib/python3.11/dist-packages/pennylane/devices/qubit/simulate.py\u001B[0m in \u001B[0;36msimulate\u001B[0;34m(circuit, debugger, state_cache, **execution_kwargs)\u001B[0m\n\u001B[1;32m    355\u001B[0m \u001B[0;34m\u001B[0m\u001B[0m\n\u001B[1;32m    356\u001B[0m     \u001B[0mops_key\u001B[0m\u001B[0;34m,\u001B[0m \u001B[0mmeas_key\u001B[0m \u001B[0;34m=\u001B[0m \u001B[0mjax_random_split\u001B[0m\u001B[0;34m(\u001B[0m\u001B[0mprng_key\u001B[0m\u001B[0;34m)\u001B[0m\u001B[0;34m\u001B[0m\u001B[0;34m\u001B[0m\u001B[0m\n\u001B[0;32m--> 357\u001B[0;31m     state, is_state_batched = get_final_state(\n\u001B[0m\u001B[1;32m    358\u001B[0m         \u001B[0mcircuit\u001B[0m\u001B[0;34m,\u001B[0m \u001B[0mdebugger\u001B[0m\u001B[0;34m=\u001B[0m\u001B[0mdebugger\u001B[0m\u001B[0;34m,\u001B[0m \u001B[0mprng_key\u001B[0m\u001B[0;34m=\u001B[0m\u001B[0mops_key\u001B[0m\u001B[0;34m,\u001B[0m \u001B[0;34m**\u001B[0m\u001B[0mexecution_kwargs\u001B[0m\u001B[0;34m\u001B[0m\u001B[0;34m\u001B[0m\u001B[0m\n\u001B[1;32m    359\u001B[0m     )\n",
      "\u001B[0;32m/usr/local/lib/python3.11/dist-packages/pennylane/logging/decorators.py\u001B[0m in \u001B[0;36mwrapper_entry\u001B[0;34m(*args, **kwargs)\u001B[0m\n\u001B[1;32m     59\u001B[0m                 \u001B[0;34m**\u001B[0m\u001B[0m_debug_log_kwargs\u001B[0m\u001B[0;34m,\u001B[0m\u001B[0;34m\u001B[0m\u001B[0;34m\u001B[0m\u001B[0m\n\u001B[1;32m     60\u001B[0m             )\n\u001B[0;32m---> 61\u001B[0;31m         \u001B[0;32mreturn\u001B[0m \u001B[0mfunc\u001B[0m\u001B[0;34m(\u001B[0m\u001B[0;34m*\u001B[0m\u001B[0margs\u001B[0m\u001B[0;34m,\u001B[0m \u001B[0;34m**\u001B[0m\u001B[0mkwargs\u001B[0m\u001B[0;34m)\u001B[0m\u001B[0;34m\u001B[0m\u001B[0;34m\u001B[0m\u001B[0m\n\u001B[0m\u001B[1;32m     62\u001B[0m \u001B[0;34m\u001B[0m\u001B[0m\n\u001B[1;32m     63\u001B[0m     \u001B[0;34m@\u001B[0m\u001B[0mwraps\u001B[0m\u001B[0;34m(\u001B[0m\u001B[0mfunc\u001B[0m\u001B[0;34m)\u001B[0m\u001B[0;34m\u001B[0m\u001B[0;34m\u001B[0m\u001B[0m\n",
      "\u001B[0;32m/usr/local/lib/python3.11/dist-packages/pennylane/devices/qubit/simulate.py\u001B[0m in \u001B[0;36mget_final_state\u001B[0;34m(circuit, debugger, **execution_kwargs)\u001B[0m\n\u001B[1;32m    188\u001B[0m         \u001B[0;32mif\u001B[0m \u001B[0misinstance\u001B[0m\u001B[0;34m(\u001B[0m\u001B[0mop\u001B[0m\u001B[0;34m,\u001B[0m \u001B[0mMidMeasureMP\u001B[0m\u001B[0;34m)\u001B[0m\u001B[0;34m:\u001B[0m\u001B[0;34m\u001B[0m\u001B[0;34m\u001B[0m\u001B[0m\n\u001B[1;32m    189\u001B[0m             \u001B[0mprng_key\u001B[0m\u001B[0;34m,\u001B[0m \u001B[0mkey\u001B[0m \u001B[0;34m=\u001B[0m \u001B[0mjax_random_split\u001B[0m\u001B[0;34m(\u001B[0m\u001B[0mprng_key\u001B[0m\u001B[0;34m)\u001B[0m\u001B[0;34m\u001B[0m\u001B[0;34m\u001B[0m\u001B[0m\n\u001B[0;32m--> 190\u001B[0;31m         state = apply_operation(\n\u001B[0m\u001B[1;32m    191\u001B[0m             \u001B[0mop\u001B[0m\u001B[0;34m,\u001B[0m\u001B[0;34m\u001B[0m\u001B[0;34m\u001B[0m\u001B[0m\n\u001B[1;32m    192\u001B[0m             \u001B[0mstate\u001B[0m\u001B[0;34m,\u001B[0m\u001B[0;34m\u001B[0m\u001B[0;34m\u001B[0m\u001B[0m\n",
      "\u001B[0;32m/usr/lib/python3.11/functools.py\u001B[0m in \u001B[0;36mwrapper\u001B[0;34m(*args, **kw)\u001B[0m\n\u001B[1;32m    907\u001B[0m                             '1 positional argument')\n\u001B[1;32m    908\u001B[0m \u001B[0;34m\u001B[0m\u001B[0m\n\u001B[0;32m--> 909\u001B[0;31m         \u001B[0;32mreturn\u001B[0m \u001B[0mdispatch\u001B[0m\u001B[0;34m(\u001B[0m\u001B[0margs\u001B[0m\u001B[0;34m[\u001B[0m\u001B[0;36m0\u001B[0m\u001B[0;34m]\u001B[0m\u001B[0;34m.\u001B[0m\u001B[0m__class__\u001B[0m\u001B[0;34m)\u001B[0m\u001B[0;34m(\u001B[0m\u001B[0;34m*\u001B[0m\u001B[0margs\u001B[0m\u001B[0;34m,\u001B[0m \u001B[0;34m**\u001B[0m\u001B[0mkw\u001B[0m\u001B[0;34m)\u001B[0m\u001B[0;34m\u001B[0m\u001B[0;34m\u001B[0m\u001B[0m\n\u001B[0m\u001B[1;32m    910\u001B[0m \u001B[0;34m\u001B[0m\u001B[0m\n\u001B[1;32m    911\u001B[0m     \u001B[0mfuncname\u001B[0m \u001B[0;34m=\u001B[0m \u001B[0mgetattr\u001B[0m\u001B[0;34m(\u001B[0m\u001B[0mfunc\u001B[0m\u001B[0;34m,\u001B[0m \u001B[0;34m'__name__'\u001B[0m\u001B[0;34m,\u001B[0m \u001B[0;34m'singledispatch function'\u001B[0m\u001B[0;34m)\u001B[0m\u001B[0;34m\u001B[0m\u001B[0;34m\u001B[0m\u001B[0m\n",
      "\u001B[0;32m/usr/local/lib/python3.11/dist-packages/pennylane/devices/qubit/apply_operation.py\u001B[0m in \u001B[0;36mapply_operation\u001B[0;34m(op, state, is_state_batched, debugger, **_)\u001B[0m\n\u001B[1;32m    229\u001B[0m \u001B[0;34m\u001B[0m\u001B[0m\n\u001B[1;32m    230\u001B[0m     \"\"\"\n\u001B[0;32m--> 231\u001B[0;31m     \u001B[0;32mreturn\u001B[0m \u001B[0m_apply_operation_default\u001B[0m\u001B[0;34m(\u001B[0m\u001B[0mop\u001B[0m\u001B[0;34m,\u001B[0m \u001B[0mstate\u001B[0m\u001B[0;34m,\u001B[0m \u001B[0mis_state_batched\u001B[0m\u001B[0;34m,\u001B[0m \u001B[0mdebugger\u001B[0m\u001B[0;34m)\u001B[0m\u001B[0;34m\u001B[0m\u001B[0;34m\u001B[0m\u001B[0m\n\u001B[0m\u001B[1;32m    232\u001B[0m \u001B[0;34m\u001B[0m\u001B[0m\n\u001B[1;32m    233\u001B[0m \u001B[0;34m\u001B[0m\u001B[0m\n",
      "\u001B[0;32m/usr/local/lib/python3.11/dist-packages/pennylane/devices/qubit/apply_operation.py\u001B[0m in \u001B[0;36m_apply_operation_default\u001B[0;34m(op, state, is_state_batched, debugger)\u001B[0m\n\u001B[1;32m    239\u001B[0m         \u001B[0;32mand\u001B[0m \u001B[0mmath\u001B[0m\u001B[0;34m.\u001B[0m\u001B[0mndim\u001B[0m\u001B[0;34m(\u001B[0m\u001B[0mstate\u001B[0m\u001B[0;34m)\u001B[0m \u001B[0;34m<\u001B[0m \u001B[0mEINSUM_STATE_WIRECOUNT_PERF_THRESHOLD\u001B[0m\u001B[0;34m\u001B[0m\u001B[0;34m\u001B[0m\u001B[0m\n\u001B[1;32m    240\u001B[0m     ) or (op.batch_size and is_state_batched):\n\u001B[0;32m--> 241\u001B[0;31m         \u001B[0;32mreturn\u001B[0m \u001B[0mapply_operation_einsum\u001B[0m\u001B[0;34m(\u001B[0m\u001B[0mop\u001B[0m\u001B[0;34m,\u001B[0m \u001B[0mstate\u001B[0m\u001B[0;34m,\u001B[0m \u001B[0mis_state_batched\u001B[0m\u001B[0;34m=\u001B[0m\u001B[0mis_state_batched\u001B[0m\u001B[0;34m)\u001B[0m\u001B[0;34m\u001B[0m\u001B[0;34m\u001B[0m\u001B[0m\n\u001B[0m\u001B[1;32m    242\u001B[0m     \u001B[0;32mreturn\u001B[0m \u001B[0mapply_operation_tensordot\u001B[0m\u001B[0;34m(\u001B[0m\u001B[0mop\u001B[0m\u001B[0;34m,\u001B[0m \u001B[0mstate\u001B[0m\u001B[0;34m,\u001B[0m \u001B[0mis_state_batched\u001B[0m\u001B[0;34m=\u001B[0m\u001B[0mis_state_batched\u001B[0m\u001B[0;34m)\u001B[0m\u001B[0;34m\u001B[0m\u001B[0;34m\u001B[0m\u001B[0m\n\u001B[1;32m    243\u001B[0m \u001B[0;34m\u001B[0m\u001B[0m\n",
      "\u001B[0;32m/usr/local/lib/python3.11/dist-packages/pennylane/devices/qubit/apply_operation.py\u001B[0m in \u001B[0;36mapply_operation_einsum\u001B[0;34m(op, state, is_state_batched)\u001B[0m\n\u001B[1;32m    106\u001B[0m     \u001B[0mreshaped_mat\u001B[0m \u001B[0;34m=\u001B[0m \u001B[0mmath\u001B[0m\u001B[0;34m.\u001B[0m\u001B[0mreshape\u001B[0m\u001B[0;34m(\u001B[0m\u001B[0mmat\u001B[0m\u001B[0;34m,\u001B[0m \u001B[0mnew_mat_shape\u001B[0m\u001B[0;34m)\u001B[0m\u001B[0;34m\u001B[0m\u001B[0;34m\u001B[0m\u001B[0m\n\u001B[1;32m    107\u001B[0m \u001B[0;34m\u001B[0m\u001B[0m\n\u001B[0;32m--> 108\u001B[0;31m     \u001B[0;32mreturn\u001B[0m \u001B[0mmath\u001B[0m\u001B[0;34m.\u001B[0m\u001B[0meinsum\u001B[0m\u001B[0;34m(\u001B[0m\u001B[0meinsum_indices\u001B[0m\u001B[0;34m,\u001B[0m \u001B[0mreshaped_mat\u001B[0m\u001B[0;34m,\u001B[0m \u001B[0mstate\u001B[0m\u001B[0;34m)\u001B[0m\u001B[0;34m\u001B[0m\u001B[0;34m\u001B[0m\u001B[0m\n\u001B[0m\u001B[1;32m    109\u001B[0m \u001B[0;34m\u001B[0m\u001B[0m\n\u001B[1;32m    110\u001B[0m \u001B[0;34m\u001B[0m\u001B[0m\n",
      "\u001B[0;32m/usr/local/lib/python3.11/dist-packages/pennylane/math/multi_dispatch.py\u001B[0m in \u001B[0;36meinsum\u001B[0;34m(indices, like, optimize, *operands)\u001B[0m\n\u001B[1;32m    556\u001B[0m     \u001B[0;32mif\u001B[0m \u001B[0moptimize\u001B[0m \u001B[0;32mis\u001B[0m \u001B[0;32mNone\u001B[0m \u001B[0;32mor\u001B[0m \u001B[0mlike\u001B[0m \u001B[0;34m==\u001B[0m \u001B[0;34m\"torch\"\u001B[0m\u001B[0;34m:\u001B[0m\u001B[0;34m\u001B[0m\u001B[0;34m\u001B[0m\u001B[0m\n\u001B[1;32m    557\u001B[0m         \u001B[0;31m# torch einsum doesn't support the optimize keyword argument\u001B[0m\u001B[0;34m\u001B[0m\u001B[0;34m\u001B[0m\u001B[0m\n\u001B[0;32m--> 558\u001B[0;31m         \u001B[0;32mreturn\u001B[0m \u001B[0mnp\u001B[0m\u001B[0;34m.\u001B[0m\u001B[0meinsum\u001B[0m\u001B[0;34m(\u001B[0m\u001B[0mindices\u001B[0m\u001B[0;34m,\u001B[0m \u001B[0;34m*\u001B[0m\u001B[0moperands\u001B[0m\u001B[0;34m,\u001B[0m \u001B[0mlike\u001B[0m\u001B[0;34m=\u001B[0m\u001B[0mlike\u001B[0m\u001B[0;34m)\u001B[0m\u001B[0;34m\u001B[0m\u001B[0;34m\u001B[0m\u001B[0m\n\u001B[0m\u001B[1;32m    559\u001B[0m     \u001B[0;32mif\u001B[0m \u001B[0mlike\u001B[0m \u001B[0;34m==\u001B[0m \u001B[0;34m\"tensorflow\"\u001B[0m\u001B[0;34m:\u001B[0m\u001B[0;34m\u001B[0m\u001B[0;34m\u001B[0m\u001B[0m\n\u001B[1;32m    560\u001B[0m         \u001B[0;31m# Unpacking and casting necessary for higher order derivatives,\u001B[0m\u001B[0;34m\u001B[0m\u001B[0;34m\u001B[0m\u001B[0m\n",
      "\u001B[0;32m/usr/local/lib/python3.11/dist-packages/autoray/autoray.py\u001B[0m in \u001B[0;36mdo\u001B[0;34m(fn, like, *args, **kwargs)\u001B[0m\n\u001B[1;32m     79\u001B[0m     \u001B[0mbackend\u001B[0m \u001B[0;34m=\u001B[0m \u001B[0m_choose_backend\u001B[0m\u001B[0;34m(\u001B[0m\u001B[0mfn\u001B[0m\u001B[0;34m,\u001B[0m \u001B[0margs\u001B[0m\u001B[0;34m,\u001B[0m \u001B[0mkwargs\u001B[0m\u001B[0;34m,\u001B[0m \u001B[0mlike\u001B[0m\u001B[0;34m=\u001B[0m\u001B[0mlike\u001B[0m\u001B[0;34m)\u001B[0m\u001B[0;34m\u001B[0m\u001B[0;34m\u001B[0m\u001B[0m\n\u001B[1;32m     80\u001B[0m     \u001B[0mfunc\u001B[0m \u001B[0;34m=\u001B[0m \u001B[0mget_lib_fn\u001B[0m\u001B[0;34m(\u001B[0m\u001B[0mbackend\u001B[0m\u001B[0;34m,\u001B[0m \u001B[0mfn\u001B[0m\u001B[0;34m)\u001B[0m\u001B[0;34m\u001B[0m\u001B[0;34m\u001B[0m\u001B[0m\n\u001B[0;32m---> 81\u001B[0;31m     \u001B[0;32mreturn\u001B[0m \u001B[0mfunc\u001B[0m\u001B[0;34m(\u001B[0m\u001B[0;34m*\u001B[0m\u001B[0margs\u001B[0m\u001B[0;34m,\u001B[0m \u001B[0;34m**\u001B[0m\u001B[0mkwargs\u001B[0m\u001B[0;34m)\u001B[0m\u001B[0;34m\u001B[0m\u001B[0;34m\u001B[0m\u001B[0m\n\u001B[0m\u001B[1;32m     82\u001B[0m \u001B[0;34m\u001B[0m\u001B[0m\n\u001B[1;32m     83\u001B[0m \u001B[0;34m\u001B[0m\u001B[0m\n",
      "\u001B[0;32m/usr/local/lib/python3.11/dist-packages/torch/functional.py\u001B[0m in \u001B[0;36meinsum\u001B[0;34m(*args)\u001B[0m\n\u001B[1;32m    405\u001B[0m         \u001B[0;31m# the path for contracting 0 or 1 time(s) is already optimized\u001B[0m\u001B[0;34m\u001B[0m\u001B[0;34m\u001B[0m\u001B[0m\n\u001B[1;32m    406\u001B[0m         \u001B[0;31m# or the user has disabled using opt_einsum\u001B[0m\u001B[0;34m\u001B[0m\u001B[0;34m\u001B[0m\u001B[0m\n\u001B[0;32m--> 407\u001B[0;31m         \u001B[0;32mreturn\u001B[0m \u001B[0m_VF\u001B[0m\u001B[0;34m.\u001B[0m\u001B[0meinsum\u001B[0m\u001B[0;34m(\u001B[0m\u001B[0mequation\u001B[0m\u001B[0;34m,\u001B[0m \u001B[0moperands\u001B[0m\u001B[0;34m)\u001B[0m  \u001B[0;31m# type: ignore[attr-defined]\u001B[0m\u001B[0;34m\u001B[0m\u001B[0;34m\u001B[0m\u001B[0m\n\u001B[0m\u001B[1;32m    408\u001B[0m \u001B[0;34m\u001B[0m\u001B[0m\n\u001B[1;32m    409\u001B[0m     \u001B[0mpath\u001B[0m \u001B[0;34m=\u001B[0m \u001B[0;32mNone\u001B[0m\u001B[0;34m\u001B[0m\u001B[0;34m\u001B[0m\u001B[0m\n",
      "\u001B[0;31mKeyboardInterrupt\u001B[0m: "
     ]
    }
   ],
   "source": [
    "train_losses = []\n",
    "train_accs = []\n",
    "test_accs = []\n",
    "\n",
    "epochs = 10\n",
    "for epoch in range(1, epochs):\n",
    "    loss, train_acc = train_mutag(model, train_loader, optimizer, criterion, device)\n",
    "    test_acc = test_mutag(model, test_loader, device)\n",
    "\n",
    "    scheduler.step()\n",
    "    train_losses.append(loss)\n",
    "    train_accs.append(train_acc)\n",
    "    test_accs.append(test_acc)\n",
    "\n",
    "    print(f\"Epoch {epoch:03d}, Loss: {loss:.4f}, Train Acc: {train_acc:.4f}, Test Acc: {test_acc:.4f}\")"
   ]
  },
  {
   "cell_type": "code",
   "execution_count": null,
   "metadata": {
    "id": "JHu_exFdW8KZ"
   },
   "outputs": [],
   "source": [
    "import matplotlib.pyplot as plt\n",
    "\n",
    "plt.figure(figsize=(12, 4))\n",
    "\n",
    "plt.subplot(1, 2, 1)\n",
    "plt.plot(train_losses, label='Loss')\n",
    "plt.xlabel('Epoch')\n",
    "plt.ylabel('Loss')\n",
    "plt.title('Training Loss')\n",
    "plt.legend()\n",
    "\n",
    "plt.subplot(1, 2, 2)\n",
    "plt.plot(train_accs, label='Train Acc')\n",
    "plt.plot(test_accs, label='Test Acc')\n",
    "plt.xlabel('Epoch')\n",
    "plt.ylabel('Accuracy')\n",
    "plt.title('Train vs Test Accuracy')\n",
    "plt.legend()\n",
    "\n",
    "plt.tight_layout()\n",
    "plt.show()\n"
   ]
  },
  {
   "cell_type": "code",
   "execution_count": null,
   "metadata": {
    "id": "GYqDMmoAPES5"
   },
   "outputs": [],
   "source": [
    "total_label = 0\n",
    "num_batch = 0\n",
    "for _, _, opt_sinr, _ in train_loader:\n",
    "    total_label += opt_sinr\n",
    "    num_batch += 1\n",
    "train_label = total_label/num_batch\n",
    "\n",
    "total_label = 0\n",
    "num_batch = 0\n",
    "for _, _, opt_sinr, _ in test_loader:\n",
    "    total_label += opt_sinr\n",
    "    num_batch += 1\n",
    "test_label = total_label/num_batch"
   ]
  },
  {
   "cell_type": "code",
   "execution_count": null,
   "metadata": {
    "id": "SPCUabl-PES5"
   },
   "outputs": [],
   "source": [
    "import matplotlib.pyplot as plt\n",
    "\n",
    "\n",
    "plt.rc(\"text\", usetex=True)\n",
    "plt.rcParams['mathtext.fontset'] = 'cm'\n",
    "plt.rcParams['font.family'] = 'STIXGeneral'\n",
    "plt.rcParams.update({'font.size': 14})\n",
    "\n",
    "plt.figure(figsize=(10, 6))\n",
    "plt.plot(range(1, num_epochs+1), training_sinr, label='Training Sum Rate', marker='o', color='b')\n",
    "plt.plot(range(1, num_epochs+1), testing_sinr, label='Testing Sum Rate', marker='s', color='r')\n",
    "# plt.axhline(y=train_label, color='black', linestyle='-', label='Optimal SINR')\n",
    "plt.axhline(y=train_label, color='black', linestyle='-', label='WMMSE')\n",
    "\n",
    "plt.title('Unsupervised Setting')\n",
    "plt.xlabel('Epoch')\n",
    "plt.ylabel('SINR')\n",
    "plt.xticks(range(1, num_epochs+1))\n",
    "plt.legend()\n",
    "plt.grid(True)\n",
    "plt.show()"
   ]
  },
  {
   "cell_type": "code",
   "execution_count": null,
   "metadata": {
    "id": "kzQ7d7i_Givy"
   },
   "outputs": [],
   "source": [
    "eval_sam = 200\n",
    "eval_dataset = d2dDataset(num_samples=eval_sam, num_D2D=num_nodes, p_max=p, n0=var, seed=303)\n",
    "eval_loader = DataLoader(eval_dataset, batch_size=1, shuffle=False)\n",
    "\n",
    "total_label = 0\n",
    "num_batch = 0\n",
    "for _, _, opt_sinr, _ in eval_loader:\n",
    "    total_label += opt_sinr\n",
    "    num_batch += 1\n",
    "eval_label = total_label/num_batch\n",
    "\n",
    "# avg_eval_sinr = test(model_sup, eval_loader)\n",
    "avg_eval_sinr_star = test(model_star, eval_loader)"
   ]
  },
  {
   "cell_type": "code",
   "execution_count": null,
   "metadata": {
    "id": "V-cuwdkjGivy"
   },
   "outputs": [],
   "source": [
    "print(f'Average sum SINR by optimal algorithm: {eval_label.item():.4f}')\n",
    "# print(f'Average sum SINR by sup-QGNN: {avg_eval_sinr:.4f} - {(avg_eval_sinr/eval_label.item() * 100):.2f}%')\n",
    "print(f'Average sum SINR by unsup-QGNN: {avg_eval_sinr_star:.4f} - {(avg_eval_sinr_star/eval_label.item() * 100):.2f}%')"
   ]
  },
  {
   "cell_type": "code",
   "execution_count": null,
   "metadata": {
    "id": "-fGPCX7PSoCF"
   },
   "outputs": [],
   "source": [
    "torch.save({\n",
    "    'model_state_dict': model_star.state_dict(),\n",
    "    'optimizer_state_dict': optimizer_star.state_dict(),\n",
    "    'scheduler_state_dict': scheduler_star.state_dict()\n",
    "}, \"qgnn_model_star.pth\")"
   ]
  },
  {
   "cell_type": "markdown",
   "metadata": {
    "id": "vyHPxPjpObAw"
   },
   "source": [
    "# Maybe using some classification head fo final layer."
   ]
  }
 ],
 "metadata": {
  "colab": {
   "provenance": [],
   "toc_visible": true
  },
  "kernelspec": {
   "display_name": "Python 3",
   "name": "python3"
  },
  "language_info": {
   "name": "python"
  }
 },
 "nbformat": 4,
 "nbformat_minor": 0
}
